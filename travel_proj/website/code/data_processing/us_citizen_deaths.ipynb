{
 "cells": [
  {
   "cell_type": "markdown",
   "id": "775b178f",
   "metadata": {},
   "source": [
    "### U.S. Citizen Deaths Overseas\n",
    "\n",
    "https://travel.state.gov/content/travel/en/international-travel/while-abroad/death-abroad1/death-statistics.html\n",
    "\n",
    "Data is available from October 2002 to December 2022.\n"
   ]
  },
  {
   "cell_type": "code",
   "execution_count": 3,
   "id": "4943bf99",
   "metadata": {},
   "outputs": [
    {
     "name": "stdout",
     "output_type": "stream",
     "text": [
      "         Date                  City    Cause of Death\n",
      "0  10/25/2003  Shkin -  Afghanistan  Terrorist Action\n",
      "1  10/25/2003  Shkin -  Afghanistan  Terrorist Action\n",
      "2  08/29/2004  Kabul -  Afghanistan  Terrorist Action\n",
      "3  08/29/2004  Kabul -  Afghanistan  Terrorist Action\n",
      "4  08/29/2004  Kabul -  Afghanistan  Terrorist Action\n"
     ]
    }
   ],
   "source": [
    "import pandas as pd\n",
    "\n",
    "df = pd.read_csv('../../data/raw/us_citizen_deaths_overseas.csv', encoding='latin1')\n",
    "print(df.head())"
   ]
  },
  {
   "cell_type": "code",
   "execution_count": 4,
   "id": "a00c99f6",
   "metadata": {},
   "outputs": [
    {
     "data": {
      "text/plain": [
       "Date              object\n",
       "City              object\n",
       "Cause of Death    object\n",
       "dtype: object"
      ]
     },
     "execution_count": 4,
     "metadata": {},
     "output_type": "execute_result"
    }
   ],
   "source": [
    "df.dtypes"
   ]
  },
  {
   "cell_type": "code",
   "execution_count": null,
   "id": "8a1c3398",
   "metadata": {},
   "outputs": [],
   "source": [
    "df['Date'] = pd.to_datetime(df['Date'], errors='coerce') # datetime format\n",
    "df['Country'] = df['City'].str.split('-').str[-1].str.strip() # extract country\n",
    "df['City'] = df['City'].str.split('-').str[0].str.strip() # extract city\n",
    "df.columns = df.columns.str.lower().str.replace(' ', '_') # standardize column names"
   ]
  },
  {
   "cell_type": "code",
   "execution_count": 7,
   "id": "6f8b82e7",
   "metadata": {},
   "outputs": [],
   "source": [
    "df['year'] = df['date'].dt.year\n",
    "df['month'] = df['date'].dt.to_period('M')"
   ]
  },
  {
   "cell_type": "code",
   "execution_count": 8,
   "id": "53742d31",
   "metadata": {},
   "outputs": [
    {
     "data": {
      "text/html": [
       "<div>\n",
       "<style scoped>\n",
       "    .dataframe tbody tr th:only-of-type {\n",
       "        vertical-align: middle;\n",
       "    }\n",
       "\n",
       "    .dataframe tbody tr th {\n",
       "        vertical-align: top;\n",
       "    }\n",
       "\n",
       "    .dataframe thead th {\n",
       "        text-align: right;\n",
       "    }\n",
       "</style>\n",
       "<table border=\"1\" class=\"dataframe\">\n",
       "  <thead>\n",
       "    <tr style=\"text-align: right;\">\n",
       "      <th></th>\n",
       "      <th>date</th>\n",
       "      <th>city</th>\n",
       "      <th>cause_of_death</th>\n",
       "      <th>country</th>\n",
       "      <th>year</th>\n",
       "      <th>month</th>\n",
       "    </tr>\n",
       "  </thead>\n",
       "  <tbody>\n",
       "    <tr>\n",
       "      <th>0</th>\n",
       "      <td>2003-10-25</td>\n",
       "      <td>Shkin</td>\n",
       "      <td>Terrorist Action</td>\n",
       "      <td>Afghanistan</td>\n",
       "      <td>2003</td>\n",
       "      <td>2003-10</td>\n",
       "    </tr>\n",
       "    <tr>\n",
       "      <th>1</th>\n",
       "      <td>2003-10-25</td>\n",
       "      <td>Shkin</td>\n",
       "      <td>Terrorist Action</td>\n",
       "      <td>Afghanistan</td>\n",
       "      <td>2003</td>\n",
       "      <td>2003-10</td>\n",
       "    </tr>\n",
       "    <tr>\n",
       "      <th>2</th>\n",
       "      <td>2004-08-29</td>\n",
       "      <td>Kabul</td>\n",
       "      <td>Terrorist Action</td>\n",
       "      <td>Afghanistan</td>\n",
       "      <td>2004</td>\n",
       "      <td>2004-08</td>\n",
       "    </tr>\n",
       "    <tr>\n",
       "      <th>3</th>\n",
       "      <td>2004-08-29</td>\n",
       "      <td>Kabul</td>\n",
       "      <td>Terrorist Action</td>\n",
       "      <td>Afghanistan</td>\n",
       "      <td>2004</td>\n",
       "      <td>2004-08</td>\n",
       "    </tr>\n",
       "    <tr>\n",
       "      <th>4</th>\n",
       "      <td>2004-08-29</td>\n",
       "      <td>Kabul</td>\n",
       "      <td>Terrorist Action</td>\n",
       "      <td>Afghanistan</td>\n",
       "      <td>2004</td>\n",
       "      <td>2004-08</td>\n",
       "    </tr>\n",
       "  </tbody>\n",
       "</table>\n",
       "</div>"
      ],
      "text/plain": [
       "        date   city    cause_of_death      country  year    month\n",
       "0 2003-10-25  Shkin  Terrorist Action  Afghanistan  2003  2003-10\n",
       "1 2003-10-25  Shkin  Terrorist Action  Afghanistan  2003  2003-10\n",
       "2 2004-08-29  Kabul  Terrorist Action  Afghanistan  2004  2004-08\n",
       "3 2004-08-29  Kabul  Terrorist Action  Afghanistan  2004  2004-08\n",
       "4 2004-08-29  Kabul  Terrorist Action  Afghanistan  2004  2004-08"
      ]
     },
     "execution_count": 8,
     "metadata": {},
     "output_type": "execute_result"
    }
   ],
   "source": [
    "df.head()"
   ]
  },
  {
   "cell_type": "code",
   "execution_count": 10,
   "id": "5159513d",
   "metadata": {},
   "outputs": [],
   "source": [
    "df.to_csv('../../data/processed/us_citizen_deaths_overseas_processed.csv', index=False)"
   ]
  }
 ],
 "metadata": {
  "kernelspec": {
   "display_name": "base",
   "language": "python",
   "name": "python3"
  },
  "language_info": {
   "codemirror_mode": {
    "name": "ipython",
    "version": 3
   },
   "file_extension": ".py",
   "mimetype": "text/x-python",
   "name": "python",
   "nbconvert_exporter": "python",
   "pygments_lexer": "ipython3",
   "version": "3.11.5"
  }
 },
 "nbformat": 4,
 "nbformat_minor": 5
}
