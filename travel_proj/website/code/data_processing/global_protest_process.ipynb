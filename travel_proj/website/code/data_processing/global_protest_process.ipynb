{
 "cells": [
  {
   "cell_type": "code",
   "execution_count": 1,
   "metadata": {},
   "outputs": [],
   "source": [
    "import pandas as pd"
   ]
  },
  {
   "cell_type": "code",
   "execution_count": 2,
   "metadata": {},
   "outputs": [],
   "source": [
    "df = pd.read_excel(\"../../data/raw/Global_Protest_Tracker.xlsx\")"
   ]
  },
  {
   "cell_type": "code",
   "execution_count": 3,
   "metadata": {},
   "outputs": [
    {
     "data": {
      "text/plain": [
       "Country                                     object\n",
       "Protest Name                                object\n",
       "Start Date                                  object\n",
       "Freedom Rating (Status)                     object\n",
       "Triggers                                    object\n",
       "Motivations                                 object\n",
       "Peak Size                                   object\n",
       "Key Participants                            object\n",
       "Duration                                    object\n",
       "Outcomes                                    object\n",
       "Active protests                             object\n",
       "Economic motivation?                        object\n",
       "Political motivation?                       object\n",
       "Corruption motivation?                      object\n",
       "Gender motivation?                          object\n",
       "Size category                               object\n",
       "Protests with a significant outcome         object\n",
       "Large protests (Over 100,000 protesting)    object\n",
       "Violent government response                 object\n",
       "Long protests (more than 3 months)          object\n",
       "Coronavirus-related protests                object\n",
       "Capital city                                object\n",
       "dtype: object"
      ]
     },
     "execution_count": 3,
     "metadata": {},
     "output_type": "execute_result"
    }
   ],
   "source": [
    "df.dtypes"
   ]
  },
  {
   "cell_type": "code",
   "execution_count": null,
   "metadata": {},
   "outputs": [],
   "source": [
    "# Change specific columns to str\n",
    "df[\"Country\"] = df[\"Country\"].astype(str)\n",
    "df[\"Protest Name\"] = df[\"Protest Name\"].astype(str)\n",
    "df[\"Start Date\"] = df[\"Start Date\"].astype(str)\n",
    "df[\"Triggers\"] = df[\"Triggers\"].astype(str)\n",
    "df[\"Motivations\"] = df[\"Motivations\"].astype(str)\n",
    "df[\"Peak Size\"] = df[\"Peak Size\"].astype(str)\n",
    "df[\"Duration\"] = df[\"Duration\"].astype(str)\n",
    "df[\"Outcomes\"] = df[\"Outcomes\"].astype(str)\n",
    "df[\"Size category\"] = df[\"Size category\"].astype(str)"
   ]
  },
  {
   "cell_type": "code",
   "execution_count": null,
   "metadata": {},
   "outputs": [],
   "source": [
    "# Drop unrelated columns\n",
    "cols_to_drop = [\n",
    "    \"Key Participants\",\n",
    "    \"Freedom Rating (Status)\",\n",
    "    \"Economic motivation?\",\n",
    "    \"Political motivation?\",\n",
    "    \"Corruption motivation?\",\n",
    "    \"Gender motivation?\",\n",
    "    \"Coronavirus-related protests\",\n",
    "    \"Capital city\"\n",
    "]\n"
   ]
  },
  {
   "cell_type": "code",
   "execution_count": 6,
   "metadata": {},
   "outputs": [],
   "source": [
    "df = df.drop(columns=cols_to_drop)"
   ]
  },
  {
   "cell_type": "code",
   "execution_count": 7,
   "metadata": {},
   "outputs": [],
   "source": [
    "df.to_csv(\"../../data/processed/Global_Protest_Processed.csv\", index=False)"
   ]
  },
  {
   "cell_type": "code",
   "execution_count": null,
   "metadata": {},
   "outputs": [],
   "source": []
  }
 ],
 "metadata": {
  "kernelspec": {
   "display_name": "Python 3",
   "language": "python",
   "name": "python3"
  },
  "language_info": {
   "codemirror_mode": {
    "name": "ipython",
    "version": 3
   },
   "file_extension": ".py",
   "mimetype": "text/x-python",
   "name": "python",
   "nbconvert_exporter": "python",
   "pygments_lexer": "ipython3",
   "version": "3.13.2"
  }
 },
 "nbformat": 4,
 "nbformat_minor": 2
}
