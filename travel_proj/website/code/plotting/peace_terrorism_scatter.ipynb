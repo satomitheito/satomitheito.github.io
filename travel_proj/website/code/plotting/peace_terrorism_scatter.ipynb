{
 "cells": [
  {
   "cell_type": "markdown",
   "id": "563595ec",
   "metadata": {},
   "source": [
    "### Global Peace Index vs Advisory Level\n"
   ]
  },
  {
   "cell_type": "code",
   "execution_count": 3,
   "id": "e8a58e85",
   "metadata": {},
   "outputs": [],
   "source": [
    "import pandas as pd\n",
    "import plotly.express as px\n",
    "\n",
    "# GPI\n",
    "gpi = pd.read_csv('../../../data/processed/Global_Peace_Index_Processed.csv')\n",
    "gpi_long = gpi.melt(id_vars=\"country\", var_name=\"year\", value_name=\"gpi_score\")\n",
    "gpi_long['year'] = gpi_long['year'].str.extract(r'(\\d{4})').astype(int)\n",
    "\n",
    "# GTI\n",
    "gti = pd.read_csv('../../../data/processed/Global_Terrorism_Index_Processed.csv')\n",
    "gti_long = gti.melt(id_vars=\"country\", var_name=\"year\", value_name=\"gti_score\")\n",
    "gti_long['year'] = gti_long['year'].str.extract(r'(\\d{4})').astype(int)\n",
    "\n",
    "# travel advisories\n",
    "advisory = pd.read_csv('../../../data/processed/Travel_Advisories_Processed.csv')\n",
    "advisory.columns = advisory.columns.str.lower()\n",
    "advisory['country'] = advisory['country'].str.strip()\n",
    "advisory_latest = advisory.sort_values('date updated').drop_duplicates(subset='country', keep='last')\n",
    "advisory_latest = advisory_latest[['country', 'advisory level number']].rename(columns={'advisory level number': 'advisory_level'})\n",
    "\n",
    "# merge\n",
    "merged = gpi_long.merge(gti_long, on=[\"country\", \"year\"], how=\"outer\")\n",
    "merged = merged.merge(advisory_latest, on=\"country\", how=\"left\")\n",
    "merged_clean = merged.dropna(subset=[\"advisory_level\"])\n",
    "merged_clean = merged_clean[merged_clean['advisory_level'] == 4.0]"
   ]
  },
  {
   "cell_type": "code",
   "execution_count": 7,
   "id": "a614704f",
   "metadata": {},
   "outputs": [
    {
     "data": {
      "text/html": [
       "<div>\n",
       "<style scoped>\n",
       "    .dataframe tbody tr th:only-of-type {\n",
       "        vertical-align: middle;\n",
       "    }\n",
       "\n",
       "    .dataframe tbody tr th {\n",
       "        vertical-align: top;\n",
       "    }\n",
       "\n",
       "    .dataframe thead th {\n",
       "        text-align: right;\n",
       "    }\n",
       "</style>\n",
       "<table border=\"1\" class=\"dataframe\">\n",
       "  <thead>\n",
       "    <tr style=\"text-align: right;\">\n",
       "      <th></th>\n",
       "      <th>country</th>\n",
       "      <th>year</th>\n",
       "      <th>gpi_score</th>\n",
       "      <th>gti_score</th>\n",
       "      <th>advisory_level</th>\n",
       "    </tr>\n",
       "  </thead>\n",
       "  <tbody>\n",
       "    <tr>\n",
       "      <th>0</th>\n",
       "      <td>Afghanistan</td>\n",
       "      <td>2008</td>\n",
       "      <td>3.218</td>\n",
       "      <td>NaN</td>\n",
       "      <td>4.0</td>\n",
       "    </tr>\n",
       "    <tr>\n",
       "      <th>1</th>\n",
       "      <td>Afghanistan</td>\n",
       "      <td>2009</td>\n",
       "      <td>3.296</td>\n",
       "      <td>NaN</td>\n",
       "      <td>4.0</td>\n",
       "    </tr>\n",
       "    <tr>\n",
       "      <th>2</th>\n",
       "      <td>Afghanistan</td>\n",
       "      <td>2010</td>\n",
       "      <td>3.201</td>\n",
       "      <td>NaN</td>\n",
       "      <td>4.0</td>\n",
       "    </tr>\n",
       "    <tr>\n",
       "      <th>3</th>\n",
       "      <td>Afghanistan</td>\n",
       "      <td>2011</td>\n",
       "      <td>3.212</td>\n",
       "      <td>8.784</td>\n",
       "      <td>4.0</td>\n",
       "    </tr>\n",
       "    <tr>\n",
       "      <th>4</th>\n",
       "      <td>Afghanistan</td>\n",
       "      <td>2012</td>\n",
       "      <td>3.265</td>\n",
       "      <td>8.825</td>\n",
       "      <td>4.0</td>\n",
       "    </tr>\n",
       "    <tr>\n",
       "      <th>...</th>\n",
       "      <td>...</td>\n",
       "      <td>...</td>\n",
       "      <td>...</td>\n",
       "      <td>...</td>\n",
       "      <td>...</td>\n",
       "    </tr>\n",
       "    <tr>\n",
       "      <th>2732</th>\n",
       "      <td>Yemen</td>\n",
       "      <td>2020</td>\n",
       "      <td>3.406</td>\n",
       "      <td>5.333</td>\n",
       "      <td>4.0</td>\n",
       "    </tr>\n",
       "    <tr>\n",
       "      <th>2733</th>\n",
       "      <td>Yemen</td>\n",
       "      <td>2021</td>\n",
       "      <td>3.515</td>\n",
       "      <td>5.022</td>\n",
       "      <td>4.0</td>\n",
       "    </tr>\n",
       "    <tr>\n",
       "      <th>2734</th>\n",
       "      <td>Yemen</td>\n",
       "      <td>2022</td>\n",
       "      <td>3.595</td>\n",
       "      <td>4.708</td>\n",
       "      <td>4.0</td>\n",
       "    </tr>\n",
       "    <tr>\n",
       "      <th>2735</th>\n",
       "      <td>Yemen</td>\n",
       "      <td>2023</td>\n",
       "      <td>3.322</td>\n",
       "      <td>4.955</td>\n",
       "      <td>4.0</td>\n",
       "    </tr>\n",
       "    <tr>\n",
       "      <th>2736</th>\n",
       "      <td>Yemen</td>\n",
       "      <td>2024</td>\n",
       "      <td>3.397</td>\n",
       "      <td>5.080</td>\n",
       "      <td>4.0</td>\n",
       "    </tr>\n",
       "  </tbody>\n",
       "</table>\n",
       "<p>323 rows × 5 columns</p>\n",
       "</div>"
      ],
      "text/plain": [
       "          country  year  gpi_score  gti_score  advisory_level\n",
       "0     Afghanistan  2008      3.218        NaN             4.0\n",
       "1     Afghanistan  2009      3.296        NaN             4.0\n",
       "2     Afghanistan  2010      3.201        NaN             4.0\n",
       "3     Afghanistan  2011      3.212      8.784             4.0\n",
       "4     Afghanistan  2012      3.265      8.825             4.0\n",
       "...           ...   ...        ...        ...             ...\n",
       "2732        Yemen  2020      3.406      5.333             4.0\n",
       "2733        Yemen  2021      3.515      5.022             4.0\n",
       "2734        Yemen  2022      3.595      4.708             4.0\n",
       "2735        Yemen  2023      3.322      4.955             4.0\n",
       "2736        Yemen  2024      3.397      5.080             4.0\n",
       "\n",
       "[323 rows x 5 columns]"
      ]
     },
     "execution_count": 7,
     "metadata": {},
     "output_type": "execute_result"
    }
   ],
   "source": [
    "merged_clean"
   ]
  },
  {
   "cell_type": "code",
   "execution_count": 6,
   "id": "213789e3",
   "metadata": {},
   "outputs": [
    {
     "data": {
      "application/vnd.plotly.v1+json": {
       "config": {
        "plotlyServerURL": "https://plot.ly"
       },
       "data": [
        {
         "hovertemplate": "<b>%{hovertext}</b><br><br>year=2008<br>GPI Score=%{x}<br>Travel Advisory Level=%{y}<extra></extra>",
         "hovertext": [
          "Afghanistan",
          "Belarus",
          "Burkina Faso",
          "Central African Republic",
          "Democratic Republic of the Congo",
          "Haiti",
          "Iran",
          "Iraq",
          "Lebanon",
          "Libya",
          "Mali",
          "Russia",
          "Somalia",
          "South Sudan",
          "Sudan",
          "Syria",
          "Ukraine",
          "Venezuela",
          "Yemen"
         ],
         "legendgroup": "",
         "marker": {
          "color": "#636efa",
          "symbol": "circle"
         },
         "mode": "markers",
         "name": "",
         "orientation": "v",
         "showlegend": false,
         "type": "scatter",
         "x": {
          "bdata": "WDm0yHa+CUBt5/up8dICQCcxCKwcWvw/bxKDwMqhB0D8qfHSTWIGQMHKoUW28wBAN4lBYOXQA0D8qfHSTWIMQKabxCCwcgRAmpmZmZmZAEBOYhBYObQCQGiR7Xw/NQlAZmZmZmZmCUAAAAAAAAD4fzvfT42XbghAAiuHFtnOAEBKDAIrhxYBQA4tsp3vpwNAke18PzVeA0A=",
          "dtype": "f8"
         },
         "xaxis": "x",
         "y": {
          "bdata": "AAAAAAAAEEAAAAAAAAAQQAAAAAAAABBAAAAAAAAAEEAAAAAAAAAQQAAAAAAAABBAAAAAAAAAEEAAAAAAAAAQQAAAAAAAABBAAAAAAAAAEEAAAAAAAAAQQAAAAAAAABBAAAAAAAAAEEAAAAAAAAAQQAAAAAAAABBAAAAAAAAAEEAAAAAAAAAQQAAAAAAAABBAAAAAAAAAEEA=",
          "dtype": "f8"
         },
         "yaxis": "y"
        }
       ],
       "frames": [
        {
         "data": [
          {
           "hovertemplate": "<b>%{hovertext}</b><br><br>year=2008<br>GPI Score=%{x}<br>Travel Advisory Level=%{y}<extra></extra>",
           "hovertext": [
            "Afghanistan",
            "Belarus",
            "Burkina Faso",
            "Central African Republic",
            "Democratic Republic of the Congo",
            "Haiti",
            "Iran",
            "Iraq",
            "Lebanon",
            "Libya",
            "Mali",
            "Russia",
            "Somalia",
            "South Sudan",
            "Sudan",
            "Syria",
            "Ukraine",
            "Venezuela",
            "Yemen"
           ],
           "legendgroup": "",
           "marker": {
            "color": "#636efa",
            "symbol": "circle"
           },
           "mode": "markers",
           "name": "",
           "orientation": "v",
           "showlegend": false,
           "type": "scatter",
           "x": {
            "bdata": "WDm0yHa+CUBt5/up8dICQCcxCKwcWvw/bxKDwMqhB0D8qfHSTWIGQMHKoUW28wBAN4lBYOXQA0D8qfHSTWIMQKabxCCwcgRAmpmZmZmZAEBOYhBYObQCQGiR7Xw/NQlAZmZmZmZmCUAAAAAAAAD4fzvfT42XbghAAiuHFtnOAEBKDAIrhxYBQA4tsp3vpwNAke18PzVeA0A=",
            "dtype": "f8"
           },
           "xaxis": "x",
           "y": {
            "bdata": "AAAAAAAAEEAAAAAAAAAQQAAAAAAAABBAAAAAAAAAEEAAAAAAAAAQQAAAAAAAABBAAAAAAAAAEEAAAAAAAAAQQAAAAAAAABBAAAAAAAAAEEAAAAAAAAAQQAAAAAAAABBAAAAAAAAAEEAAAAAAAAAQQAAAAAAAABBAAAAAAAAAEEAAAAAAAAAQQAAAAAAAABBAAAAAAAAAEEA=",
            "dtype": "f8"
           },
           "yaxis": "y"
          }
         ],
         "name": "2008"
        },
        {
         "data": [
          {
           "hovertemplate": "<b>%{hovertext}</b><br><br>year=2009<br>GPI Score=%{x}<br>Travel Advisory Level=%{y}<extra></extra>",
           "hovertext": [
            "Afghanistan",
            "Belarus",
            "Burkina Faso",
            "Central African Republic",
            "Democratic Republic of the Congo",
            "Haiti",
            "Iran",
            "Iraq",
            "Lebanon",
            "Libya",
            "Mali",
            "Russia",
            "Somalia",
            "South Sudan",
            "Sudan",
            "Syria",
            "Ukraine",
            "Venezuela",
            "Yemen"
           ],
           "legendgroup": "",
           "marker": {
            "color": "#636efa",
            "symbol": "circle"
           },
           "mode": "markers",
           "name": "",
           "orientation": "v",
           "showlegend": false,
           "type": "scatter",
           "x": {
            "bdata": "ke18PzVeCkAzMzMzMzMCQPhT46WbxPw/MQisHFpkBkDNzMzMzMwGQIlBYOXQIgFASgwCK4cWA0DhehSuR+ELQDEIrBxaZARAppvEILByAEDwp8ZLN4kCQIGVQ4ts5wlAVg4tsp3vCUAAAAAAAAD4fwRWDi2ynQhARrbz/dR4AUA5tMh2vp8BQP7UeOkmMQRAfT81XrpJBEA=",
            "dtype": "f8"
           },
           "xaxis": "x",
           "y": {
            "bdata": "AAAAAAAAEEAAAAAAAAAQQAAAAAAAABBAAAAAAAAAEEAAAAAAAAAQQAAAAAAAABBAAAAAAAAAEEAAAAAAAAAQQAAAAAAAABBAAAAAAAAAEEAAAAAAAAAQQAAAAAAAABBAAAAAAAAAEEAAAAAAAAAQQAAAAAAAABBAAAAAAAAAEEAAAAAAAAAQQAAAAAAAABBAAAAAAAAAEEA=",
            "dtype": "f8"
           },
           "yaxis": "y"
          }
         ],
         "name": "2009"
        },
        {
         "data": [
          {
           "hovertemplate": "<b>%{hovertext}</b><br><br>year=2010<br>GPI Score=%{x}<br>Travel Advisory Level=%{y}<extra></extra>",
           "hovertext": [
            "Afghanistan",
            "Belarus",
            "Burkina Faso",
            "Central African Republic",
            "Democratic Republic of the Congo",
            "Haiti",
            "Iran",
            "Iraq",
            "Lebanon",
            "Libya",
            "Mali",
            "Russia",
            "Somalia",
            "South Sudan",
            "Sudan",
            "Syria",
            "Ukraine",
            "Venezuela",
            "Yemen"
           ],
           "legendgroup": "",
           "marker": {
            "color": "#636efa",
            "symbol": "circle"
           },
           "mode": "markers",
           "name": "",
           "orientation": "v",
           "showlegend": false,
           "type": "scatter",
           "x": {
            "bdata": "z/dT46WbCUAUrkfhehQCQHe+nxov3fw/EoPAyqFFBkBSuB6F61EHQEw3iUFg5QBAuB6F61G4A0AhsHJoke0LQHNoke18PwNAyXa+nxovAEDXo3A9CtcCQF66SQwCKwlAI9v5fmq8CkAAAAAAAAD4f6AaL90kBghAObTIdr6fAUC28/3UeOkBQIGVQ4ts5wRArkfhehSuBEA=",
            "dtype": "f8"
           },
           "xaxis": "x",
           "y": {
            "bdata": "AAAAAAAAEEAAAAAAAAAQQAAAAAAAABBAAAAAAAAAEEAAAAAAAAAQQAAAAAAAABBAAAAAAAAAEEAAAAAAAAAQQAAAAAAAABBAAAAAAAAAEEAAAAAAAAAQQAAAAAAAABBAAAAAAAAAEEAAAAAAAAAQQAAAAAAAABBAAAAAAAAAEEAAAAAAAAAQQAAAAAAAABBAAAAAAAAAEEA=",
            "dtype": "f8"
           },
           "yaxis": "y"
          }
         ],
         "name": "2010"
        },
        {
         "data": [
          {
           "hovertemplate": "<b>%{hovertext}</b><br><br>year=2011<br>GPI Score=%{x}<br>Travel Advisory Level=%{y}<extra></extra>",
           "hovertext": [
            "Afghanistan",
            "Belarus",
            "Burkina Faso",
            "Central African Republic",
            "Democratic Republic of the Congo",
            "Haiti",
            "Iran",
            "Iraq",
            "Lebanon",
            "Libya",
            "Mali",
            "Russia",
            "Somalia",
            "South Sudan",
            "Sudan",
            "Syria",
            "Ukraine",
            "Venezuela",
            "Yemen"
           ],
           "legendgroup": "",
           "marker": {
            "color": "#636efa",
            "symbol": "circle"
           },
           "mode": "markers",
           "name": "",
           "orientation": "v",
           "showlegend": false,
           "type": "scatter",
           "x": {
            "bdata": "GQRWDi2yCUBWDi2yne8BQDMzMzMzM/s/hxbZzvdTBkCmm8QgsHIGQHe+nxov3QBAhetRuB6FBED+1HjpJjEJQFYOLbKd7wJAqvHSTWIQBEBg5dAi2/kBQBsv3SQGgQhARIts5/upCUAAAAAAAAD4fzm0yHa+nwhArkfhehSuAUAK16NwPQoBQHE9CtejcARAokW28/3UBEA=",
            "dtype": "f8"
           },
           "xaxis": "x",
           "y": {
            "bdata": "AAAAAAAAEEAAAAAAAAAQQAAAAAAAABBAAAAAAAAAEEAAAAAAAAAQQAAAAAAAABBAAAAAAAAAEEAAAAAAAAAQQAAAAAAAABBAAAAAAAAAEEAAAAAAAAAQQAAAAAAAABBAAAAAAAAAEEAAAAAAAAAQQAAAAAAAABBAAAAAAAAAEEAAAAAAAAAQQAAAAAAAABBAAAAAAAAAEEA=",
            "dtype": "f8"
           },
           "yaxis": "y"
          }
         ],
         "name": "2011"
        },
        {
         "data": [
          {
           "hovertemplate": "<b>%{hovertext}</b><br><br>year=2012<br>GPI Score=%{x}<br>Travel Advisory Level=%{y}<extra></extra>",
           "hovertext": [
            "Afghanistan",
            "Belarus",
            "Burkina Faso",
            "Central African Republic",
            "Democratic Republic of the Congo",
            "Haiti",
            "Iran",
            "Iraq",
            "Lebanon",
            "Libya",
            "Mali",
            "Russia",
            "Somalia",
            "South Sudan",
            "Sudan",
            "Syria",
            "Ukraine",
            "Venezuela",
            "Yemen"
           ],
           "legendgroup": "",
           "marker": {
            "color": "#636efa",
            "symbol": "circle"
           },
           "mode": "markers",
           "name": "",
           "orientation": "v",
           "showlegend": false,
           "type": "scatter",
           "x": {
            "bdata": "H4XrUbgeCkAbL90kBoEBQIcW2c73U/s/Rrbz/dR4BkBYObTIdr4GQHsUrkfhegBAJQaBlUOLBEBt5/up8dIIQKabxCCwcgNAWDm0yHa+BECHFtnO91MCQHE9CtejcAhAaJHtfD81CkBiEFg5tMgGQESLbOf7qQlAIbByaJHtBUC6SQwCK4cAQGIQWDm0yANA2/l+arx0BUA=",
            "dtype": "f8"
           },
           "xaxis": "x",
           "y": {
            "bdata": "AAAAAAAAEEAAAAAAAAAQQAAAAAAAABBAAAAAAAAAEEAAAAAAAAAQQAAAAAAAABBAAAAAAAAAEEAAAAAAAAAQQAAAAAAAABBAAAAAAAAAEEAAAAAAAAAQQAAAAAAAABBAAAAAAAAAEEAAAAAAAAAQQAAAAAAAABBAAAAAAAAAEEAAAAAAAAAQQAAAAAAAABBAAAAAAAAAEEA=",
            "dtype": "f8"
           },
           "yaxis": "y"
          }
         ],
         "name": "2012"
        },
        {
         "data": [
          {
           "hovertemplate": "<b>%{hovertext}</b><br><br>year=2013<br>GPI Score=%{x}<br>Travel Advisory Level=%{y}<extra></extra>",
           "hovertext": [
            "Afghanistan",
            "Belarus",
            "Burkina Faso",
            "Central African Republic",
            "Democratic Republic of the Congo",
            "Haiti",
            "Iran",
            "Iraq",
            "Lebanon",
            "Libya",
            "Mali",
            "Russia",
            "Somalia",
            "South Sudan",
            "Sudan",
            "Syria",
            "Ukraine",
            "Venezuela",
            "Yemen"
           ],
           "legendgroup": "",
           "marker": {
            "color": "#636efa",
            "symbol": "circle"
           },
           "mode": "markers",
           "name": "",
           "orientation": "v",
           "showlegend": false,
           "type": "scatter",
           "x": {
            "bdata": "8tJNYhBYCkDy0k1iEFgBQCPb+X5qvPw/tvP91HjpBkCoxks3iUEHQNEi2/l+agBAN4lBYOXQA0C28/3UeOkHQEjhehSuRwRAQmDl0CLbAkBYObTIdr4DQKabxCCwcghA2c73U+OlCUDRItv5fmoHQKrx0k1iEAlAUrgehetRCkB3vp8aL90BQN9PjZduEgRAIbByaJHtBEA=",
            "dtype": "f8"
           },
           "xaxis": "x",
           "y": {
            "bdata": "AAAAAAAAEEAAAAAAAAAQQAAAAAAAABBAAAAAAAAAEEAAAAAAAAAQQAAAAAAAABBAAAAAAAAAEEAAAAAAAAAQQAAAAAAAABBAAAAAAAAAEEAAAAAAAAAQQAAAAAAAABBAAAAAAAAAEEAAAAAAAAAQQAAAAAAAABBAAAAAAAAAEEAAAAAAAAAQQAAAAAAAABBAAAAAAAAAEEA=",
            "dtype": "f8"
           },
           "yaxis": "y"
          }
         ],
         "name": "2013"
        },
        {
         "data": [
          {
           "hovertemplate": "<b>%{hovertext}</b><br><br>year=2014<br>GPI Score=%{x}<br>Travel Advisory Level=%{y}<extra></extra>",
           "hovertext": [
            "Afghanistan",
            "Belarus",
            "Burkina Faso",
            "Central African Republic",
            "Democratic Republic of the Congo",
            "Haiti",
            "Iran",
            "Iraq",
            "Lebanon",
            "Libya",
            "Mali",
            "Russia",
            "Somalia",
            "South Sudan",
            "Sudan",
            "Syria",
            "Ukraine",
            "Venezuela",
            "Yemen"
           ],
           "legendgroup": "",
           "marker": {
            "color": "#636efa",
            "symbol": "circle"
           },
           "mode": "markers",
           "name": "",
           "orientation": "v",
           "showlegend": false,
           "type": "scatter",
           "x": {
            "bdata": "kxgEVg4tCkCcxCCwcmgBQNV46SYxCPw/jZduEoPACkDwp8ZLN4kIQKAaL90kBgFAcT0K16NwA0DTTWIQWDkIQGDl0CLb+QRAfT81XrpJAkDfT42XbhIEQFCNl24SgwlA001iEFg5CUCHFtnO91MJQI2XbhKDwAlALbKd76fGCkDZzvdT46UEQFpkO99PjQRAGQRWDi2yBEA=",
            "dtype": "f8"
           },
           "xaxis": "x",
           "y": {
            "bdata": "AAAAAAAAEEAAAAAAAAAQQAAAAAAAABBAAAAAAAAAEEAAAAAAAAAQQAAAAAAAABBAAAAAAAAAEEAAAAAAAAAQQAAAAAAAABBAAAAAAAAAEEAAAAAAAAAQQAAAAAAAABBAAAAAAAAAEEAAAAAAAAAQQAAAAAAAABBAAAAAAAAAEEAAAAAAAAAQQAAAAAAAABBAAAAAAAAAEEA=",
            "dtype": "f8"
           },
           "yaxis": "y"
          }
         ],
         "name": "2014"
        },
        {
         "data": [
          {
           "hovertemplate": "<b>%{hovertext}</b><br><br>year=2015<br>GPI Score=%{x}<br>Travel Advisory Level=%{y}<extra></extra>",
           "hovertext": [
            "Afghanistan",
            "Belarus",
            "Burkina Faso",
            "Central African Republic",
            "Democratic Republic of the Congo",
            "Haiti",
            "Iran",
            "Iraq",
            "Lebanon",
            "Libya",
            "Mali",
            "Russia",
            "Somalia",
            "South Sudan",
            "Sudan",
            "Syria",
            "Ukraine",
            "Venezuela",
            "Yemen"
           ],
           "legendgroup": "",
           "marker": {
            "color": "#636efa",
            "symbol": "circle"
           },
           "mode": "markers",
           "name": "",
           "orientation": "v",
           "showlegend": false,
           "type": "scatter",
           "x": {
            "bdata": "gZVDi2znCkBOYhBYObQBQKjGSzeJQf4/GQRWDi2yCkB7FK5H4XoIQCcxCKwcWgFAGy/dJAaBA0CNl24Sg8AKQP7UeOkmMQVAXI/C9ShcBkC6SQwCK4cDQPCnxks3iQlAdZMYBFYOCUBGtvP91HgLQMl2vp8aLwlASgwCK4cWC0AhsHJoke0HQJzEILByaAVA7nw/NV66BkA=",
            "dtype": "f8"
           },
           "xaxis": "x",
           "y": {
            "bdata": "AAAAAAAAEEAAAAAAAAAQQAAAAAAAABBAAAAAAAAAEEAAAAAAAAAQQAAAAAAAABBAAAAAAAAAEEAAAAAAAAAQQAAAAAAAABBAAAAAAAAAEEAAAAAAAAAQQAAAAAAAABBAAAAAAAAAEEAAAAAAAAAQQAAAAAAAABBAAAAAAAAAEEAAAAAAAAAQQAAAAAAAABBAAAAAAAAAEEA=",
            "dtype": "f8"
           },
           "yaxis": "y"
          }
         ],
         "name": "2015"
        },
        {
         "data": [
          {
           "hovertemplate": "<b>%{hovertext}</b><br><br>year=2016<br>GPI Score=%{x}<br>Travel Advisory Level=%{y}<extra></extra>",
           "hovertext": [
            "Afghanistan",
            "Belarus",
            "Burkina Faso",
            "Central African Republic",
            "Democratic Republic of the Congo",
            "Haiti",
            "Iran",
            "Iraq",
            "Lebanon",
            "Libya",
            "Mali",
            "Russia",
            "Somalia",
            "South Sudan",
            "Sudan",
            "Syria",
            "Ukraine",
            "Venezuela",
            "Yemen"
           ],
           "legendgroup": "",
           "marker": {
            "color": "#636efa",
            "symbol": "circle"
           },
           "mode": "markers",
           "name": "",
           "orientation": "v",
           "showlegend": false,
           "type": "scatter",
           "x": {
            "bdata": "Di2yne+nC0ArhxbZzvcAQCuHFtnO9/8/aJHtfD81CUAlBoGVQ4sHQCuHFtnO9wBAc2iR7Xw/A0CiRbbz/dQLQHWTGARWDgVA7FG4HoXrB0BQjZduEoMDQOOlm8QgsAlAnu+nxks3CUBkO99PjZcLQEoMAiuHFglAXrpJDAIrC0CNl24Sg8AIQClcj8L1KAZAaJHtfD81CkA=",
            "dtype": "f8"
           },
           "xaxis": "x",
           "y": {
            "bdata": "AAAAAAAAEEAAAAAAAAAQQAAAAAAAABBAAAAAAAAAEEAAAAAAAAAQQAAAAAAAABBAAAAAAAAAEEAAAAAAAAAQQAAAAAAAABBAAAAAAAAAEEAAAAAAAAAQQAAAAAAAABBAAAAAAAAAEEAAAAAAAAAQQAAAAAAAABBAAAAAAAAAEEAAAAAAAAAQQAAAAAAAABBAAAAAAAAAEEA=",
            "dtype": "f8"
           },
           "yaxis": "y"
          }
         ],
         "name": "2016"
        },
        {
         "data": [
          {
           "hovertemplate": "<b>%{hovertext}</b><br><br>year=2017<br>GPI Score=%{x}<br>Travel Advisory Level=%{y}<extra></extra>",
           "hovertext": [
            "Afghanistan",
            "Belarus",
            "Burkina Faso",
            "Central African Republic",
            "Democratic Republic of the Congo",
            "Haiti",
            "Iran",
            "Iraq",
            "Lebanon",
            "Libya",
            "Mali",
            "Russia",
            "Somalia",
            "South Sudan",
            "Sudan",
            "Syria",
            "Ukraine",
            "Venezuela",
            "Yemen"
           ],
           "legendgroup": "",
           "marker": {
            "color": "#636efa",
            "symbol": "circle"
           },
           "mode": "markers",
           "name": "",
           "orientation": "v",
           "showlegend": false,
           "type": "scatter",
           "x": {
            "bdata": "0SLb+X5qDEAOLbKd76cAQM3MzMzMzABAc2iR7Xw/CUDTTWIQWDkIQHnpJjEIrABAUI2XbhKDA0D6fmq8dJMLQPLSTWIQWAVAVg4tsp3vB0BkO99PjZcEQNnO91PjpQlAf2q8dJMYCUB9PzVeukkLQFTjpZvEIAhA/Knx0k1iC0AhsHJoke0HQH0/NV66SQZA2/l+arx0CUA=",
            "dtype": "f8"
           },
           "xaxis": "x",
           "y": {
            "bdata": "AAAAAAAAEEAAAAAAAAAQQAAAAAAAABBAAAAAAAAAEEAAAAAAAAAQQAAAAAAAABBAAAAAAAAAEEAAAAAAAAAQQAAAAAAAABBAAAAAAAAAEEAAAAAAAAAQQAAAAAAAABBAAAAAAAAAEEAAAAAAAAAQQAAAAAAAABBAAAAAAAAAEEAAAAAAAAAQQAAAAAAAABBAAAAAAAAAEEA=",
            "dtype": "f8"
           },
           "yaxis": "y"
          }
         ],
         "name": "2017"
        },
        {
         "data": [
          {
           "hovertemplate": "<b>%{hovertext}</b><br><br>year=2018<br>GPI Score=%{x}<br>Travel Advisory Level=%{y}<extra></extra>",
           "hovertext": [
            "Afghanistan",
            "Belarus",
            "Burkina Faso",
            "Central African Republic",
            "Democratic Republic of the Congo",
            "Haiti",
            "Iran",
            "Iraq",
            "Lebanon",
            "Libya",
            "Mali",
            "Russia",
            "Somalia",
            "South Sudan",
            "Sudan",
            "Syria",
            "Ukraine",
            "Venezuela",
            "Yemen"
           ],
           "legendgroup": "",
           "marker": {
            "color": "#636efa",
            "symbol": "circle"
           },
           "mode": "markers",
           "name": "",
           "orientation": "v",
           "showlegend": false,
           "type": "scatter",
           "x": {
            "bdata": "tvP91HjpDEDVeOkmMQgBQNEi2/l+agBAN4lBYOXQCUB3vp8aL90JQKJFtvP91ABAMzMzMzMzBECiRbbz/dQKQHE9CtejcAVAJzEIrBxaB0CDwMqhRbYEQKabxCCwcgpAJzEIrBxaCUAMAiuHFtkLQMP1KFyPwgdA9P3UeOkmC0CR7Xw/NV4HQOf7qfHSTQZAUI2XbhKDCUA=",
            "dtype": "f8"
           },
           "xaxis": "x",
           "y": {
            "bdata": "AAAAAAAAEEAAAAAAAAAQQAAAAAAAABBAAAAAAAAAEEAAAAAAAAAQQAAAAAAAABBAAAAAAAAAEEAAAAAAAAAQQAAAAAAAABBAAAAAAAAAEEAAAAAAAAAQQAAAAAAAABBAAAAAAAAAEEAAAAAAAAAQQAAAAAAAABBAAAAAAAAAEEAAAAAAAAAQQAAAAAAAABBAAAAAAAAAEEA=",
            "dtype": "f8"
           },
           "yaxis": "y"
          }
         ],
         "name": "2018"
        },
        {
         "data": [
          {
           "hovertemplate": "<b>%{hovertext}</b><br><br>year=2019<br>GPI Score=%{x}<br>Travel Advisory Level=%{y}<extra></extra>",
           "hovertext": [
            "Afghanistan",
            "Belarus",
            "Burkina Faso",
            "Central African Republic",
            "Democratic Republic of the Congo",
            "Haiti",
            "Iran",
            "Iraq",
            "Lebanon",
            "Libya",
            "Mali",
            "Russia",
            "Somalia",
            "South Sudan",
            "Sudan",
            "Syria",
            "Ukraine",
            "Venezuela",
            "Yemen"
           ],
           "legendgroup": "",
           "marker": {
            "color": "#636efa",
            "symbol": "circle"
           },
           "mode": "markers",
           "name": "",
           "orientation": "v",
           "showlegend": false,
           "type": "scatter",
           "x": {
            "bdata": "wcqhRbbzDEAlBoGVQ4sAQMl2vp8aLwFAUI2XbhKDCUD2KFyPwvUIQM/3U+OlmwFAg8DKoUW2BEBMN4lBYOUIQAaBlUOLbAVA5dAi2/l+B0BzaJHtfD8FQHe+nxov3QlANV66SQwCCUAlBoGVQ4sLQESLbOf7qQZAbxKDwMqhCkDjpZvEILAGQE5iEFg5tAZA30+Nl24SC0A=",
            "dtype": "f8"
           },
           "xaxis": "x",
           "y": {
            "bdata": "AAAAAAAAEEAAAAAAAAAQQAAAAAAAABBAAAAAAAAAEEAAAAAAAAAQQAAAAAAAABBAAAAAAAAAEEAAAAAAAAAQQAAAAAAAABBAAAAAAAAAEEAAAAAAAAAQQAAAAAAAABBAAAAAAAAAEEAAAAAAAAAQQAAAAAAAABBAAAAAAAAAEEAAAAAAAAAQQAAAAAAAABBAAAAAAAAAEEA=",
            "dtype": "f8"
           },
           "yaxis": "y"
          }
         ],
         "name": "2019"
        },
        {
         "data": [
          {
           "hovertemplate": "<b>%{hovertext}</b><br><br>year=2020<br>GPI Score=%{x}<br>Travel Advisory Level=%{y}<extra></extra>",
           "hovertext": [
            "Afghanistan",
            "Belarus",
            "Burkina Faso",
            "Central African Republic",
            "Democratic Republic of the Congo",
            "Haiti",
            "Iran",
            "Iraq",
            "Lebanon",
            "Libya",
            "Mali",
            "Russia",
            "Somalia",
            "South Sudan",
            "Sudan",
            "Syria",
            "Ukraine",
            "Venezuela",
            "Yemen"
           ],
           "legendgroup": "",
           "marker": {
            "color": "#636efa",
            "symbol": "circle"
           },
           "mode": "markers",
           "name": "",
           "orientation": "v",
           "showlegend": false,
           "type": "scatter",
           "x": {
            "bdata": "qMZLN4lBDUCR7Xw/NV4AQGDl0CLb+QJArkfhehSuCEA/NV66SQwJQFYOLbKd7wBAqvHSTWIQBkBvEoPAyqEJQJZDi2zn+wRAPQrXo3A9CEDdJAaBlUMFQOkmMQisHAlA001iEFg5CUA730+Nl24LQGQ730+NlwdADi2yne+nCkCLbOf7qfEFQA4tsp3vpwZAc2iR7Xw/C0A=",
            "dtype": "f8"
           },
           "xaxis": "x",
           "y": {
            "bdata": "AAAAAAAAEEAAAAAAAAAQQAAAAAAAABBAAAAAAAAAEEAAAAAAAAAQQAAAAAAAABBAAAAAAAAAEEAAAAAAAAAQQAAAAAAAABBAAAAAAAAAEEAAAAAAAAAQQAAAAAAAABBAAAAAAAAAEEAAAAAAAAAQQAAAAAAAABBAAAAAAAAAEEAAAAAAAAAQQAAAAAAAABBAAAAAAAAAEEA=",
            "dtype": "f8"
           },
           "yaxis": "y"
          }
         ],
         "name": "2020"
        },
        {
         "data": [
          {
           "hovertemplate": "<b>%{hovertext}</b><br><br>year=2021<br>GPI Score=%{x}<br>Travel Advisory Level=%{y}<extra></extra>",
           "hovertext": [
            "Afghanistan",
            "Belarus",
            "Burkina Faso",
            "Central African Republic",
            "Democratic Republic of the Congo",
            "Haiti",
            "Iran",
            "Iraq",
            "Lebanon",
            "Libya",
            "Mali",
            "Russia",
            "Somalia",
            "South Sudan",
            "Sudan",
            "Syria",
            "Ukraine",
            "Venezuela",
            "Yemen"
           ],
           "legendgroup": "",
           "marker": {
            "color": "#636efa",
            "symbol": "circle"
           },
           "mode": "markers",
           "name": "",
           "orientation": "v",
           "showlegend": false,
           "type": "scatter",
           "x": {
            "bdata": "5/up8dJNDUCgGi/dJAYCQOkmMQisHARAXI/C9ShcCECYbhKDwMoJQPCnxks3iQFAgZVDi2znBUDdJAaBlUMKQESLbOf7qQVAEoPAyqFFB0Boke18PzUGQOf7qfHSTQlArkfhehSuCUBI4XoUrkcLQPYoXI/C9QdA9P3UeOkmCkCR7Xw/NV4EQESLbOf7qQZAH4XrUbgeDEA=",
            "dtype": "f8"
           },
           "xaxis": "x",
           "y": {
            "bdata": "AAAAAAAAEEAAAAAAAAAQQAAAAAAAABBAAAAAAAAAEEAAAAAAAAAQQAAAAAAAABBAAAAAAAAAEEAAAAAAAAAQQAAAAAAAABBAAAAAAAAAEEAAAAAAAAAQQAAAAAAAABBAAAAAAAAAEEAAAAAAAAAQQAAAAAAAABBAAAAAAAAAEEAAAAAAAAAQQAAAAAAAABBAAAAAAAAAEEA=",
            "dtype": "f8"
           },
           "yaxis": "y"
          }
         ],
         "name": "2021"
        },
        {
         "data": [
          {
           "hovertemplate": "<b>%{hovertext}</b><br><br>year=2022<br>GPI Score=%{x}<br>Travel Advisory Level=%{y}<extra></extra>",
           "hovertext": [
            "Afghanistan",
            "Belarus",
            "Burkina Faso",
            "Central African Republic",
            "Democratic Republic of the Congo",
            "Haiti",
            "Iran",
            "Iraq",
            "Lebanon",
            "Libya",
            "Mali",
            "Russia",
            "Somalia",
            "South Sudan",
            "Sudan",
            "Syria",
            "Ukraine",
            "Venezuela",
            "Yemen"
           ],
           "legendgroup": "",
           "marker": {
            "color": "#636efa",
            "symbol": "circle"
           },
           "mode": "markers",
           "name": "",
           "orientation": "v",
           "showlegend": false,
           "type": "scatter",
           "x": {
            "bdata": "9ihcj8L1DECcxCCwcmgCQMdLN4lBYAZA30+Nl24SCUAEVg4tsp0JQG3n+6nx0gJA1XjpJjEIBkA9CtejcD0JQDeJQWDl0ARABoGVQ4tsBUAfhetRuB4HQEw3iUFg5QhAc2iR7Xw/CUA1XrpJDAILQNV46SYxCAlAeekmMQisCUAxCKwcWmQFQD81XrpJDAdAw/UoXI/CDEA=",
            "dtype": "f8"
           },
           "xaxis": "x",
           "y": {
            "bdata": "AAAAAAAAEEAAAAAAAAAQQAAAAAAAABBAAAAAAAAAEEAAAAAAAAAQQAAAAAAAABBAAAAAAAAAEEAAAAAAAAAQQAAAAAAAABBAAAAAAAAAEEAAAAAAAAAQQAAAAAAAABBAAAAAAAAAEEAAAAAAAAAQQAAAAAAAABBAAAAAAAAAEEAAAAAAAAAQQAAAAAAAABBAAAAAAAAAEEA=",
            "dtype": "f8"
           },
           "yaxis": "y"
          }
         ],
         "name": "2022"
        },
        {
         "data": [
          {
           "hovertemplate": "<b>%{hovertext}</b><br><br>year=2023<br>GPI Score=%{x}<br>Travel Advisory Level=%{y}<extra></extra>",
           "hovertext": [
            "Afghanistan",
            "Belarus",
            "Burkina Faso",
            "Central African Republic",
            "Democratic Republic of the Congo",
            "Haiti",
            "Iran",
            "Iraq",
            "Lebanon",
            "Libya",
            "Mali",
            "Russia",
            "Somalia",
            "South Sudan",
            "Sudan",
            "Syria",
            "Ukraine",
            "Venezuela",
            "Yemen"
           ],
           "legendgroup": "",
           "marker": {
            "color": "#636efa",
            "symbol": "circle"
           },
           "mode": "markers",
           "name": "",
           "orientation": "v",
           "showlegend": false,
           "type": "scatter",
           "x": {
            "bdata": "sp3vp8ZLCkBSuB6F61ECQH9qvHSTGAdASOF6FK5HCEBiEFg5tMgKQFTjpZvEIAVAsHJoke18BkDb+X5qvHQIQEJg5dAi2wRA16NwPQrXBEAGgZVDi2wIQDVeukkMAglAtvP91HjpCEAMAiuHFtkKQCUGgZVDiwlABFYOLbKdCUBSuB6F61EJQFg5tMh2vgZA+n5qvHSTCkA=",
            "dtype": "f8"
           },
           "xaxis": "x",
           "y": {
            "bdata": "AAAAAAAAEEAAAAAAAAAQQAAAAAAAABBAAAAAAAAAEEAAAAAAAAAQQAAAAAAAABBAAAAAAAAAEEAAAAAAAAAQQAAAAAAAABBAAAAAAAAAEEAAAAAAAAAQQAAAAAAAABBAAAAAAAAAEEAAAAAAAAAQQAAAAAAAABBAAAAAAAAAEEAAAAAAAAAQQAAAAAAAABBAAAAAAAAAEEA=",
            "dtype": "f8"
           },
           "yaxis": "y"
          }
         ],
         "name": "2023"
        },
        {
         "data": [
          {
           "hovertemplate": "<b>%{hovertext}</b><br><br>year=2024<br>GPI Score=%{x}<br>Travel Advisory Level=%{y}<extra></extra>",
           "hovertext": [
            "Afghanistan",
            "Belarus",
            "Burkina Faso",
            "Central African Republic",
            "Democratic Republic of the Congo",
            "Haiti",
            "Iran",
            "Iraq",
            "Lebanon",
            "Libya",
            "Mali",
            "Russia",
            "Somalia",
            "South Sudan",
            "Sudan",
            "Syria",
            "Ukraine",
            "Venezuela",
            "Yemen"
           ],
           "legendgroup": "",
           "marker": {
            "color": "#636efa",
            "symbol": "circle"
           },
           "mode": "markers",
           "name": "",
           "orientation": "v",
           "showlegend": false,
           "type": "scatter",
           "x": {
            "bdata": "JzEIrBxaCkCHFtnO91MCQI2XbhKDwAdA30+Nl24SCEDpJjEIrBwKQARWDi2ynQZA2/l+arx0BUBcj8L1KFwIQCUGgZVDiwVA001iEFg5BEDD9Shcj8IIQN9PjZduEglA7nw/NV66CEBkO99PjZcKQARWDi2ynQpA/Knx0k1iCUA9CtejcD0KQMUgsHJokQZAkxgEVg4tC0A=",
            "dtype": "f8"
           },
           "xaxis": "x",
           "y": {
            "bdata": "AAAAAAAAEEAAAAAAAAAQQAAAAAAAABBAAAAAAAAAEEAAAAAAAAAQQAAAAAAAABBAAAAAAAAAEEAAAAAAAAAQQAAAAAAAABBAAAAAAAAAEEAAAAAAAAAQQAAAAAAAABBAAAAAAAAAEEAAAAAAAAAQQAAAAAAAABBAAAAAAAAAEEAAAAAAAAAQQAAAAAAAABBAAAAAAAAAEEA=",
            "dtype": "f8"
           },
           "yaxis": "y"
          }
         ],
         "name": "2024"
        }
       ],
       "layout": {
        "legend": {
         "tracegroupgap": 0
        },
        "sliders": [
         {
          "active": 0,
          "currentvalue": {
           "prefix": "year="
          },
          "len": 0.9,
          "pad": {
           "b": 10,
           "t": 60
          },
          "steps": [
           {
            "args": [
             [
              "2008"
             ],
             {
              "frame": {
               "duration": 0,
               "redraw": false
              },
              "fromcurrent": true,
              "mode": "immediate",
              "transition": {
               "duration": 0,
               "easing": "linear"
              }
             }
            ],
            "label": "2008",
            "method": "animate"
           },
           {
            "args": [
             [
              "2009"
             ],
             {
              "frame": {
               "duration": 0,
               "redraw": false
              },
              "fromcurrent": true,
              "mode": "immediate",
              "transition": {
               "duration": 0,
               "easing": "linear"
              }
             }
            ],
            "label": "2009",
            "method": "animate"
           },
           {
            "args": [
             [
              "2010"
             ],
             {
              "frame": {
               "duration": 0,
               "redraw": false
              },
              "fromcurrent": true,
              "mode": "immediate",
              "transition": {
               "duration": 0,
               "easing": "linear"
              }
             }
            ],
            "label": "2010",
            "method": "animate"
           },
           {
            "args": [
             [
              "2011"
             ],
             {
              "frame": {
               "duration": 0,
               "redraw": false
              },
              "fromcurrent": true,
              "mode": "immediate",
              "transition": {
               "duration": 0,
               "easing": "linear"
              }
             }
            ],
            "label": "2011",
            "method": "animate"
           },
           {
            "args": [
             [
              "2012"
             ],
             {
              "frame": {
               "duration": 0,
               "redraw": false
              },
              "fromcurrent": true,
              "mode": "immediate",
              "transition": {
               "duration": 0,
               "easing": "linear"
              }
             }
            ],
            "label": "2012",
            "method": "animate"
           },
           {
            "args": [
             [
              "2013"
             ],
             {
              "frame": {
               "duration": 0,
               "redraw": false
              },
              "fromcurrent": true,
              "mode": "immediate",
              "transition": {
               "duration": 0,
               "easing": "linear"
              }
             }
            ],
            "label": "2013",
            "method": "animate"
           },
           {
            "args": [
             [
              "2014"
             ],
             {
              "frame": {
               "duration": 0,
               "redraw": false
              },
              "fromcurrent": true,
              "mode": "immediate",
              "transition": {
               "duration": 0,
               "easing": "linear"
              }
             }
            ],
            "label": "2014",
            "method": "animate"
           },
           {
            "args": [
             [
              "2015"
             ],
             {
              "frame": {
               "duration": 0,
               "redraw": false
              },
              "fromcurrent": true,
              "mode": "immediate",
              "transition": {
               "duration": 0,
               "easing": "linear"
              }
             }
            ],
            "label": "2015",
            "method": "animate"
           },
           {
            "args": [
             [
              "2016"
             ],
             {
              "frame": {
               "duration": 0,
               "redraw": false
              },
              "fromcurrent": true,
              "mode": "immediate",
              "transition": {
               "duration": 0,
               "easing": "linear"
              }
             }
            ],
            "label": "2016",
            "method": "animate"
           },
           {
            "args": [
             [
              "2017"
             ],
             {
              "frame": {
               "duration": 0,
               "redraw": false
              },
              "fromcurrent": true,
              "mode": "immediate",
              "transition": {
               "duration": 0,
               "easing": "linear"
              }
             }
            ],
            "label": "2017",
            "method": "animate"
           },
           {
            "args": [
             [
              "2018"
             ],
             {
              "frame": {
               "duration": 0,
               "redraw": false
              },
              "fromcurrent": true,
              "mode": "immediate",
              "transition": {
               "duration": 0,
               "easing": "linear"
              }
             }
            ],
            "label": "2018",
            "method": "animate"
           },
           {
            "args": [
             [
              "2019"
             ],
             {
              "frame": {
               "duration": 0,
               "redraw": false
              },
              "fromcurrent": true,
              "mode": "immediate",
              "transition": {
               "duration": 0,
               "easing": "linear"
              }
             }
            ],
            "label": "2019",
            "method": "animate"
           },
           {
            "args": [
             [
              "2020"
             ],
             {
              "frame": {
               "duration": 0,
               "redraw": false
              },
              "fromcurrent": true,
              "mode": "immediate",
              "transition": {
               "duration": 0,
               "easing": "linear"
              }
             }
            ],
            "label": "2020",
            "method": "animate"
           },
           {
            "args": [
             [
              "2021"
             ],
             {
              "frame": {
               "duration": 0,
               "redraw": false
              },
              "fromcurrent": true,
              "mode": "immediate",
              "transition": {
               "duration": 0,
               "easing": "linear"
              }
             }
            ],
            "label": "2021",
            "method": "animate"
           },
           {
            "args": [
             [
              "2022"
             ],
             {
              "frame": {
               "duration": 0,
               "redraw": false
              },
              "fromcurrent": true,
              "mode": "immediate",
              "transition": {
               "duration": 0,
               "easing": "linear"
              }
             }
            ],
            "label": "2022",
            "method": "animate"
           },
           {
            "args": [
             [
              "2023"
             ],
             {
              "frame": {
               "duration": 0,
               "redraw": false
              },
              "fromcurrent": true,
              "mode": "immediate",
              "transition": {
               "duration": 0,
               "easing": "linear"
              }
             }
            ],
            "label": "2023",
            "method": "animate"
           },
           {
            "args": [
             [
              "2024"
             ],
             {
              "frame": {
               "duration": 0,
               "redraw": false
              },
              "fromcurrent": true,
              "mode": "immediate",
              "transition": {
               "duration": 0,
               "easing": "linear"
              }
             }
            ],
            "label": "2024",
            "method": "animate"
           }
          ],
          "x": 0.1,
          "xanchor": "left",
          "y": 0,
          "yanchor": "top"
         }
        ],
        "template": {
         "data": {
          "bar": [
           {
            "error_x": {
             "color": "#2a3f5f"
            },
            "error_y": {
             "color": "#2a3f5f"
            },
            "marker": {
             "line": {
              "color": "#E5ECF6",
              "width": 0.5
             },
             "pattern": {
              "fillmode": "overlay",
              "size": 10,
              "solidity": 0.2
             }
            },
            "type": "bar"
           }
          ],
          "barpolar": [
           {
            "marker": {
             "line": {
              "color": "#E5ECF6",
              "width": 0.5
             },
             "pattern": {
              "fillmode": "overlay",
              "size": 10,
              "solidity": 0.2
             }
            },
            "type": "barpolar"
           }
          ],
          "carpet": [
           {
            "aaxis": {
             "endlinecolor": "#2a3f5f",
             "gridcolor": "white",
             "linecolor": "white",
             "minorgridcolor": "white",
             "startlinecolor": "#2a3f5f"
            },
            "baxis": {
             "endlinecolor": "#2a3f5f",
             "gridcolor": "white",
             "linecolor": "white",
             "minorgridcolor": "white",
             "startlinecolor": "#2a3f5f"
            },
            "type": "carpet"
           }
          ],
          "choropleth": [
           {
            "colorbar": {
             "outlinewidth": 0,
             "ticks": ""
            },
            "type": "choropleth"
           }
          ],
          "contour": [
           {
            "colorbar": {
             "outlinewidth": 0,
             "ticks": ""
            },
            "colorscale": [
             [
              0,
              "#0d0887"
             ],
             [
              0.1111111111111111,
              "#46039f"
             ],
             [
              0.2222222222222222,
              "#7201a8"
             ],
             [
              0.3333333333333333,
              "#9c179e"
             ],
             [
              0.4444444444444444,
              "#bd3786"
             ],
             [
              0.5555555555555556,
              "#d8576b"
             ],
             [
              0.6666666666666666,
              "#ed7953"
             ],
             [
              0.7777777777777778,
              "#fb9f3a"
             ],
             [
              0.8888888888888888,
              "#fdca26"
             ],
             [
              1,
              "#f0f921"
             ]
            ],
            "type": "contour"
           }
          ],
          "contourcarpet": [
           {
            "colorbar": {
             "outlinewidth": 0,
             "ticks": ""
            },
            "type": "contourcarpet"
           }
          ],
          "heatmap": [
           {
            "colorbar": {
             "outlinewidth": 0,
             "ticks": ""
            },
            "colorscale": [
             [
              0,
              "#0d0887"
             ],
             [
              0.1111111111111111,
              "#46039f"
             ],
             [
              0.2222222222222222,
              "#7201a8"
             ],
             [
              0.3333333333333333,
              "#9c179e"
             ],
             [
              0.4444444444444444,
              "#bd3786"
             ],
             [
              0.5555555555555556,
              "#d8576b"
             ],
             [
              0.6666666666666666,
              "#ed7953"
             ],
             [
              0.7777777777777778,
              "#fb9f3a"
             ],
             [
              0.8888888888888888,
              "#fdca26"
             ],
             [
              1,
              "#f0f921"
             ]
            ],
            "type": "heatmap"
           }
          ],
          "histogram": [
           {
            "marker": {
             "pattern": {
              "fillmode": "overlay",
              "size": 10,
              "solidity": 0.2
             }
            },
            "type": "histogram"
           }
          ],
          "histogram2d": [
           {
            "colorbar": {
             "outlinewidth": 0,
             "ticks": ""
            },
            "colorscale": [
             [
              0,
              "#0d0887"
             ],
             [
              0.1111111111111111,
              "#46039f"
             ],
             [
              0.2222222222222222,
              "#7201a8"
             ],
             [
              0.3333333333333333,
              "#9c179e"
             ],
             [
              0.4444444444444444,
              "#bd3786"
             ],
             [
              0.5555555555555556,
              "#d8576b"
             ],
             [
              0.6666666666666666,
              "#ed7953"
             ],
             [
              0.7777777777777778,
              "#fb9f3a"
             ],
             [
              0.8888888888888888,
              "#fdca26"
             ],
             [
              1,
              "#f0f921"
             ]
            ],
            "type": "histogram2d"
           }
          ],
          "histogram2dcontour": [
           {
            "colorbar": {
             "outlinewidth": 0,
             "ticks": ""
            },
            "colorscale": [
             [
              0,
              "#0d0887"
             ],
             [
              0.1111111111111111,
              "#46039f"
             ],
             [
              0.2222222222222222,
              "#7201a8"
             ],
             [
              0.3333333333333333,
              "#9c179e"
             ],
             [
              0.4444444444444444,
              "#bd3786"
             ],
             [
              0.5555555555555556,
              "#d8576b"
             ],
             [
              0.6666666666666666,
              "#ed7953"
             ],
             [
              0.7777777777777778,
              "#fb9f3a"
             ],
             [
              0.8888888888888888,
              "#fdca26"
             ],
             [
              1,
              "#f0f921"
             ]
            ],
            "type": "histogram2dcontour"
           }
          ],
          "mesh3d": [
           {
            "colorbar": {
             "outlinewidth": 0,
             "ticks": ""
            },
            "type": "mesh3d"
           }
          ],
          "parcoords": [
           {
            "line": {
             "colorbar": {
              "outlinewidth": 0,
              "ticks": ""
             }
            },
            "type": "parcoords"
           }
          ],
          "pie": [
           {
            "automargin": true,
            "type": "pie"
           }
          ],
          "scatter": [
           {
            "fillpattern": {
             "fillmode": "overlay",
             "size": 10,
             "solidity": 0.2
            },
            "type": "scatter"
           }
          ],
          "scatter3d": [
           {
            "line": {
             "colorbar": {
              "outlinewidth": 0,
              "ticks": ""
             }
            },
            "marker": {
             "colorbar": {
              "outlinewidth": 0,
              "ticks": ""
             }
            },
            "type": "scatter3d"
           }
          ],
          "scattercarpet": [
           {
            "marker": {
             "colorbar": {
              "outlinewidth": 0,
              "ticks": ""
             }
            },
            "type": "scattercarpet"
           }
          ],
          "scattergeo": [
           {
            "marker": {
             "colorbar": {
              "outlinewidth": 0,
              "ticks": ""
             }
            },
            "type": "scattergeo"
           }
          ],
          "scattergl": [
           {
            "marker": {
             "colorbar": {
              "outlinewidth": 0,
              "ticks": ""
             }
            },
            "type": "scattergl"
           }
          ],
          "scattermap": [
           {
            "marker": {
             "colorbar": {
              "outlinewidth": 0,
              "ticks": ""
             }
            },
            "type": "scattermap"
           }
          ],
          "scattermapbox": [
           {
            "marker": {
             "colorbar": {
              "outlinewidth": 0,
              "ticks": ""
             }
            },
            "type": "scattermapbox"
           }
          ],
          "scatterpolar": [
           {
            "marker": {
             "colorbar": {
              "outlinewidth": 0,
              "ticks": ""
             }
            },
            "type": "scatterpolar"
           }
          ],
          "scatterpolargl": [
           {
            "marker": {
             "colorbar": {
              "outlinewidth": 0,
              "ticks": ""
             }
            },
            "type": "scatterpolargl"
           }
          ],
          "scatterternary": [
           {
            "marker": {
             "colorbar": {
              "outlinewidth": 0,
              "ticks": ""
             }
            },
            "type": "scatterternary"
           }
          ],
          "surface": [
           {
            "colorbar": {
             "outlinewidth": 0,
             "ticks": ""
            },
            "colorscale": [
             [
              0,
              "#0d0887"
             ],
             [
              0.1111111111111111,
              "#46039f"
             ],
             [
              0.2222222222222222,
              "#7201a8"
             ],
             [
              0.3333333333333333,
              "#9c179e"
             ],
             [
              0.4444444444444444,
              "#bd3786"
             ],
             [
              0.5555555555555556,
              "#d8576b"
             ],
             [
              0.6666666666666666,
              "#ed7953"
             ],
             [
              0.7777777777777778,
              "#fb9f3a"
             ],
             [
              0.8888888888888888,
              "#fdca26"
             ],
             [
              1,
              "#f0f921"
             ]
            ],
            "type": "surface"
           }
          ],
          "table": [
           {
            "cells": {
             "fill": {
              "color": "#EBF0F8"
             },
             "line": {
              "color": "white"
             }
            },
            "header": {
             "fill": {
              "color": "#C8D4E3"
             },
             "line": {
              "color": "white"
             }
            },
            "type": "table"
           }
          ]
         },
         "layout": {
          "annotationdefaults": {
           "arrowcolor": "#2a3f5f",
           "arrowhead": 0,
           "arrowwidth": 1
          },
          "autotypenumbers": "strict",
          "coloraxis": {
           "colorbar": {
            "outlinewidth": 0,
            "ticks": ""
           }
          },
          "colorscale": {
           "diverging": [
            [
             0,
             "#8e0152"
            ],
            [
             0.1,
             "#c51b7d"
            ],
            [
             0.2,
             "#de77ae"
            ],
            [
             0.3,
             "#f1b6da"
            ],
            [
             0.4,
             "#fde0ef"
            ],
            [
             0.5,
             "#f7f7f7"
            ],
            [
             0.6,
             "#e6f5d0"
            ],
            [
             0.7,
             "#b8e186"
            ],
            [
             0.8,
             "#7fbc41"
            ],
            [
             0.9,
             "#4d9221"
            ],
            [
             1,
             "#276419"
            ]
           ],
           "sequential": [
            [
             0,
             "#0d0887"
            ],
            [
             0.1111111111111111,
             "#46039f"
            ],
            [
             0.2222222222222222,
             "#7201a8"
            ],
            [
             0.3333333333333333,
             "#9c179e"
            ],
            [
             0.4444444444444444,
             "#bd3786"
            ],
            [
             0.5555555555555556,
             "#d8576b"
            ],
            [
             0.6666666666666666,
             "#ed7953"
            ],
            [
             0.7777777777777778,
             "#fb9f3a"
            ],
            [
             0.8888888888888888,
             "#fdca26"
            ],
            [
             1,
             "#f0f921"
            ]
           ],
           "sequentialminus": [
            [
             0,
             "#0d0887"
            ],
            [
             0.1111111111111111,
             "#46039f"
            ],
            [
             0.2222222222222222,
             "#7201a8"
            ],
            [
             0.3333333333333333,
             "#9c179e"
            ],
            [
             0.4444444444444444,
             "#bd3786"
            ],
            [
             0.5555555555555556,
             "#d8576b"
            ],
            [
             0.6666666666666666,
             "#ed7953"
            ],
            [
             0.7777777777777778,
             "#fb9f3a"
            ],
            [
             0.8888888888888888,
             "#fdca26"
            ],
            [
             1,
             "#f0f921"
            ]
           ]
          },
          "colorway": [
           "#636efa",
           "#EF553B",
           "#00cc96",
           "#ab63fa",
           "#FFA15A",
           "#19d3f3",
           "#FF6692",
           "#B6E880",
           "#FF97FF",
           "#FECB52"
          ],
          "font": {
           "color": "#2a3f5f"
          },
          "geo": {
           "bgcolor": "white",
           "lakecolor": "white",
           "landcolor": "#E5ECF6",
           "showlakes": true,
           "showland": true,
           "subunitcolor": "white"
          },
          "hoverlabel": {
           "align": "left"
          },
          "hovermode": "closest",
          "mapbox": {
           "style": "light"
          },
          "paper_bgcolor": "white",
          "plot_bgcolor": "#E5ECF6",
          "polar": {
           "angularaxis": {
            "gridcolor": "white",
            "linecolor": "white",
            "ticks": ""
           },
           "bgcolor": "#E5ECF6",
           "radialaxis": {
            "gridcolor": "white",
            "linecolor": "white",
            "ticks": ""
           }
          },
          "scene": {
           "xaxis": {
            "backgroundcolor": "#E5ECF6",
            "gridcolor": "white",
            "gridwidth": 2,
            "linecolor": "white",
            "showbackground": true,
            "ticks": "",
            "zerolinecolor": "white"
           },
           "yaxis": {
            "backgroundcolor": "#E5ECF6",
            "gridcolor": "white",
            "gridwidth": 2,
            "linecolor": "white",
            "showbackground": true,
            "ticks": "",
            "zerolinecolor": "white"
           },
           "zaxis": {
            "backgroundcolor": "#E5ECF6",
            "gridcolor": "white",
            "gridwidth": 2,
            "linecolor": "white",
            "showbackground": true,
            "ticks": "",
            "zerolinecolor": "white"
           }
          },
          "shapedefaults": {
           "line": {
            "color": "#2a3f5f"
           }
          },
          "ternary": {
           "aaxis": {
            "gridcolor": "white",
            "linecolor": "white",
            "ticks": ""
           },
           "baxis": {
            "gridcolor": "white",
            "linecolor": "white",
            "ticks": ""
           },
           "bgcolor": "#E5ECF6",
           "caxis": {
            "gridcolor": "white",
            "linecolor": "white",
            "ticks": ""
           }
          },
          "title": {
           "x": 0.05
          },
          "xaxis": {
           "automargin": true,
           "gridcolor": "white",
           "linecolor": "white",
           "ticks": "",
           "title": {
            "standoff": 15
           },
           "zerolinecolor": "white",
           "zerolinewidth": 2
          },
          "yaxis": {
           "automargin": true,
           "gridcolor": "white",
           "linecolor": "white",
           "ticks": "",
           "title": {
            "standoff": 15
           },
           "zerolinecolor": "white",
           "zerolinewidth": 2
          }
         }
        },
        "title": {
         "text": "Global Peace Index vs Travel Advisory Level"
        },
        "updatemenus": [
         {
          "buttons": [
           {
            "args": [
             null,
             {
              "frame": {
               "duration": 500,
               "redraw": false
              },
              "fromcurrent": true,
              "mode": "immediate",
              "transition": {
               "duration": 500,
               "easing": "linear"
              }
             }
            ],
            "label": "&#9654;",
            "method": "animate"
           },
           {
            "args": [
             [
              null
             ],
             {
              "frame": {
               "duration": 0,
               "redraw": false
              },
              "fromcurrent": true,
              "mode": "immediate",
              "transition": {
               "duration": 0,
               "easing": "linear"
              }
             }
            ],
            "label": "&#9724;",
            "method": "animate"
           }
          ],
          "direction": "left",
          "pad": {
           "r": 10,
           "t": 70
          },
          "showactive": false,
          "type": "buttons",
          "x": 0.1,
          "xanchor": "right",
          "y": 0,
          "yanchor": "top"
         }
        ],
        "xaxis": {
         "anchor": "y",
         "domain": [
          0,
          1
         ],
         "title": {
          "text": "GPI Score"
         }
        },
        "yaxis": {
         "anchor": "x",
         "domain": [
          0,
          1
         ],
         "tickmode": "array",
         "tickvals": [
          1,
          2,
          3,
          4
         ],
         "title": {
          "text": "Travel Advisory Level"
         }
        }
       }
      }
     },
     "metadata": {},
     "output_type": "display_data"
    }
   ],
   "source": [
    "fig_gpi = px.scatter(\n",
    "    merged_clean,\n",
    "    x=\"gpi_score\",\n",
    "    y=\"advisory_level\",\n",
    "    animation_frame=\"year\",\n",
    "    hover_name=\"country\",\n",
    "    title=\"Global Peace Index vs Travel Advisory Level\",\n",
    "    labels={\"gpi_score\": \"GPI Score\", \"advisory_level\": \"Travel Advisory Level\"}\n",
    ")\n",
    "\n",
    "fig_gpi.update_layout(yaxis=dict(tickmode='array', tickvals=[1, 2, 3, 4]))\n",
    "fig_gpi.show()"
   ]
  },
  {
   "cell_type": "markdown",
   "id": "e6a5593b",
   "metadata": {},
   "source": [
    "### Global Terrorism Index vs Advisory Level\n"
   ]
  },
  {
   "cell_type": "code",
   "execution_count": 8,
   "id": "23785be8",
   "metadata": {},
   "outputs": [
    {
     "data": {
      "application/vnd.plotly.v1+json": {
       "config": {
        "plotlyServerURL": "https://plot.ly"
       },
       "data": [
        {
         "hovertemplate": "<b>%{hovertext}</b><br><br>year=2011<br>GTI Score=%{x}<br>Travel Advisory Level=%{y}<extra></extra>",
         "hovertext": [
          "Afghanistan",
          "Belarus",
          "Burkina Faso",
          "Central African Republic",
          "Democratic Republic of the Congo",
          "Haiti",
          "Iran",
          "Iraq",
          "Lebanon",
          "Libya",
          "Mali",
          "Russia",
          "Somalia",
          "South Sudan",
          "Sudan",
          "Syria",
          "Ukraine",
          "Venezuela",
          "Yemen"
         ],
         "legendgroup": "",
         "marker": {
          "color": "#636efa",
          "symbol": "circle"
         },
         "mode": "markers",
         "name": "",
         "orientation": "v",
         "showlegend": false,
         "type": "scatter",
         "x": {
          "bdata": "xSCwcmiRIUCHFtnO99MQQAAAAAAAAAAA2/l+arx0DED0/dR46aYTQAAAAAAAAAAAx0s3iUFgFUDjpZvEIPAiQA4tsp3vpw9ACtejcD0K5z8UrkfhehQKQDvfT42X7htAoBov3SSGHUAAAAAAAAAAAKRwPQrXIxNABFYOLbKdE0CNl24Sg8AAQHe+nxov3fw/iUFg5dAiHEA=",
          "dtype": "f8"
         },
         "xaxis": "x",
         "y": {
          "bdata": "AAAAAAAAEEAAAAAAAAAQQAAAAAAAABBAAAAAAAAAEEAAAAAAAAAQQAAAAAAAABBAAAAAAAAAEEAAAAAAAAAQQAAAAAAAABBAAAAAAAAAEEAAAAAAAAAQQAAAAAAAABBAAAAAAAAAEEAAAAAAAAAQQAAAAAAAABBAAAAAAAAAEEAAAAAAAAAQQAAAAAAAABBAAAAAAAAAEEA=",
          "dtype": "f8"
         },
         "yaxis": "y"
        }
       ],
       "frames": [
        {
         "data": [
          {
           "hovertemplate": "<b>%{hovertext}</b><br><br>year=2011<br>GTI Score=%{x}<br>Travel Advisory Level=%{y}<extra></extra>",
           "hovertext": [
            "Afghanistan",
            "Belarus",
            "Burkina Faso",
            "Central African Republic",
            "Democratic Republic of the Congo",
            "Haiti",
            "Iran",
            "Iraq",
            "Lebanon",
            "Libya",
            "Mali",
            "Russia",
            "Somalia",
            "South Sudan",
            "Sudan",
            "Syria",
            "Ukraine",
            "Venezuela",
            "Yemen"
           ],
           "legendgroup": "",
           "marker": {
            "color": "#636efa",
            "symbol": "circle"
           },
           "mode": "markers",
           "name": "",
           "orientation": "v",
           "showlegend": false,
           "type": "scatter",
           "x": {
            "bdata": "xSCwcmiRIUCHFtnO99MQQAAAAAAAAAAA2/l+arx0DED0/dR46aYTQAAAAAAAAAAAx0s3iUFgFUDjpZvEIPAiQA4tsp3vpw9ACtejcD0K5z8UrkfhehQKQDvfT42X7htAoBov3SSGHUAAAAAAAAAAAKRwPQrXIxNABFYOLbKdE0CNl24Sg8AAQHe+nxov3fw/iUFg5dAiHEA=",
            "dtype": "f8"
           },
           "xaxis": "x",
           "y": {
            "bdata": "AAAAAAAAEEAAAAAAAAAQQAAAAAAAABBAAAAAAAAAEEAAAAAAAAAQQAAAAAAAABBAAAAAAAAAEEAAAAAAAAAQQAAAAAAAABBAAAAAAAAAEEAAAAAAAAAQQAAAAAAAABBAAAAAAAAAEEAAAAAAAAAQQAAAAAAAABBAAAAAAAAAEEAAAAAAAAAQQAAAAAAAABBAAAAAAAAAEEA=",
            "dtype": "f8"
           },
           "yaxis": "y"
          }
         ],
         "name": "2011"
        },
        {
         "data": [
          {
           "hovertemplate": "<b>%{hovertext}</b><br><br>year=2012<br>GTI Score=%{x}<br>Travel Advisory Level=%{y}<extra></extra>",
           "hovertext": [
            "Afghanistan",
            "Belarus",
            "Burkina Faso",
            "Central African Republic",
            "Democratic Republic of the Congo",
            "Haiti",
            "Iran",
            "Iraq",
            "Lebanon",
            "Libya",
            "Mali",
            "Russia",
            "Somalia",
            "South Sudan",
            "Sudan",
            "Syria",
            "Ukraine",
            "Venezuela",
            "Yemen"
           ],
           "legendgroup": "",
           "marker": {
            "color": "#636efa",
            "symbol": "circle"
           },
           "mode": "markers",
           "name": "",
           "orientation": "v",
           "showlegend": false,
           "type": "scatter",
           "x": {
            "bdata": "ZmZmZmamIUCTGARWDi0MQAAAAAAAAAAAObTIdr6fCEC8dJMYBNYTQAAAAAAAAAAAyXa+nxovE0CWQ4ts57siQLKd76fGyxBAiUFg5dAiEkB3vp8aL10SQB+F61G4nhtAhxbZzvfTHUAAAAAAAAAAAGIQWDm0yBFAiUFg5dAiH0CTGARWDi0FQPLSTWIQWPM/lkOLbOd7HkA=",
            "dtype": "f8"
           },
           "xaxis": "x",
           "y": {
            "bdata": "AAAAAAAAEEAAAAAAAAAQQAAAAAAAABBAAAAAAAAAEEAAAAAAAAAQQAAAAAAAABBAAAAAAAAAEEAAAAAAAAAQQAAAAAAAABBAAAAAAAAAEEAAAAAAAAAQQAAAAAAAABBAAAAAAAAAEEAAAAAAAAAQQAAAAAAAABBAAAAAAAAAEEAAAAAAAAAQQAAAAAAAABBAAAAAAAAAEEA=",
            "dtype": "f8"
           },
           "yaxis": "y"
          }
         ],
         "name": "2012"
        },
        {
         "data": [
          {
           "hovertemplate": "<b>%{hovertext}</b><br><br>year=2013<br>GTI Score=%{x}<br>Travel Advisory Level=%{y}<extra></extra>",
           "hovertext": [
            "Afghanistan",
            "Belarus",
            "Burkina Faso",
            "Central African Republic",
            "Democratic Republic of the Congo",
            "Haiti",
            "Iran",
            "Iraq",
            "Lebanon",
            "Libya",
            "Mali",
            "Russia",
            "Somalia",
            "South Sudan",
            "Sudan",
            "Syria",
            "Ukraine",
            "Venezuela",
            "Yemen"
           ],
           "legendgroup": "",
           "marker": {
            "color": "#636efa",
            "symbol": "circle"
           },
           "mode": "markers",
           "name": "",
           "orientation": "v",
           "showlegend": false,
           "type": "scatter",
           "x": {
            "bdata": "rkfhehQuIUBvEoPAyqEGQAAAAAAAAAAAIbByaJHtAkAQWDm0yHYTQAAAAAAAAAAATmIQWDk0EkBU46WbxGAjQK5H4XoUrhVAj8L1KFyPFUC4HoXrUTgUQFpkO99PDRtA2c73U+MlHUBCYOXQItsEQEjhehSuRxBA5/up8dINIEBeukkMAisBQLKd76fGS/c/cT0K16PwHUA=",
            "dtype": "f8"
           },
           "xaxis": "x",
           "y": {
            "bdata": "AAAAAAAAEEAAAAAAAAAQQAAAAAAAABBAAAAAAAAAEEAAAAAAAAAQQAAAAAAAABBAAAAAAAAAEEAAAAAAAAAQQAAAAAAAABBAAAAAAAAAEEAAAAAAAAAQQAAAAAAAABBAAAAAAAAAEEAAAAAAAAAQQAAAAAAAABBAAAAAAAAAEEAAAAAAAAAQQAAAAAAAABBAAAAAAAAAEEA=",
            "dtype": "f8"
           },
           "yaxis": "y"
          }
         ],
         "name": "2013"
        },
        {
         "data": [
          {
           "hovertemplate": "<b>%{hovertext}</b><br><br>year=2014<br>GTI Score=%{x}<br>Travel Advisory Level=%{y}<extra></extra>",
           "hovertext": [
            "Afghanistan",
            "Belarus",
            "Burkina Faso",
            "Central African Republic",
            "Democratic Republic of the Congo",
            "Haiti",
            "Iran",
            "Iraq",
            "Lebanon",
            "Libya",
            "Mali",
            "Russia",
            "Somalia",
            "South Sudan",
            "Sudan",
            "Syria",
            "Ukraine",
            "Venezuela",
            "Yemen"
           ],
           "legendgroup": "",
           "marker": {
            "color": "#636efa",
            "symbol": "circle"
           },
           "mode": "markers",
           "name": "",
           "orientation": "v",
           "showlegend": false,
           "type": "scatter",
           "x": {
            "bdata": "8tJNYhAYIUBWDi2yne8AQAAAAAAAAAAAO99PjZduB0AMAiuHFlkQQAAAAAAAAAAAokW28/3UD0BKDAIrh1YjQPhT46WbRBdAfT81XrrJF0BkO99PjZcUQLTIdr6fGhlAsHJoke18HEDFILByaJEDQKjGSzeJQQtA2/l+arx0H0BQjZduEoMCQNEi2/l+aug/nMQgsHLoHUA=",
            "dtype": "f8"
           },
           "xaxis": "x",
           "y": {
            "bdata": "AAAAAAAAEEAAAAAAAAAQQAAAAAAAABBAAAAAAAAAEEAAAAAAAAAQQAAAAAAAABBAAAAAAAAAEEAAAAAAAAAQQAAAAAAAABBAAAAAAAAAEEAAAAAAAAAQQAAAAAAAABBAAAAAAAAAEEAAAAAAAAAQQAAAAAAAABBAAAAAAAAAEEAAAAAAAAAQQAAAAAAAABBAAAAAAAAAEEA=",
            "dtype": "f8"
           },
           "yaxis": "y"
          }
         ],
         "name": "2014"
        },
        {
         "data": [
          {
           "hovertemplate": "<b>%{hovertext}</b><br><br>year=2015<br>GTI Score=%{x}<br>Travel Advisory Level=%{y}<extra></extra>",
           "hovertext": [
            "Afghanistan",
            "Belarus",
            "Burkina Faso",
            "Central African Republic",
            "Democratic Republic of the Congo",
            "Haiti",
            "Iran",
            "Iraq",
            "Lebanon",
            "Libya",
            "Mali",
            "Russia",
            "Somalia",
            "South Sudan",
            "Sudan",
            "Syria",
            "Ukraine",
            "Venezuela",
            "Yemen"
           ],
           "legendgroup": "",
           "marker": {
            "color": "#636efa",
            "symbol": "circle"
           },
           "mode": "markers",
           "name": "",
           "orientation": "v",
           "showlegend": false,
           "type": "scatter",
           "x": {
            "bdata": "w/UoXI8CIUDl0CLb+X74P0a28/3UeAJAke18PzXeEEDRItv5fmoRQAAAAAAAAAAAsp3vp8ZLEUBxPQrXozAjQBBYObTIdhdAaJHtfD81GkAdWmQ7388YQMHKoUW2cxZAFK5H4XqUHEDufD81XroHQD0K16NwPQtAf2q8dJMYHkDy0k1iENgRQKJFtvP91PQ/kxgEVg4tHkA=",
            "dtype": "f8"
           },
           "xaxis": "x",
           "y": {
            "bdata": "AAAAAAAAEEAAAAAAAAAQQAAAAAAAABBAAAAAAAAAEEAAAAAAAAAQQAAAAAAAABBAAAAAAAAAEEAAAAAAAAAQQAAAAAAAABBAAAAAAAAAEEAAAAAAAAAQQAAAAAAAABBAAAAAAAAAEEAAAAAAAAAQQAAAAAAAABBAAAAAAAAAEEAAAAAAAAAQQAAAAAAAABBAAAAAAAAAEEA=",
            "dtype": "f8"
           },
           "yaxis": "y"
          }
         ],
         "name": "2015"
        },
        {
         "data": [
          {
           "hovertemplate": "<b>%{hovertext}</b><br><br>year=2016<br>GTI Score=%{x}<br>Travel Advisory Level=%{y}<extra></extra>",
           "hovertext": [
            "Afghanistan",
            "Belarus",
            "Burkina Faso",
            "Central African Republic",
            "Democratic Republic of the Congo",
            "Haiti",
            "Iran",
            "Iraq",
            "Lebanon",
            "Libya",
            "Mali",
            "Russia",
            "Somalia",
            "South Sudan",
            "Sudan",
            "Syria",
            "Ukraine",
            "Venezuela",
            "Yemen"
           ],
           "legendgroup": "",
           "marker": {
            "color": "#636efa",
            "symbol": "circle"
           },
           "mode": "markers",
           "name": "",
           "orientation": "v",
           "showlegend": false,
           "type": "scatter",
           "x": {
            "bdata": "KVyPwvWoIEAAAAAAAAAAAIts5/up8RJAppvEILByEUAfhetRuB4QQAAAAAAAAAAATmIQWDm0DkBeukkMAqsjQHsUrkfhehVAx0s3iUHgGEDwp8ZLN4kZQGiR7Xw/tRRArBxaZDvfHkDb+X5qvHQCQEjhehSuRwVAIbByaJFtHkBaZDvfT40PQKRwPQrXo/A/YOXQItt5HUA=",
            "dtype": "f8"
           },
           "xaxis": "x",
           "y": {
            "bdata": "AAAAAAAAEEAAAAAAAAAQQAAAAAAAABBAAAAAAAAAEEAAAAAAAAAQQAAAAAAAABBAAAAAAAAAEEAAAAAAAAAQQAAAAAAAABBAAAAAAAAAEEAAAAAAAAAQQAAAAAAAABBAAAAAAAAAEEAAAAAAAAAQQAAAAAAAABBAAAAAAAAAEEAAAAAAAAAQQAAAAAAAABBAAAAAAAAAEEA=",
            "dtype": "f8"
           },
           "yaxis": "y"
          }
         ],
         "name": "2016"
        },
        {
         "data": [
          {
           "hovertemplate": "<b>%{hovertext}</b><br><br>year=2017<br>GTI Score=%{x}<br>Travel Advisory Level=%{y}<extra></extra>",
           "hovertext": [
            "Afghanistan",
            "Belarus",
            "Burkina Faso",
            "Central African Republic",
            "Democratic Republic of the Congo",
            "Haiti",
            "Iran",
            "Iraq",
            "Lebanon",
            "Libya",
            "Mali",
            "Russia",
            "Somalia",
            "South Sudan",
            "Sudan",
            "Syria",
            "Ukraine",
            "Venezuela",
            "Yemen"
           ],
           "legendgroup": "",
           "marker": {
            "color": "#636efa",
            "symbol": "circle"
           },
           "mode": "markers",
           "name": "",
           "orientation": "v",
           "showlegend": false,
           "type": "scatter",
           "x": {
            "bdata": "sHJoke38IEAAAAAAAAAAAAisHFpkuxVAJzEIrBxaDUAfhetRuB4KQAAAAAAAAAAAvHSTGATWEEAdWmQ73w8jQNEi2/l+6hJA+FPjpZvEFkCDwMqhRbYbQBSuR+F6FBRA7nw/NV66IED0/dR46Sb7Py/dJAaBlQNAHVpkO9/PHUBQjZduEoMMQCPb+X5qvOQ/VOOlm8SgG0A=",
            "dtype": "f8"
           },
           "xaxis": "x",
           "y": {
            "bdata": "AAAAAAAAEEAAAAAAAAAQQAAAAAAAABBAAAAAAAAAEEAAAAAAAAAQQAAAAAAAABBAAAAAAAAAEEAAAAAAAAAQQAAAAAAAABBAAAAAAAAAEEAAAAAAAAAQQAAAAAAAABBAAAAAAAAAEEAAAAAAAAAQQAAAAAAAABBAAAAAAAAAEEAAAAAAAAAQQAAAAAAAABBAAAAAAAAAEEA=",
            "dtype": "f8"
           },
           "yaxis": "y"
          }
         ],
         "name": "2017"
        },
        {
         "data": [
          {
           "hovertemplate": "<b>%{hovertext}</b><br><br>year=2018<br>GTI Score=%{x}<br>Travel Advisory Level=%{y}<extra></extra>",
           "hovertext": [
            "Afghanistan",
            "Belarus",
            "Burkina Faso",
            "Central African Republic",
            "Democratic Republic of the Congo",
            "Haiti",
            "Iran",
            "Iraq",
            "Lebanon",
            "Libya",
            "Mali",
            "Russia",
            "Somalia",
            "South Sudan",
            "Sudan",
            "Syria",
            "Ukraine",
            "Venezuela",
            "Yemen"
           ],
           "legendgroup": "",
           "marker": {
            "color": "#636efa",
            "symbol": "circle"
           },
           "mode": "markers",
           "name": "",
           "orientation": "v",
           "showlegend": false,
           "type": "scatter",
           "x": {
            "bdata": "y6FFtvN9IUAAAAAAAAAAAHnpJjEIrBhAI9v5fmq8B0Cyne+nxksDQAAAAAAAAAAACKwcWmS7FECPwvUoXE8iQIPAyqFFNhBATmIQWDk0GED0/dR46aYcQAAAAAAAABJAL90kBoGVIEDpJjEIrBzwPzeJQWDl0Po/RIts5/spHUBiEFg5tMgJQF66SQwCqxBAvp8aL90kGkA=",
            "dtype": "f8"
           },
           "xaxis": "x",
           "y": {
            "bdata": "AAAAAAAAEEAAAAAAAAAQQAAAAAAAABBAAAAAAAAAEEAAAAAAAAAQQAAAAAAAABBAAAAAAAAAEEAAAAAAAAAQQAAAAAAAABBAAAAAAAAAEEAAAAAAAAAQQAAAAAAAABBAAAAAAAAAEEAAAAAAAAAQQAAAAAAAABBAAAAAAAAAEEAAAAAAAAAQQAAAAAAAABBAAAAAAAAAEEA=",
            "dtype": "f8"
           },
           "yaxis": "y"
          }
         ],
         "name": "2018"
        },
        {
         "data": [
          {
           "hovertemplate": "<b>%{hovertext}</b><br><br>year=2019<br>GTI Score=%{x}<br>Travel Advisory Level=%{y}<extra></extra>",
           "hovertext": [
            "Afghanistan",
            "Belarus",
            "Burkina Faso",
            "Central African Republic",
            "Democratic Republic of the Congo",
            "Haiti",
            "Iran",
            "Iraq",
            "Lebanon",
            "Libya",
            "Mali",
            "Russia",
            "Somalia",
            "South Sudan",
            "Sudan",
            "Syria",
            "Ukraine",
            "Venezuela",
            "Yemen"
           ],
           "legendgroup": "",
           "marker": {
            "color": "#636efa",
            "symbol": "circle"
           },
           "mode": "markers",
           "name": "",
           "orientation": "v",
           "showlegend": false,
           "type": "scatter",
           "x": {
            "bdata": "rkfhehRuIUAAAAAAAAAAALpJDAIrhx1AgZVDi2znAUAfhetRuB4OQAAAAAAAAAAAhetRuB6FFEC8dJMYBFYhQFTjpZvEIAtAJQaBlUMLFkD+1HjpJjEdQGDl0CLb+Q5Af2q8dJNYIECYbhKDwMrhPyuHFtnO9/E/H4XrUbieHUAdWmQ7308FQHe+nxov3QtAWmQ730+NGEA=",
            "dtype": "f8"
           },
           "xaxis": "x",
           "y": {
            "bdata": "AAAAAAAAEEAAAAAAAAAQQAAAAAAAABBAAAAAAAAAEEAAAAAAAAAQQAAAAAAAABBAAAAAAAAAEEAAAAAAAAAQQAAAAAAAABBAAAAAAAAAEEAAAAAAAAAQQAAAAAAAABBAAAAAAAAAEEAAAAAAAAAQQAAAAAAAABBAAAAAAAAAEEAAAAAAAAAQQAAAAAAAABBAAAAAAAAAEEA=",
            "dtype": "f8"
           },
           "yaxis": "y"
          }
         ],
         "name": "2019"
        },
        {
         "data": [
          {
           "hovertemplate": "<b>%{hovertext}</b><br><br>year=2020<br>GTI Score=%{x}<br>Travel Advisory Level=%{y}<extra></extra>",
           "hovertext": [
            "Afghanistan",
            "Belarus",
            "Burkina Faso",
            "Central African Republic",
            "Democratic Republic of the Congo",
            "Haiti",
            "Iran",
            "Iraq",
            "Lebanon",
            "Libya",
            "Mali",
            "Russia",
            "Somalia",
            "South Sudan",
            "Sudan",
            "Syria",
            "Ukraine",
            "Venezuela",
            "Yemen"
           ],
           "legendgroup": "",
           "marker": {
            "color": "#636efa",
            "symbol": "circle"
           },
           "mode": "markers",
           "name": "",
           "orientation": "v",
           "showlegend": false,
           "type": "scatter",
           "x": {
            "bdata": "K4cW2c53IUAAAAAAAAAAAC/dJAaBlR5A7FG4HoXr8z8K16NwPQoVQAAAAAAAAAAA0SLb+X7qEkB/arx0k5ggQKJFtvP91AdA9ihcj8L1EkAOLbKd76cdQD81XrpJDA1AbxKDwMohIEAAAAAAAAAAAIGVQ4ts59s/YOXQItt5H0AUrkfhehT8P5ZDi2zn+wZAokW28/1UFUA=",
            "dtype": "f8"
           },
           "xaxis": "x",
           "y": {
            "bdata": "AAAAAAAAEEAAAAAAAAAQQAAAAAAAABBAAAAAAAAAEEAAAAAAAAAQQAAAAAAAABBAAAAAAAAAEEAAAAAAAAAQQAAAAAAAABBAAAAAAAAAEEAAAAAAAAAQQAAAAAAAABBAAAAAAAAAEEAAAAAAAAAQQAAAAAAAABBAAAAAAAAAEEAAAAAAAAAQQAAAAAAAABBAAAAAAAAAEEA=",
            "dtype": "f8"
           },
           "yaxis": "y"
          }
         ],
         "name": "2020"
        },
        {
         "data": [
          {
           "hovertemplate": "<b>%{hovertext}</b><br><br>year=2021<br>GTI Score=%{x}<br>Travel Advisory Level=%{y}<extra></extra>",
           "hovertext": [
            "Afghanistan",
            "Belarus",
            "Burkina Faso",
            "Central African Republic",
            "Democratic Republic of the Congo",
            "Haiti",
            "Iran",
            "Iraq",
            "Lebanon",
            "Libya",
            "Mali",
            "Russia",
            "Somalia",
            "South Sudan",
            "Sudan",
            "Syria",
            "Ukraine",
            "Venezuela",
            "Yemen"
           ],
           "legendgroup": "",
           "marker": {
            "color": "#636efa",
            "symbol": "circle"
           },
           "mode": "markers",
           "name": "",
           "orientation": "v",
           "showlegend": false,
           "type": "scatter",
           "x": {
            "bdata": "iUFg5dCiIUAAAAAAAAAAAKJFtvP9VB9AtvP91Hjp6j/HSzeJQeAYQAAAAAAAAAAApHA9CtejEEDb+X5qvDQgQB1aZDvfTwNAwcqhRbZzEECyne+nxsseQG3n+6nx0ghAlkOLbOf7H0AAAAAAAAAAAAwCK4cW2c4/7nw/NV46H0CWQ4ts5/vxPwIrhxbZzgZASgwCK4cWFEA=",
            "dtype": "f8"
           },
           "xaxis": "x",
           "y": {
            "bdata": "AAAAAAAAEEAAAAAAAAAQQAAAAAAAABBAAAAAAAAAEEAAAAAAAAAQQAAAAAAAABBAAAAAAAAAEEAAAAAAAAAQQAAAAAAAABBAAAAAAAAAEEAAAAAAAAAQQAAAAAAAABBAAAAAAAAAEEAAAAAAAAAQQAAAAAAAABBAAAAAAAAAEEAAAAAAAAAQQAAAAAAAABBAAAAAAAAAEEA=",
            "dtype": "f8"
           },
           "yaxis": "y"
          }
         ],
         "name": "2021"
        },
        {
         "data": [
          {
           "hovertemplate": "<b>%{hovertext}</b><br><br>year=2022<br>GTI Score=%{x}<br>Travel Advisory Level=%{y}<extra></extra>",
           "hovertext": [
            "Afghanistan",
            "Belarus",
            "Burkina Faso",
            "Central African Republic",
            "Democratic Republic of the Congo",
            "Haiti",
            "Iran",
            "Iraq",
            "Lebanon",
            "Libya",
            "Mali",
            "Russia",
            "Somalia",
            "South Sudan",
            "Sudan",
            "Syria",
            "Ukraine",
            "Venezuela",
            "Yemen"
           ],
           "legendgroup": "",
           "marker": {
            "color": "#636efa",
            "symbol": "circle"
           },
           "mode": "markers",
           "name": "",
           "orientation": "v",
           "showlegend": false,
           "type": "scatter",
           "x": {
            "bdata": "XrpJDALrIEAAAAAAAAAAAN9PjZduUiBAiUFg5dAiAEDD9Shcj8IYQAAAAAAAAAAAPQrXo3C9EUDufD81XroeQPhT46WbxAFAUrgehetRDUA730+Nl+4fQBsv3SQGgQVA8tJNYhAYIEAAAAAAAAAAAAAAAAAAAAAAL90kBoEVH0CWQ4ts5/vhP3npJjEIrAFAokW28/3UEkA=",
            "dtype": "f8"
           },
           "xaxis": "x",
           "y": {
            "bdata": "AAAAAAAAEEAAAAAAAAAQQAAAAAAAABBAAAAAAAAAEEAAAAAAAAAQQAAAAAAAABBAAAAAAAAAEEAAAAAAAAAQQAAAAAAAABBAAAAAAAAAEEAAAAAAAAAQQAAAAAAAABBAAAAAAAAAEEAAAAAAAAAQQAAAAAAAABBAAAAAAAAAEEAAAAAAAAAQQAAAAAAAABBAAAAAAAAAEEA=",
            "dtype": "f8"
           },
           "yaxis": "y"
          }
         ],
         "name": "2022"
        },
        {
         "data": [
          {
           "hovertemplate": "<b>%{hovertext}</b><br><br>year=2023<br>GTI Score=%{x}<br>Travel Advisory Level=%{y}<extra></extra>",
           "hovertext": [
            "Afghanistan",
            "Belarus",
            "Burkina Faso",
            "Central African Republic",
            "Democratic Republic of the Congo",
            "Haiti",
            "Iran",
            "Iraq",
            "Lebanon",
            "Libya",
            "Mali",
            "Russia",
            "Somalia",
            "South Sudan",
            "Sudan",
            "Syria",
            "Ukraine",
            "Venezuela",
            "Yemen"
           ],
           "legendgroup": "",
           "marker": {
            "color": "#636efa",
            "symbol": "circle"
           },
           "mode": "markers",
           "name": "",
           "orientation": "v",
           "showlegend": false,
           "type": "scatter",
           "x": {
            "bdata": "vHSTGARWH0DfT42XbhLbPylcj8L1KCFAH4XrUbge9z+amZmZmRkaQAAAAAAAAAAABoGVQ4vsEkCWQ4ts53scQMuhRbbz/fg/jZduEoPAA0DD9ShcjwIgQCUGgZVDiwhAsp3vp8ZLH0AAAAAAAAAAAAAAAAAAAAAAYhBYObTIH0Bg5dAi2/n6P2IQWDm0yPI/UrgehevRE0A=",
            "dtype": "f8"
           },
           "xaxis": "x",
           "y": {
            "bdata": "AAAAAAAAEEAAAAAAAAAQQAAAAAAAABBAAAAAAAAAEEAAAAAAAAAQQAAAAAAAABBAAAAAAAAAEEAAAAAAAAAQQAAAAAAAABBAAAAAAAAAEEAAAAAAAAAQQAAAAAAAABBAAAAAAAAAEEAAAAAAAAAQQAAAAAAAABBAAAAAAAAAEEAAAAAAAAAQQAAAAAAAABBAAAAAAAAAEEA=",
            "dtype": "f8"
           },
           "yaxis": "y"
          }
         ],
         "name": "2023"
        },
        {
         "data": [
          {
           "hovertemplate": "<b>%{hovertext}</b><br><br>year=2024<br>GTI Score=%{x}<br>Travel Advisory Level=%{y}<extra></extra>",
           "hovertext": [
            "Afghanistan",
            "Belarus",
            "Burkina Faso",
            "Central African Republic",
            "Democratic Republic of the Congo",
            "Haiti",
            "Iran",
            "Iraq",
            "Lebanon",
            "Libya",
            "Mali",
            "Russia",
            "Somalia",
            "South Sudan",
            "Sudan",
            "Syria",
            "Ukraine",
            "Venezuela",
            "Yemen"
           ],
           "legendgroup": "",
           "marker": {
            "color": "#636efa",
            "symbol": "circle"
           },
           "mode": "markers",
           "name": "",
           "orientation": "v",
           "showlegend": false,
           "type": "scatter",
           "x": {
            "bdata": "PzVeukkMHUBt5/up8dLNP7bz/dR4KSFAObTIdr6f7j/fT42XbhIbQAAAAAAAAAAA001iEFg5GECHFtnO91MaQJhuEoPAyvM/mG4Sg8DK+T9U46WbxKAfQMUgsHJoERlA2/l+arx0HkAAAAAAAAAAAAAAAAAAAAAAUI2XbhIDIECgGi/dJAYAQLgehetRuOY/UrgehetRFEA=",
            "dtype": "f8"
           },
           "xaxis": "x",
           "y": {
            "bdata": "AAAAAAAAEEAAAAAAAAAQQAAAAAAAABBAAAAAAAAAEEAAAAAAAAAQQAAAAAAAABBAAAAAAAAAEEAAAAAAAAAQQAAAAAAAABBAAAAAAAAAEEAAAAAAAAAQQAAAAAAAABBAAAAAAAAAEEAAAAAAAAAQQAAAAAAAABBAAAAAAAAAEEAAAAAAAAAQQAAAAAAAABBAAAAAAAAAEEA=",
            "dtype": "f8"
           },
           "yaxis": "y"
          }
         ],
         "name": "2024"
        }
       ],
       "layout": {
        "legend": {
         "tracegroupgap": 0
        },
        "sliders": [
         {
          "active": 0,
          "currentvalue": {
           "prefix": "year="
          },
          "len": 0.9,
          "pad": {
           "b": 10,
           "t": 60
          },
          "steps": [
           {
            "args": [
             [
              "2011"
             ],
             {
              "frame": {
               "duration": 0,
               "redraw": false
              },
              "fromcurrent": true,
              "mode": "immediate",
              "transition": {
               "duration": 0,
               "easing": "linear"
              }
             }
            ],
            "label": "2011",
            "method": "animate"
           },
           {
            "args": [
             [
              "2012"
             ],
             {
              "frame": {
               "duration": 0,
               "redraw": false
              },
              "fromcurrent": true,
              "mode": "immediate",
              "transition": {
               "duration": 0,
               "easing": "linear"
              }
             }
            ],
            "label": "2012",
            "method": "animate"
           },
           {
            "args": [
             [
              "2013"
             ],
             {
              "frame": {
               "duration": 0,
               "redraw": false
              },
              "fromcurrent": true,
              "mode": "immediate",
              "transition": {
               "duration": 0,
               "easing": "linear"
              }
             }
            ],
            "label": "2013",
            "method": "animate"
           },
           {
            "args": [
             [
              "2014"
             ],
             {
              "frame": {
               "duration": 0,
               "redraw": false
              },
              "fromcurrent": true,
              "mode": "immediate",
              "transition": {
               "duration": 0,
               "easing": "linear"
              }
             }
            ],
            "label": "2014",
            "method": "animate"
           },
           {
            "args": [
             [
              "2015"
             ],
             {
              "frame": {
               "duration": 0,
               "redraw": false
              },
              "fromcurrent": true,
              "mode": "immediate",
              "transition": {
               "duration": 0,
               "easing": "linear"
              }
             }
            ],
            "label": "2015",
            "method": "animate"
           },
           {
            "args": [
             [
              "2016"
             ],
             {
              "frame": {
               "duration": 0,
               "redraw": false
              },
              "fromcurrent": true,
              "mode": "immediate",
              "transition": {
               "duration": 0,
               "easing": "linear"
              }
             }
            ],
            "label": "2016",
            "method": "animate"
           },
           {
            "args": [
             [
              "2017"
             ],
             {
              "frame": {
               "duration": 0,
               "redraw": false
              },
              "fromcurrent": true,
              "mode": "immediate",
              "transition": {
               "duration": 0,
               "easing": "linear"
              }
             }
            ],
            "label": "2017",
            "method": "animate"
           },
           {
            "args": [
             [
              "2018"
             ],
             {
              "frame": {
               "duration": 0,
               "redraw": false
              },
              "fromcurrent": true,
              "mode": "immediate",
              "transition": {
               "duration": 0,
               "easing": "linear"
              }
             }
            ],
            "label": "2018",
            "method": "animate"
           },
           {
            "args": [
             [
              "2019"
             ],
             {
              "frame": {
               "duration": 0,
               "redraw": false
              },
              "fromcurrent": true,
              "mode": "immediate",
              "transition": {
               "duration": 0,
               "easing": "linear"
              }
             }
            ],
            "label": "2019",
            "method": "animate"
           },
           {
            "args": [
             [
              "2020"
             ],
             {
              "frame": {
               "duration": 0,
               "redraw": false
              },
              "fromcurrent": true,
              "mode": "immediate",
              "transition": {
               "duration": 0,
               "easing": "linear"
              }
             }
            ],
            "label": "2020",
            "method": "animate"
           },
           {
            "args": [
             [
              "2021"
             ],
             {
              "frame": {
               "duration": 0,
               "redraw": false
              },
              "fromcurrent": true,
              "mode": "immediate",
              "transition": {
               "duration": 0,
               "easing": "linear"
              }
             }
            ],
            "label": "2021",
            "method": "animate"
           },
           {
            "args": [
             [
              "2022"
             ],
             {
              "frame": {
               "duration": 0,
               "redraw": false
              },
              "fromcurrent": true,
              "mode": "immediate",
              "transition": {
               "duration": 0,
               "easing": "linear"
              }
             }
            ],
            "label": "2022",
            "method": "animate"
           },
           {
            "args": [
             [
              "2023"
             ],
             {
              "frame": {
               "duration": 0,
               "redraw": false
              },
              "fromcurrent": true,
              "mode": "immediate",
              "transition": {
               "duration": 0,
               "easing": "linear"
              }
             }
            ],
            "label": "2023",
            "method": "animate"
           },
           {
            "args": [
             [
              "2024"
             ],
             {
              "frame": {
               "duration": 0,
               "redraw": false
              },
              "fromcurrent": true,
              "mode": "immediate",
              "transition": {
               "duration": 0,
               "easing": "linear"
              }
             }
            ],
            "label": "2024",
            "method": "animate"
           }
          ],
          "x": 0.1,
          "xanchor": "left",
          "y": 0,
          "yanchor": "top"
         }
        ],
        "template": {
         "data": {
          "bar": [
           {
            "error_x": {
             "color": "#2a3f5f"
            },
            "error_y": {
             "color": "#2a3f5f"
            },
            "marker": {
             "line": {
              "color": "#E5ECF6",
              "width": 0.5
             },
             "pattern": {
              "fillmode": "overlay",
              "size": 10,
              "solidity": 0.2
             }
            },
            "type": "bar"
           }
          ],
          "barpolar": [
           {
            "marker": {
             "line": {
              "color": "#E5ECF6",
              "width": 0.5
             },
             "pattern": {
              "fillmode": "overlay",
              "size": 10,
              "solidity": 0.2
             }
            },
            "type": "barpolar"
           }
          ],
          "carpet": [
           {
            "aaxis": {
             "endlinecolor": "#2a3f5f",
             "gridcolor": "white",
             "linecolor": "white",
             "minorgridcolor": "white",
             "startlinecolor": "#2a3f5f"
            },
            "baxis": {
             "endlinecolor": "#2a3f5f",
             "gridcolor": "white",
             "linecolor": "white",
             "minorgridcolor": "white",
             "startlinecolor": "#2a3f5f"
            },
            "type": "carpet"
           }
          ],
          "choropleth": [
           {
            "colorbar": {
             "outlinewidth": 0,
             "ticks": ""
            },
            "type": "choropleth"
           }
          ],
          "contour": [
           {
            "colorbar": {
             "outlinewidth": 0,
             "ticks": ""
            },
            "colorscale": [
             [
              0,
              "#0d0887"
             ],
             [
              0.1111111111111111,
              "#46039f"
             ],
             [
              0.2222222222222222,
              "#7201a8"
             ],
             [
              0.3333333333333333,
              "#9c179e"
             ],
             [
              0.4444444444444444,
              "#bd3786"
             ],
             [
              0.5555555555555556,
              "#d8576b"
             ],
             [
              0.6666666666666666,
              "#ed7953"
             ],
             [
              0.7777777777777778,
              "#fb9f3a"
             ],
             [
              0.8888888888888888,
              "#fdca26"
             ],
             [
              1,
              "#f0f921"
             ]
            ],
            "type": "contour"
           }
          ],
          "contourcarpet": [
           {
            "colorbar": {
             "outlinewidth": 0,
             "ticks": ""
            },
            "type": "contourcarpet"
           }
          ],
          "heatmap": [
           {
            "colorbar": {
             "outlinewidth": 0,
             "ticks": ""
            },
            "colorscale": [
             [
              0,
              "#0d0887"
             ],
             [
              0.1111111111111111,
              "#46039f"
             ],
             [
              0.2222222222222222,
              "#7201a8"
             ],
             [
              0.3333333333333333,
              "#9c179e"
             ],
             [
              0.4444444444444444,
              "#bd3786"
             ],
             [
              0.5555555555555556,
              "#d8576b"
             ],
             [
              0.6666666666666666,
              "#ed7953"
             ],
             [
              0.7777777777777778,
              "#fb9f3a"
             ],
             [
              0.8888888888888888,
              "#fdca26"
             ],
             [
              1,
              "#f0f921"
             ]
            ],
            "type": "heatmap"
           }
          ],
          "histogram": [
           {
            "marker": {
             "pattern": {
              "fillmode": "overlay",
              "size": 10,
              "solidity": 0.2
             }
            },
            "type": "histogram"
           }
          ],
          "histogram2d": [
           {
            "colorbar": {
             "outlinewidth": 0,
             "ticks": ""
            },
            "colorscale": [
             [
              0,
              "#0d0887"
             ],
             [
              0.1111111111111111,
              "#46039f"
             ],
             [
              0.2222222222222222,
              "#7201a8"
             ],
             [
              0.3333333333333333,
              "#9c179e"
             ],
             [
              0.4444444444444444,
              "#bd3786"
             ],
             [
              0.5555555555555556,
              "#d8576b"
             ],
             [
              0.6666666666666666,
              "#ed7953"
             ],
             [
              0.7777777777777778,
              "#fb9f3a"
             ],
             [
              0.8888888888888888,
              "#fdca26"
             ],
             [
              1,
              "#f0f921"
             ]
            ],
            "type": "histogram2d"
           }
          ],
          "histogram2dcontour": [
           {
            "colorbar": {
             "outlinewidth": 0,
             "ticks": ""
            },
            "colorscale": [
             [
              0,
              "#0d0887"
             ],
             [
              0.1111111111111111,
              "#46039f"
             ],
             [
              0.2222222222222222,
              "#7201a8"
             ],
             [
              0.3333333333333333,
              "#9c179e"
             ],
             [
              0.4444444444444444,
              "#bd3786"
             ],
             [
              0.5555555555555556,
              "#d8576b"
             ],
             [
              0.6666666666666666,
              "#ed7953"
             ],
             [
              0.7777777777777778,
              "#fb9f3a"
             ],
             [
              0.8888888888888888,
              "#fdca26"
             ],
             [
              1,
              "#f0f921"
             ]
            ],
            "type": "histogram2dcontour"
           }
          ],
          "mesh3d": [
           {
            "colorbar": {
             "outlinewidth": 0,
             "ticks": ""
            },
            "type": "mesh3d"
           }
          ],
          "parcoords": [
           {
            "line": {
             "colorbar": {
              "outlinewidth": 0,
              "ticks": ""
             }
            },
            "type": "parcoords"
           }
          ],
          "pie": [
           {
            "automargin": true,
            "type": "pie"
           }
          ],
          "scatter": [
           {
            "fillpattern": {
             "fillmode": "overlay",
             "size": 10,
             "solidity": 0.2
            },
            "type": "scatter"
           }
          ],
          "scatter3d": [
           {
            "line": {
             "colorbar": {
              "outlinewidth": 0,
              "ticks": ""
             }
            },
            "marker": {
             "colorbar": {
              "outlinewidth": 0,
              "ticks": ""
             }
            },
            "type": "scatter3d"
           }
          ],
          "scattercarpet": [
           {
            "marker": {
             "colorbar": {
              "outlinewidth": 0,
              "ticks": ""
             }
            },
            "type": "scattercarpet"
           }
          ],
          "scattergeo": [
           {
            "marker": {
             "colorbar": {
              "outlinewidth": 0,
              "ticks": ""
             }
            },
            "type": "scattergeo"
           }
          ],
          "scattergl": [
           {
            "marker": {
             "colorbar": {
              "outlinewidth": 0,
              "ticks": ""
             }
            },
            "type": "scattergl"
           }
          ],
          "scattermap": [
           {
            "marker": {
             "colorbar": {
              "outlinewidth": 0,
              "ticks": ""
             }
            },
            "type": "scattermap"
           }
          ],
          "scattermapbox": [
           {
            "marker": {
             "colorbar": {
              "outlinewidth": 0,
              "ticks": ""
             }
            },
            "type": "scattermapbox"
           }
          ],
          "scatterpolar": [
           {
            "marker": {
             "colorbar": {
              "outlinewidth": 0,
              "ticks": ""
             }
            },
            "type": "scatterpolar"
           }
          ],
          "scatterpolargl": [
           {
            "marker": {
             "colorbar": {
              "outlinewidth": 0,
              "ticks": ""
             }
            },
            "type": "scatterpolargl"
           }
          ],
          "scatterternary": [
           {
            "marker": {
             "colorbar": {
              "outlinewidth": 0,
              "ticks": ""
             }
            },
            "type": "scatterternary"
           }
          ],
          "surface": [
           {
            "colorbar": {
             "outlinewidth": 0,
             "ticks": ""
            },
            "colorscale": [
             [
              0,
              "#0d0887"
             ],
             [
              0.1111111111111111,
              "#46039f"
             ],
             [
              0.2222222222222222,
              "#7201a8"
             ],
             [
              0.3333333333333333,
              "#9c179e"
             ],
             [
              0.4444444444444444,
              "#bd3786"
             ],
             [
              0.5555555555555556,
              "#d8576b"
             ],
             [
              0.6666666666666666,
              "#ed7953"
             ],
             [
              0.7777777777777778,
              "#fb9f3a"
             ],
             [
              0.8888888888888888,
              "#fdca26"
             ],
             [
              1,
              "#f0f921"
             ]
            ],
            "type": "surface"
           }
          ],
          "table": [
           {
            "cells": {
             "fill": {
              "color": "#EBF0F8"
             },
             "line": {
              "color": "white"
             }
            },
            "header": {
             "fill": {
              "color": "#C8D4E3"
             },
             "line": {
              "color": "white"
             }
            },
            "type": "table"
           }
          ]
         },
         "layout": {
          "annotationdefaults": {
           "arrowcolor": "#2a3f5f",
           "arrowhead": 0,
           "arrowwidth": 1
          },
          "autotypenumbers": "strict",
          "coloraxis": {
           "colorbar": {
            "outlinewidth": 0,
            "ticks": ""
           }
          },
          "colorscale": {
           "diverging": [
            [
             0,
             "#8e0152"
            ],
            [
             0.1,
             "#c51b7d"
            ],
            [
             0.2,
             "#de77ae"
            ],
            [
             0.3,
             "#f1b6da"
            ],
            [
             0.4,
             "#fde0ef"
            ],
            [
             0.5,
             "#f7f7f7"
            ],
            [
             0.6,
             "#e6f5d0"
            ],
            [
             0.7,
             "#b8e186"
            ],
            [
             0.8,
             "#7fbc41"
            ],
            [
             0.9,
             "#4d9221"
            ],
            [
             1,
             "#276419"
            ]
           ],
           "sequential": [
            [
             0,
             "#0d0887"
            ],
            [
             0.1111111111111111,
             "#46039f"
            ],
            [
             0.2222222222222222,
             "#7201a8"
            ],
            [
             0.3333333333333333,
             "#9c179e"
            ],
            [
             0.4444444444444444,
             "#bd3786"
            ],
            [
             0.5555555555555556,
             "#d8576b"
            ],
            [
             0.6666666666666666,
             "#ed7953"
            ],
            [
             0.7777777777777778,
             "#fb9f3a"
            ],
            [
             0.8888888888888888,
             "#fdca26"
            ],
            [
             1,
             "#f0f921"
            ]
           ],
           "sequentialminus": [
            [
             0,
             "#0d0887"
            ],
            [
             0.1111111111111111,
             "#46039f"
            ],
            [
             0.2222222222222222,
             "#7201a8"
            ],
            [
             0.3333333333333333,
             "#9c179e"
            ],
            [
             0.4444444444444444,
             "#bd3786"
            ],
            [
             0.5555555555555556,
             "#d8576b"
            ],
            [
             0.6666666666666666,
             "#ed7953"
            ],
            [
             0.7777777777777778,
             "#fb9f3a"
            ],
            [
             0.8888888888888888,
             "#fdca26"
            ],
            [
             1,
             "#f0f921"
            ]
           ]
          },
          "colorway": [
           "#636efa",
           "#EF553B",
           "#00cc96",
           "#ab63fa",
           "#FFA15A",
           "#19d3f3",
           "#FF6692",
           "#B6E880",
           "#FF97FF",
           "#FECB52"
          ],
          "font": {
           "color": "#2a3f5f"
          },
          "geo": {
           "bgcolor": "white",
           "lakecolor": "white",
           "landcolor": "#E5ECF6",
           "showlakes": true,
           "showland": true,
           "subunitcolor": "white"
          },
          "hoverlabel": {
           "align": "left"
          },
          "hovermode": "closest",
          "mapbox": {
           "style": "light"
          },
          "paper_bgcolor": "white",
          "plot_bgcolor": "#E5ECF6",
          "polar": {
           "angularaxis": {
            "gridcolor": "white",
            "linecolor": "white",
            "ticks": ""
           },
           "bgcolor": "#E5ECF6",
           "radialaxis": {
            "gridcolor": "white",
            "linecolor": "white",
            "ticks": ""
           }
          },
          "scene": {
           "xaxis": {
            "backgroundcolor": "#E5ECF6",
            "gridcolor": "white",
            "gridwidth": 2,
            "linecolor": "white",
            "showbackground": true,
            "ticks": "",
            "zerolinecolor": "white"
           },
           "yaxis": {
            "backgroundcolor": "#E5ECF6",
            "gridcolor": "white",
            "gridwidth": 2,
            "linecolor": "white",
            "showbackground": true,
            "ticks": "",
            "zerolinecolor": "white"
           },
           "zaxis": {
            "backgroundcolor": "#E5ECF6",
            "gridcolor": "white",
            "gridwidth": 2,
            "linecolor": "white",
            "showbackground": true,
            "ticks": "",
            "zerolinecolor": "white"
           }
          },
          "shapedefaults": {
           "line": {
            "color": "#2a3f5f"
           }
          },
          "ternary": {
           "aaxis": {
            "gridcolor": "white",
            "linecolor": "white",
            "ticks": ""
           },
           "baxis": {
            "gridcolor": "white",
            "linecolor": "white",
            "ticks": ""
           },
           "bgcolor": "#E5ECF6",
           "caxis": {
            "gridcolor": "white",
            "linecolor": "white",
            "ticks": ""
           }
          },
          "title": {
           "x": 0.05
          },
          "xaxis": {
           "automargin": true,
           "gridcolor": "white",
           "linecolor": "white",
           "ticks": "",
           "title": {
            "standoff": 15
           },
           "zerolinecolor": "white",
           "zerolinewidth": 2
          },
          "yaxis": {
           "automargin": true,
           "gridcolor": "white",
           "linecolor": "white",
           "ticks": "",
           "title": {
            "standoff": 15
           },
           "zerolinecolor": "white",
           "zerolinewidth": 2
          }
         }
        },
        "title": {
         "text": "Global Terrorism Index vs Travel Advisory Level"
        },
        "updatemenus": [
         {
          "buttons": [
           {
            "args": [
             null,
             {
              "frame": {
               "duration": 500,
               "redraw": false
              },
              "fromcurrent": true,
              "mode": "immediate",
              "transition": {
               "duration": 500,
               "easing": "linear"
              }
             }
            ],
            "label": "&#9654;",
            "method": "animate"
           },
           {
            "args": [
             [
              null
             ],
             {
              "frame": {
               "duration": 0,
               "redraw": false
              },
              "fromcurrent": true,
              "mode": "immediate",
              "transition": {
               "duration": 0,
               "easing": "linear"
              }
             }
            ],
            "label": "&#9724;",
            "method": "animate"
           }
          ],
          "direction": "left",
          "pad": {
           "r": 10,
           "t": 70
          },
          "showactive": false,
          "type": "buttons",
          "x": 0.1,
          "xanchor": "right",
          "y": 0,
          "yanchor": "top"
         }
        ],
        "xaxis": {
         "anchor": "y",
         "domain": [
          0,
          1
         ],
         "title": {
          "text": "GTI Score"
         }
        },
        "yaxis": {
         "anchor": "x",
         "domain": [
          0,
          1
         ],
         "tickmode": "array",
         "tickvals": [
          1,
          2,
          3,
          4
         ],
         "title": {
          "text": "Travel Advisory Level"
         }
        }
       }
      }
     },
     "metadata": {},
     "output_type": "display_data"
    }
   ],
   "source": [
    "gti_filtered = merged_clean.dropna(subset=[\"gti_score\"])\n",
    "\n",
    "fig_gti = px.scatter(\n",
    "    gti_filtered,\n",
    "    x=\"gti_score\",\n",
    "    y=\"advisory_level\",\n",
    "    animation_frame=\"year\",\n",
    "    hover_name=\"country\",\n",
    "    title=\"Global Terrorism Index vs Travel Advisory Level\",\n",
    "    labels={\"gti_score\": \"GTI Score\", \"advisory_level\": \"Travel Advisory Level\"}\n",
    ")\n",
    "\n",
    "fig_gti.update_layout(yaxis=dict(tickmode='array', tickvals=[1, 2, 3, 4]))\n",
    "fig_gti.show()"
   ]
  },
  {
   "cell_type": "code",
   "execution_count": null,
   "id": "e6cf4576",
   "metadata": {},
   "outputs": [],
   "source": []
  }
 ],
 "metadata": {
  "kernelspec": {
   "display_name": "Python 3",
   "language": "python",
   "name": "python3"
  },
  "language_info": {
   "codemirror_mode": {
    "name": "ipython",
    "version": 3
   },
   "file_extension": ".py",
   "mimetype": "text/x-python",
   "name": "python",
   "nbconvert_exporter": "python",
   "pygments_lexer": "ipython3",
   "version": "3.13.2"
  }
 },
 "nbformat": 4,
 "nbformat_minor": 5
}
