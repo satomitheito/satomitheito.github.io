{
 "cells": [
  {
   "cell_type": "code",
   "execution_count": 1,
   "id": "4aa20366",
   "metadata": {},
   "outputs": [],
   "source": [
    "import pandas as pd\n",
    "from sklearn.preprocessing import MinMaxScaler\n",
    "import matplotlib.pyplot as plt\n",
    "import plotly.express as px"
   ]
  },
  {
   "cell_type": "code",
   "execution_count": 2,
   "id": "abd72778",
   "metadata": {},
   "outputs": [],
   "source": [
    "advisories_df = pd.read_csv('../../data/processed/Travel_Advisories_Processed.csv')\n",
    "gpi_df = pd.read_csv('../../data/processed/Global_Peace_Index_Processed.csv')\n",
    "terror_df = pd.read_csv('../../data/processed/Global_Terrorism_Index_Processed.csv')\n",
    "protest_df = pd.read_csv('../../data/processed/Global_Protest_Processed.csv')\n",
    "deaths_df = pd.read_csv('../../data/processed/us_citizen_deaths_overseas_processed.csv')"
   ]
  },
  {
   "cell_type": "code",
   "execution_count": 3,
   "id": "309d5b2b",
   "metadata": {},
   "outputs": [],
   "source": [
    "# Filter to 2024 advisories only \n",
    "advisories_df['Date Updated'] = pd.to_datetime(advisories_df['Date Updated'], errors='coerce')\n",
    "advisories_2024 = advisories_df[advisories_df['Date Updated'].dt.year == 2024]"
   ]
  },
  {
   "cell_type": "code",
   "execution_count": 4,
   "id": "2bbb94e0",
   "metadata": {},
   "outputs": [],
   "source": [
    "# Global Peace Index: lower is better, use 2024 score\n",
    "gpi_df = gpi_df.rename(columns={'country': 'Country', '2024_Score': 'Global Peace Index'})[['Country', 'Global Peace Index']]\n",
    "\n",
    "# Global Terrorism Index: higher means more terrorism\n",
    "terror_df = terror_df.rename(columns={'country': 'Country', '2024 score': 'Terrorism Score'})[['Country', 'Terrorism Score']]\n",
    "\n",
    "# Protest data: aggregate number of protests per country\n",
    "protest_df = protest_df.rename(columns={'Country': 'Country'})  # Already fine\n",
    "protest_agg = protest_df.groupby('Country').size().reset_index(name='Protest Score')"
   ]
  },
  {
   "cell_type": "code",
   "execution_count": 5,
   "id": "bd5fc287",
   "metadata": {},
   "outputs": [],
   "source": [
    "# US deaths abroad: count number of US citizen deaths per country\n",
    "deaths_df = deaths_df.rename(columns={'country': 'Country'})\n",
    "death_agg = deaths_df.groupby('Country').size().reset_index(name='Death Count')"
   ]
  },
  {
   "cell_type": "code",
   "execution_count": 6,
   "id": "e4ff06e7",
   "metadata": {},
   "outputs": [],
   "source": [
    "merged_df = advisories_2024.merge(gpi_df, on='Country', how='left') \\\n",
    "    .merge(terror_df, on='Country', how='left') \\\n",
    "    .merge(protest_agg, on='Country', how='left') \\\n",
    "    .merge(death_agg, on='Country', how='left')"
   ]
  },
  {
   "cell_type": "code",
   "execution_count": 7,
   "id": "34d734e5",
   "metadata": {},
   "outputs": [],
   "source": [
    "# Drop countries with any missing data\n",
    "merged_df = merged_df.dropna(subset=['Global Peace Index', 'Terrorism Score', 'Protest Score', 'Death Count'])"
   ]
  },
  {
   "cell_type": "code",
   "execution_count": 8,
   "id": "9ef4f71e",
   "metadata": {},
   "outputs": [],
   "source": [
    "# Normalize each risk metric to [0, 1]\n",
    "# This allows averaging them into a composite risk score\n",
    "scaler = MinMaxScaler()\n",
    "risk_features = ['Global Peace Index', 'Terrorism Score', 'Protest Score', 'Death Count']\n",
    "merged_df[risk_features] = scaler.fit_transform(merged_df[risk_features])"
   ]
  },
  {
   "cell_type": "code",
   "execution_count": 9,
   "id": "1ecd63d9",
   "metadata": {},
   "outputs": [],
   "source": [
    "# Average of all normalized risk indicators\n",
    "merged_df['Composite Risk Score'] = merged_df[risk_features].mean(axis=1)\n",
    "\n",
    "# Normalize the US advisory level (1–4) to a 0.25–1.0 scale\n",
    "merged_df['Normalized Advisory'] = merged_df['Advisory Level Number'] / 4.0\n",
    "\n",
    "# Alignment Score = absolute difference between risk and advisory level\n",
    "merged_df['Alignment Score'] = (merged_df['Normalized Advisory'] - merged_df['Composite Risk Score']).abs()"
   ]
  },
  {
   "cell_type": "code",
   "execution_count": 10,
   "id": "f2dfd0ff",
   "metadata": {},
   "outputs": [],
   "source": [
    "top_aligned = merged_df.nsmallest(5, 'Alignment Score')\n",
    "top_misaligned = merged_df.nlargest(5, 'Alignment Score')"
   ]
  },
  {
   "cell_type": "code",
   "execution_count": 11,
   "id": "a41e41c8",
   "metadata": {},
   "outputs": [
    {
     "data": {
      "text/html": [
       "<div>\n",
       "<style scoped>\n",
       "    .dataframe tbody tr th:only-of-type {\n",
       "        vertical-align: middle;\n",
       "    }\n",
       "\n",
       "    .dataframe tbody tr th {\n",
       "        vertical-align: top;\n",
       "    }\n",
       "\n",
       "    .dataframe thead th {\n",
       "        text-align: right;\n",
       "    }\n",
       "</style>\n",
       "<table border=\"1\" class=\"dataframe\">\n",
       "  <thead>\n",
       "    <tr style=\"text-align: right;\">\n",
       "      <th></th>\n",
       "      <th>Country</th>\n",
       "      <th>Advisory Level</th>\n",
       "      <th>Date Updated</th>\n",
       "      <th>Advisory Level Number</th>\n",
       "      <th>Global Peace Index</th>\n",
       "      <th>Terrorism Score</th>\n",
       "      <th>Protest Score</th>\n",
       "      <th>Death Count</th>\n",
       "      <th>Composite Risk Score</th>\n",
       "      <th>Normalized Advisory</th>\n",
       "      <th>Alignment Score</th>\n",
       "    </tr>\n",
       "  </thead>\n",
       "  <tbody>\n",
       "    <tr>\n",
       "      <th>40</th>\n",
       "      <td>Poland</td>\n",
       "      <td>Level 1: Exercise Normal Precautions</td>\n",
       "      <td>2024-05-01</td>\n",
       "      <td>1.0</td>\n",
       "      <td>0.185562</td>\n",
       "      <td>0.257683</td>\n",
       "      <td>0.518519</td>\n",
       "      <td>0.015899</td>\n",
       "      <td>0.244416</td>\n",
       "      <td>0.25</td>\n",
       "      <td>0.005584</td>\n",
       "    </tr>\n",
       "    <tr>\n",
       "      <th>31</th>\n",
       "      <td>Greece</td>\n",
       "      <td>Level 1: Exercise Normal Precautions</td>\n",
       "      <td>2024-08-15</td>\n",
       "      <td>1.0</td>\n",
       "      <td>0.244026</td>\n",
       "      <td>0.384555</td>\n",
       "      <td>0.444444</td>\n",
       "      <td>0.039417</td>\n",
       "      <td>0.278111</td>\n",
       "      <td>0.25</td>\n",
       "      <td>0.028111</td>\n",
       "    </tr>\n",
       "    <tr>\n",
       "      <th>122</th>\n",
       "      <td>Cameroon</td>\n",
       "      <td>Level 2: Exercise Increased Caution</td>\n",
       "      <td>2024-12-18</td>\n",
       "      <td>2.0</td>\n",
       "      <td>0.742247</td>\n",
       "      <td>0.912004</td>\n",
       "      <td>0.148148</td>\n",
       "      <td>0.002319</td>\n",
       "      <td>0.451180</td>\n",
       "      <td>0.50</td>\n",
       "      <td>0.048820</td>\n",
       "    </tr>\n",
       "    <tr>\n",
       "      <th>114</th>\n",
       "      <td>Argentina</td>\n",
       "      <td>Level 1: Exercise Normal Precautions</td>\n",
       "      <td>2024-09-20</td>\n",
       "      <td>1.0</td>\n",
       "      <td>0.275547</td>\n",
       "      <td>0.105201</td>\n",
       "      <td>0.370370</td>\n",
       "      <td>0.012918</td>\n",
       "      <td>0.191009</td>\n",
       "      <td>0.25</td>\n",
       "      <td>0.058991</td>\n",
       "    </tr>\n",
       "    <tr>\n",
       "      <th>92</th>\n",
       "      <td>Senegal</td>\n",
       "      <td>Level 1: Exercise Normal Precautions</td>\n",
       "      <td>2024-10-21</td>\n",
       "      <td>1.0</td>\n",
       "      <td>0.391967</td>\n",
       "      <td>0.207250</td>\n",
       "      <td>0.148148</td>\n",
       "      <td>0.001987</td>\n",
       "      <td>0.187338</td>\n",
       "      <td>0.25</td>\n",
       "      <td>0.062662</td>\n",
       "    </tr>\n",
       "  </tbody>\n",
       "</table>\n",
       "</div>"
      ],
      "text/plain": [
       "       Country                        Advisory Level Date Updated  \\\n",
       "40      Poland  Level 1: Exercise Normal Precautions   2024-05-01   \n",
       "31      Greece  Level 1: Exercise Normal Precautions   2024-08-15   \n",
       "122   Cameroon   Level 2: Exercise Increased Caution   2024-12-18   \n",
       "114  Argentina  Level 1: Exercise Normal Precautions   2024-09-20   \n",
       "92     Senegal  Level 1: Exercise Normal Precautions   2024-10-21   \n",
       "\n",
       "     Advisory Level Number  Global Peace Index  Terrorism Score  \\\n",
       "40                     1.0            0.185562         0.257683   \n",
       "31                     1.0            0.244026         0.384555   \n",
       "122                    2.0            0.742247         0.912004   \n",
       "114                    1.0            0.275547         0.105201   \n",
       "92                     1.0            0.391967         0.207250   \n",
       "\n",
       "     Protest Score  Death Count  Composite Risk Score  Normalized Advisory  \\\n",
       "40        0.518519     0.015899              0.244416                 0.25   \n",
       "31        0.444444     0.039417              0.278111                 0.25   \n",
       "122       0.148148     0.002319              0.451180                 0.50   \n",
       "114       0.370370     0.012918              0.191009                 0.25   \n",
       "92        0.148148     0.001987              0.187338                 0.25   \n",
       "\n",
       "     Alignment Score  \n",
       "40          0.005584  \n",
       "31          0.028111  \n",
       "122         0.048820  \n",
       "114         0.058991  \n",
       "92          0.062662  "
      ]
     },
     "execution_count": 11,
     "metadata": {},
     "output_type": "execute_result"
    }
   ],
   "source": [
    "top_aligned "
   ]
  },
  {
   "cell_type": "code",
   "execution_count": 12,
   "id": "9463f765",
   "metadata": {},
   "outputs": [
    {
     "data": {
      "text/html": [
       "<div>\n",
       "<style scoped>\n",
       "    .dataframe tbody tr th:only-of-type {\n",
       "        vertical-align: middle;\n",
       "    }\n",
       "\n",
       "    .dataframe tbody tr th {\n",
       "        vertical-align: top;\n",
       "    }\n",
       "\n",
       "    .dataframe thead th {\n",
       "        text-align: right;\n",
       "    }\n",
       "</style>\n",
       "<table border=\"1\" class=\"dataframe\">\n",
       "  <thead>\n",
       "    <tr style=\"text-align: right;\">\n",
       "      <th></th>\n",
       "      <th>Country</th>\n",
       "      <th>Advisory Level</th>\n",
       "      <th>Date Updated</th>\n",
       "      <th>Advisory Level Number</th>\n",
       "      <th>Global Peace Index</th>\n",
       "      <th>Terrorism Score</th>\n",
       "      <th>Protest Score</th>\n",
       "      <th>Death Count</th>\n",
       "      <th>Composite Risk Score</th>\n",
       "      <th>Normalized Advisory</th>\n",
       "      <th>Alignment Score</th>\n",
       "    </tr>\n",
       "  </thead>\n",
       "  <tbody>\n",
       "    <tr>\n",
       "      <th>24</th>\n",
       "      <td>Belarus</td>\n",
       "      <td>Level 4: Do Not Travel</td>\n",
       "      <td>2024-12-18</td>\n",
       "      <td>4.0</td>\n",
       "      <td>0.497204</td>\n",
       "      <td>0.030602</td>\n",
       "      <td>0.111111</td>\n",
       "      <td>0.000000</td>\n",
       "      <td>0.159729</td>\n",
       "      <td>1.0</td>\n",
       "      <td>0.840271</td>\n",
       "    </tr>\n",
       "    <tr>\n",
       "      <th>74</th>\n",
       "      <td>Libya</td>\n",
       "      <td>Level 4: Do Not Travel</td>\n",
       "      <td>2024-08-01</td>\n",
       "      <td>4.0</td>\n",
       "      <td>0.617692</td>\n",
       "      <td>0.211715</td>\n",
       "      <td>0.074074</td>\n",
       "      <td>0.000331</td>\n",
       "      <td>0.225953</td>\n",
       "      <td>1.0</td>\n",
       "      <td>0.774047</td>\n",
       "    </tr>\n",
       "    <tr>\n",
       "      <th>73</th>\n",
       "      <td>Lebanon</td>\n",
       "      <td>Level 4: Do Not Travel</td>\n",
       "      <td>2024-12-27</td>\n",
       "      <td>4.0</td>\n",
       "      <td>0.701576</td>\n",
       "      <td>0.162464</td>\n",
       "      <td>0.111111</td>\n",
       "      <td>0.007618</td>\n",
       "      <td>0.245692</td>\n",
       "      <td>1.0</td>\n",
       "      <td>0.754308</td>\n",
       "    </tr>\n",
       "    <tr>\n",
       "      <th>110</th>\n",
       "      <td>Venezuela</td>\n",
       "      <td>Level 4: Do Not Travel</td>\n",
       "      <td>2024-09-24</td>\n",
       "      <td>4.0</td>\n",
       "      <td>0.766650</td>\n",
       "      <td>0.093249</td>\n",
       "      <td>0.148148</td>\n",
       "      <td>0.013581</td>\n",
       "      <td>0.255407</td>\n",
       "      <td>1.0</td>\n",
       "      <td>0.744593</td>\n",
       "    </tr>\n",
       "    <tr>\n",
       "      <th>63</th>\n",
       "      <td>Haiti</td>\n",
       "      <td>Level 4: Do Not Travel</td>\n",
       "      <td>2024-09-18</td>\n",
       "      <td>4.0</td>\n",
       "      <td>0.769700</td>\n",
       "      <td>0.000000</td>\n",
       "      <td>0.296296</td>\n",
       "      <td>0.079828</td>\n",
       "      <td>0.286456</td>\n",
       "      <td>1.0</td>\n",
       "      <td>0.713544</td>\n",
       "    </tr>\n",
       "  </tbody>\n",
       "</table>\n",
       "</div>"
      ],
      "text/plain": [
       "       Country          Advisory Level Date Updated  Advisory Level Number  \\\n",
       "24     Belarus  Level 4: Do Not Travel   2024-12-18                    4.0   \n",
       "74       Libya  Level 4: Do Not Travel   2024-08-01                    4.0   \n",
       "73     Lebanon  Level 4: Do Not Travel   2024-12-27                    4.0   \n",
       "110  Venezuela  Level 4: Do Not Travel   2024-09-24                    4.0   \n",
       "63       Haiti  Level 4: Do Not Travel   2024-09-18                    4.0   \n",
       "\n",
       "     Global Peace Index  Terrorism Score  Protest Score  Death Count  \\\n",
       "24             0.497204         0.030602       0.111111     0.000000   \n",
       "74             0.617692         0.211715       0.074074     0.000331   \n",
       "73             0.701576         0.162464       0.111111     0.007618   \n",
       "110            0.766650         0.093249       0.148148     0.013581   \n",
       "63             0.769700         0.000000       0.296296     0.079828   \n",
       "\n",
       "     Composite Risk Score  Normalized Advisory  Alignment Score  \n",
       "24               0.159729                  1.0         0.840271  \n",
       "74               0.225953                  1.0         0.774047  \n",
       "73               0.245692                  1.0         0.754308  \n",
       "110              0.255407                  1.0         0.744593  \n",
       "63               0.286456                  1.0         0.713544  "
      ]
     },
     "execution_count": 12,
     "metadata": {},
     "output_type": "execute_result"
    }
   ],
   "source": [
    "top_misaligned"
   ]
  },
  {
   "cell_type": "markdown",
   "id": "0d4c5aba",
   "metadata": {},
   "source": [
    "To evaluate how well U.S. travel advisories align with real-world risk, we combined data from four global indicators: the Global Peace Index, Global Terrorism Index, protest activity, and U.S. citizen deaths overseas. For each country, we first calculated the number of active protests and the total number of U.S. citizen deaths. Each of these four risk indicators was then normalized to a 0–1 scale using Min-Max normalization, ensuring comparability regardless of original units. We averaged the normalized values to create a Composite Risk Score, where a higher score indicates greater overall risk. U.S. travel advisories were converted to numeric levels (1 to 4) and then normalized by dividing by 4, resulting in a Normalized Advisory Score on the same 0–1 scale. Finally, the Alignment Score was calculated as the absolute difference between the Composite Risk Score and the Normalized Advisory Score. A low alignment score means the advisory closely matches the risk level, while a high score indicates potential misalignment.\n",
    "\n",
    "This analysis relies on the availability and quality of external data sources, which may vary in coverage, accuracy, or timeliness. For instance, protest counts or terrorism scores may underreport events in certain regions. Also, the equal weighting of all four indicators assumes they contribute equally to travel risk, which may not reflect how the U.S. government prioritizes threats. Additionally, some U.S. advisories are based on diplomatic or political concerns that aren't captured in quantitative risk metrics, so alignment may not always indicate correctness.\n",
    "\n",
    "Despite these limitations, the graph provides a valuable data-driven lens into how U.S. travel advisories compare with globally recognized indicators of risk. By normalizing and aggregating independent sources, we can consistently compare countries and identify patterns or outliers. This helps spotlight where the U.S. might be over- or under-advising, fostering transparency and critical discussion about how travel warnings are issued.\n"
   ]
  },
  {
   "cell_type": "code",
   "execution_count": 18,
   "id": "099baac4",
   "metadata": {},
   "outputs": [
    {
     "data": {
      "application/vnd.plotly.v1+json": {
       "config": {
        "plotlyServerURL": "https://plot.ly"
       },
       "data": [
        {
         "hovertemplate": "Alignment Score (Lower is Better)=%{x}<br>Country=%{y}<extra></extra>",
         "legendgroup": "",
         "marker": {
          "color": "#636efa",
          "pattern": {
           "shape": ""
          }
         },
         "name": "",
         "orientation": "h",
         "showlegend": false,
         "textposition": "auto",
         "type": "bar",
         "x": {
          "bdata": "AC91oY/fdj8gvSEGC8mcPwBA/IH//qg/gKMTWBE0rj9+i1twmgqwPw==",
          "dtype": "f8"
         },
         "xaxis": "x",
         "y": [
          "Poland",
          "Greece",
          "Cameroon",
          "Argentina",
          "Senegal"
         ],
         "yaxis": "y"
        }
       ],
       "layout": {
        "barmode": "relative",
        "legend": {
         "tracegroupgap": 0
        },
        "paper_bgcolor": "white",
        "plot_bgcolor": "white",
        "template": {
         "data": {
          "bar": [
           {
            "error_x": {
             "color": "#2a3f5f"
            },
            "error_y": {
             "color": "#2a3f5f"
            },
            "marker": {
             "line": {
              "color": "#E5ECF6",
              "width": 0.5
             },
             "pattern": {
              "fillmode": "overlay",
              "size": 10,
              "solidity": 0.2
             }
            },
            "type": "bar"
           }
          ],
          "barpolar": [
           {
            "marker": {
             "line": {
              "color": "#E5ECF6",
              "width": 0.5
             },
             "pattern": {
              "fillmode": "overlay",
              "size": 10,
              "solidity": 0.2
             }
            },
            "type": "barpolar"
           }
          ],
          "carpet": [
           {
            "aaxis": {
             "endlinecolor": "#2a3f5f",
             "gridcolor": "white",
             "linecolor": "white",
             "minorgridcolor": "white",
             "startlinecolor": "#2a3f5f"
            },
            "baxis": {
             "endlinecolor": "#2a3f5f",
             "gridcolor": "white",
             "linecolor": "white",
             "minorgridcolor": "white",
             "startlinecolor": "#2a3f5f"
            },
            "type": "carpet"
           }
          ],
          "choropleth": [
           {
            "colorbar": {
             "outlinewidth": 0,
             "ticks": ""
            },
            "type": "choropleth"
           }
          ],
          "contour": [
           {
            "colorbar": {
             "outlinewidth": 0,
             "ticks": ""
            },
            "colorscale": [
             [
              0,
              "#0d0887"
             ],
             [
              0.1111111111111111,
              "#46039f"
             ],
             [
              0.2222222222222222,
              "#7201a8"
             ],
             [
              0.3333333333333333,
              "#9c179e"
             ],
             [
              0.4444444444444444,
              "#bd3786"
             ],
             [
              0.5555555555555556,
              "#d8576b"
             ],
             [
              0.6666666666666666,
              "#ed7953"
             ],
             [
              0.7777777777777778,
              "#fb9f3a"
             ],
             [
              0.8888888888888888,
              "#fdca26"
             ],
             [
              1,
              "#f0f921"
             ]
            ],
            "type": "contour"
           }
          ],
          "contourcarpet": [
           {
            "colorbar": {
             "outlinewidth": 0,
             "ticks": ""
            },
            "type": "contourcarpet"
           }
          ],
          "heatmap": [
           {
            "colorbar": {
             "outlinewidth": 0,
             "ticks": ""
            },
            "colorscale": [
             [
              0,
              "#0d0887"
             ],
             [
              0.1111111111111111,
              "#46039f"
             ],
             [
              0.2222222222222222,
              "#7201a8"
             ],
             [
              0.3333333333333333,
              "#9c179e"
             ],
             [
              0.4444444444444444,
              "#bd3786"
             ],
             [
              0.5555555555555556,
              "#d8576b"
             ],
             [
              0.6666666666666666,
              "#ed7953"
             ],
             [
              0.7777777777777778,
              "#fb9f3a"
             ],
             [
              0.8888888888888888,
              "#fdca26"
             ],
             [
              1,
              "#f0f921"
             ]
            ],
            "type": "heatmap"
           }
          ],
          "histogram": [
           {
            "marker": {
             "pattern": {
              "fillmode": "overlay",
              "size": 10,
              "solidity": 0.2
             }
            },
            "type": "histogram"
           }
          ],
          "histogram2d": [
           {
            "colorbar": {
             "outlinewidth": 0,
             "ticks": ""
            },
            "colorscale": [
             [
              0,
              "#0d0887"
             ],
             [
              0.1111111111111111,
              "#46039f"
             ],
             [
              0.2222222222222222,
              "#7201a8"
             ],
             [
              0.3333333333333333,
              "#9c179e"
             ],
             [
              0.4444444444444444,
              "#bd3786"
             ],
             [
              0.5555555555555556,
              "#d8576b"
             ],
             [
              0.6666666666666666,
              "#ed7953"
             ],
             [
              0.7777777777777778,
              "#fb9f3a"
             ],
             [
              0.8888888888888888,
              "#fdca26"
             ],
             [
              1,
              "#f0f921"
             ]
            ],
            "type": "histogram2d"
           }
          ],
          "histogram2dcontour": [
           {
            "colorbar": {
             "outlinewidth": 0,
             "ticks": ""
            },
            "colorscale": [
             [
              0,
              "#0d0887"
             ],
             [
              0.1111111111111111,
              "#46039f"
             ],
             [
              0.2222222222222222,
              "#7201a8"
             ],
             [
              0.3333333333333333,
              "#9c179e"
             ],
             [
              0.4444444444444444,
              "#bd3786"
             ],
             [
              0.5555555555555556,
              "#d8576b"
             ],
             [
              0.6666666666666666,
              "#ed7953"
             ],
             [
              0.7777777777777778,
              "#fb9f3a"
             ],
             [
              0.8888888888888888,
              "#fdca26"
             ],
             [
              1,
              "#f0f921"
             ]
            ],
            "type": "histogram2dcontour"
           }
          ],
          "mesh3d": [
           {
            "colorbar": {
             "outlinewidth": 0,
             "ticks": ""
            },
            "type": "mesh3d"
           }
          ],
          "parcoords": [
           {
            "line": {
             "colorbar": {
              "outlinewidth": 0,
              "ticks": ""
             }
            },
            "type": "parcoords"
           }
          ],
          "pie": [
           {
            "automargin": true,
            "type": "pie"
           }
          ],
          "scatter": [
           {
            "fillpattern": {
             "fillmode": "overlay",
             "size": 10,
             "solidity": 0.2
            },
            "type": "scatter"
           }
          ],
          "scatter3d": [
           {
            "line": {
             "colorbar": {
              "outlinewidth": 0,
              "ticks": ""
             }
            },
            "marker": {
             "colorbar": {
              "outlinewidth": 0,
              "ticks": ""
             }
            },
            "type": "scatter3d"
           }
          ],
          "scattercarpet": [
           {
            "marker": {
             "colorbar": {
              "outlinewidth": 0,
              "ticks": ""
             }
            },
            "type": "scattercarpet"
           }
          ],
          "scattergeo": [
           {
            "marker": {
             "colorbar": {
              "outlinewidth": 0,
              "ticks": ""
             }
            },
            "type": "scattergeo"
           }
          ],
          "scattergl": [
           {
            "marker": {
             "colorbar": {
              "outlinewidth": 0,
              "ticks": ""
             }
            },
            "type": "scattergl"
           }
          ],
          "scattermap": [
           {
            "marker": {
             "colorbar": {
              "outlinewidth": 0,
              "ticks": ""
             }
            },
            "type": "scattermap"
           }
          ],
          "scattermapbox": [
           {
            "marker": {
             "colorbar": {
              "outlinewidth": 0,
              "ticks": ""
             }
            },
            "type": "scattermapbox"
           }
          ],
          "scatterpolar": [
           {
            "marker": {
             "colorbar": {
              "outlinewidth": 0,
              "ticks": ""
             }
            },
            "type": "scatterpolar"
           }
          ],
          "scatterpolargl": [
           {
            "marker": {
             "colorbar": {
              "outlinewidth": 0,
              "ticks": ""
             }
            },
            "type": "scatterpolargl"
           }
          ],
          "scatterternary": [
           {
            "marker": {
             "colorbar": {
              "outlinewidth": 0,
              "ticks": ""
             }
            },
            "type": "scatterternary"
           }
          ],
          "surface": [
           {
            "colorbar": {
             "outlinewidth": 0,
             "ticks": ""
            },
            "colorscale": [
             [
              0,
              "#0d0887"
             ],
             [
              0.1111111111111111,
              "#46039f"
             ],
             [
              0.2222222222222222,
              "#7201a8"
             ],
             [
              0.3333333333333333,
              "#9c179e"
             ],
             [
              0.4444444444444444,
              "#bd3786"
             ],
             [
              0.5555555555555556,
              "#d8576b"
             ],
             [
              0.6666666666666666,
              "#ed7953"
             ],
             [
              0.7777777777777778,
              "#fb9f3a"
             ],
             [
              0.8888888888888888,
              "#fdca26"
             ],
             [
              1,
              "#f0f921"
             ]
            ],
            "type": "surface"
           }
          ],
          "table": [
           {
            "cells": {
             "fill": {
              "color": "#EBF0F8"
             },
             "line": {
              "color": "white"
             }
            },
            "header": {
             "fill": {
              "color": "#C8D4E3"
             },
             "line": {
              "color": "white"
             }
            },
            "type": "table"
           }
          ]
         },
         "layout": {
          "annotationdefaults": {
           "arrowcolor": "#2a3f5f",
           "arrowhead": 0,
           "arrowwidth": 1
          },
          "autotypenumbers": "strict",
          "coloraxis": {
           "colorbar": {
            "outlinewidth": 0,
            "ticks": ""
           }
          },
          "colorscale": {
           "diverging": [
            [
             0,
             "#8e0152"
            ],
            [
             0.1,
             "#c51b7d"
            ],
            [
             0.2,
             "#de77ae"
            ],
            [
             0.3,
             "#f1b6da"
            ],
            [
             0.4,
             "#fde0ef"
            ],
            [
             0.5,
             "#f7f7f7"
            ],
            [
             0.6,
             "#e6f5d0"
            ],
            [
             0.7,
             "#b8e186"
            ],
            [
             0.8,
             "#7fbc41"
            ],
            [
             0.9,
             "#4d9221"
            ],
            [
             1,
             "#276419"
            ]
           ],
           "sequential": [
            [
             0,
             "#0d0887"
            ],
            [
             0.1111111111111111,
             "#46039f"
            ],
            [
             0.2222222222222222,
             "#7201a8"
            ],
            [
             0.3333333333333333,
             "#9c179e"
            ],
            [
             0.4444444444444444,
             "#bd3786"
            ],
            [
             0.5555555555555556,
             "#d8576b"
            ],
            [
             0.6666666666666666,
             "#ed7953"
            ],
            [
             0.7777777777777778,
             "#fb9f3a"
            ],
            [
             0.8888888888888888,
             "#fdca26"
            ],
            [
             1,
             "#f0f921"
            ]
           ],
           "sequentialminus": [
            [
             0,
             "#0d0887"
            ],
            [
             0.1111111111111111,
             "#46039f"
            ],
            [
             0.2222222222222222,
             "#7201a8"
            ],
            [
             0.3333333333333333,
             "#9c179e"
            ],
            [
             0.4444444444444444,
             "#bd3786"
            ],
            [
             0.5555555555555556,
             "#d8576b"
            ],
            [
             0.6666666666666666,
             "#ed7953"
            ],
            [
             0.7777777777777778,
             "#fb9f3a"
            ],
            [
             0.8888888888888888,
             "#fdca26"
            ],
            [
             1,
             "#f0f921"
            ]
           ]
          },
          "colorway": [
           "#636efa",
           "#EF553B",
           "#00cc96",
           "#ab63fa",
           "#FFA15A",
           "#19d3f3",
           "#FF6692",
           "#B6E880",
           "#FF97FF",
           "#FECB52"
          ],
          "font": {
           "color": "#2a3f5f"
          },
          "geo": {
           "bgcolor": "white",
           "lakecolor": "white",
           "landcolor": "#E5ECF6",
           "showlakes": true,
           "showland": true,
           "subunitcolor": "white"
          },
          "hoverlabel": {
           "align": "left"
          },
          "hovermode": "closest",
          "mapbox": {
           "style": "light"
          },
          "paper_bgcolor": "white",
          "plot_bgcolor": "#E5ECF6",
          "polar": {
           "angularaxis": {
            "gridcolor": "white",
            "linecolor": "white",
            "ticks": ""
           },
           "bgcolor": "#E5ECF6",
           "radialaxis": {
            "gridcolor": "white",
            "linecolor": "white",
            "ticks": ""
           }
          },
          "scene": {
           "xaxis": {
            "backgroundcolor": "#E5ECF6",
            "gridcolor": "white",
            "gridwidth": 2,
            "linecolor": "white",
            "showbackground": true,
            "ticks": "",
            "zerolinecolor": "white"
           },
           "yaxis": {
            "backgroundcolor": "#E5ECF6",
            "gridcolor": "white",
            "gridwidth": 2,
            "linecolor": "white",
            "showbackground": true,
            "ticks": "",
            "zerolinecolor": "white"
           },
           "zaxis": {
            "backgroundcolor": "#E5ECF6",
            "gridcolor": "white",
            "gridwidth": 2,
            "linecolor": "white",
            "showbackground": true,
            "ticks": "",
            "zerolinecolor": "white"
           }
          },
          "shapedefaults": {
           "line": {
            "color": "#2a3f5f"
           }
          },
          "ternary": {
           "aaxis": {
            "gridcolor": "white",
            "linecolor": "white",
            "ticks": ""
           },
           "baxis": {
            "gridcolor": "white",
            "linecolor": "white",
            "ticks": ""
           },
           "bgcolor": "#E5ECF6",
           "caxis": {
            "gridcolor": "white",
            "linecolor": "white",
            "ticks": ""
           }
          },
          "title": {
           "x": 0.05
          },
          "xaxis": {
           "automargin": true,
           "gridcolor": "white",
           "linecolor": "white",
           "ticks": "",
           "title": {
            "standoff": 15
           },
           "zerolinecolor": "white",
           "zerolinewidth": 2
          },
          "yaxis": {
           "automargin": true,
           "gridcolor": "white",
           "linecolor": "white",
           "ticks": "",
           "title": {
            "standoff": 15
           },
           "zerolinecolor": "white",
           "zerolinewidth": 2
          }
         }
        },
        "title": {
         "text": "Top 5 Countries with Most Aligned US Travel Advisories"
        },
        "xaxis": {
         "anchor": "y",
         "domain": [
          0,
          1
         ],
         "title": {
          "text": "Alignment Score (Lower is Better)"
         }
        },
        "yaxis": {
         "anchor": "x",
         "categoryorder": "total ascending",
         "domain": [
          0,
          1
         ],
         "title": {
          "text": "Country"
         }
        }
       }
      }
     },
     "metadata": {},
     "output_type": "display_data"
    },
    {
     "data": {
      "application/vnd.plotly.v1+json": {
       "config": {
        "plotlyServerURL": "https://plot.ly"
       },
       "data": [
        {
         "hovertemplate": "Alignment Score (Higher is Worse)=%{x}<br>Country=%{y}<extra></extra>",
         "legendgroup": "",
         "marker": {
          "color": "#636efa",
          "pattern": {
           "shape": ""
          }
         },
         "name": "",
         "orientation": "h",
         "showlegend": false,
         "textposition": "auto",
         "type": "bar",
         "x": {
          "bdata": "eO00v3/j6j9Mc2H1/cToPxU0FMpJI+g/Ot6MzbTT5z/uw/srWtXmPw==",
          "dtype": "f8"
         },
         "xaxis": "x",
         "y": [
          "Belarus",
          "Libya",
          "Lebanon",
          "Venezuela",
          "Haiti"
         ],
         "yaxis": "y"
        }
       ],
       "layout": {
        "barmode": "relative",
        "legend": {
         "tracegroupgap": 0
        },
        "paper_bgcolor": "white",
        "plot_bgcolor": "white",
        "template": {
         "data": {
          "bar": [
           {
            "error_x": {
             "color": "#2a3f5f"
            },
            "error_y": {
             "color": "#2a3f5f"
            },
            "marker": {
             "line": {
              "color": "#E5ECF6",
              "width": 0.5
             },
             "pattern": {
              "fillmode": "overlay",
              "size": 10,
              "solidity": 0.2
             }
            },
            "type": "bar"
           }
          ],
          "barpolar": [
           {
            "marker": {
             "line": {
              "color": "#E5ECF6",
              "width": 0.5
             },
             "pattern": {
              "fillmode": "overlay",
              "size": 10,
              "solidity": 0.2
             }
            },
            "type": "barpolar"
           }
          ],
          "carpet": [
           {
            "aaxis": {
             "endlinecolor": "#2a3f5f",
             "gridcolor": "white",
             "linecolor": "white",
             "minorgridcolor": "white",
             "startlinecolor": "#2a3f5f"
            },
            "baxis": {
             "endlinecolor": "#2a3f5f",
             "gridcolor": "white",
             "linecolor": "white",
             "minorgridcolor": "white",
             "startlinecolor": "#2a3f5f"
            },
            "type": "carpet"
           }
          ],
          "choropleth": [
           {
            "colorbar": {
             "outlinewidth": 0,
             "ticks": ""
            },
            "type": "choropleth"
           }
          ],
          "contour": [
           {
            "colorbar": {
             "outlinewidth": 0,
             "ticks": ""
            },
            "colorscale": [
             [
              0,
              "#0d0887"
             ],
             [
              0.1111111111111111,
              "#46039f"
             ],
             [
              0.2222222222222222,
              "#7201a8"
             ],
             [
              0.3333333333333333,
              "#9c179e"
             ],
             [
              0.4444444444444444,
              "#bd3786"
             ],
             [
              0.5555555555555556,
              "#d8576b"
             ],
             [
              0.6666666666666666,
              "#ed7953"
             ],
             [
              0.7777777777777778,
              "#fb9f3a"
             ],
             [
              0.8888888888888888,
              "#fdca26"
             ],
             [
              1,
              "#f0f921"
             ]
            ],
            "type": "contour"
           }
          ],
          "contourcarpet": [
           {
            "colorbar": {
             "outlinewidth": 0,
             "ticks": ""
            },
            "type": "contourcarpet"
           }
          ],
          "heatmap": [
           {
            "colorbar": {
             "outlinewidth": 0,
             "ticks": ""
            },
            "colorscale": [
             [
              0,
              "#0d0887"
             ],
             [
              0.1111111111111111,
              "#46039f"
             ],
             [
              0.2222222222222222,
              "#7201a8"
             ],
             [
              0.3333333333333333,
              "#9c179e"
             ],
             [
              0.4444444444444444,
              "#bd3786"
             ],
             [
              0.5555555555555556,
              "#d8576b"
             ],
             [
              0.6666666666666666,
              "#ed7953"
             ],
             [
              0.7777777777777778,
              "#fb9f3a"
             ],
             [
              0.8888888888888888,
              "#fdca26"
             ],
             [
              1,
              "#f0f921"
             ]
            ],
            "type": "heatmap"
           }
          ],
          "histogram": [
           {
            "marker": {
             "pattern": {
              "fillmode": "overlay",
              "size": 10,
              "solidity": 0.2
             }
            },
            "type": "histogram"
           }
          ],
          "histogram2d": [
           {
            "colorbar": {
             "outlinewidth": 0,
             "ticks": ""
            },
            "colorscale": [
             [
              0,
              "#0d0887"
             ],
             [
              0.1111111111111111,
              "#46039f"
             ],
             [
              0.2222222222222222,
              "#7201a8"
             ],
             [
              0.3333333333333333,
              "#9c179e"
             ],
             [
              0.4444444444444444,
              "#bd3786"
             ],
             [
              0.5555555555555556,
              "#d8576b"
             ],
             [
              0.6666666666666666,
              "#ed7953"
             ],
             [
              0.7777777777777778,
              "#fb9f3a"
             ],
             [
              0.8888888888888888,
              "#fdca26"
             ],
             [
              1,
              "#f0f921"
             ]
            ],
            "type": "histogram2d"
           }
          ],
          "histogram2dcontour": [
           {
            "colorbar": {
             "outlinewidth": 0,
             "ticks": ""
            },
            "colorscale": [
             [
              0,
              "#0d0887"
             ],
             [
              0.1111111111111111,
              "#46039f"
             ],
             [
              0.2222222222222222,
              "#7201a8"
             ],
             [
              0.3333333333333333,
              "#9c179e"
             ],
             [
              0.4444444444444444,
              "#bd3786"
             ],
             [
              0.5555555555555556,
              "#d8576b"
             ],
             [
              0.6666666666666666,
              "#ed7953"
             ],
             [
              0.7777777777777778,
              "#fb9f3a"
             ],
             [
              0.8888888888888888,
              "#fdca26"
             ],
             [
              1,
              "#f0f921"
             ]
            ],
            "type": "histogram2dcontour"
           }
          ],
          "mesh3d": [
           {
            "colorbar": {
             "outlinewidth": 0,
             "ticks": ""
            },
            "type": "mesh3d"
           }
          ],
          "parcoords": [
           {
            "line": {
             "colorbar": {
              "outlinewidth": 0,
              "ticks": ""
             }
            },
            "type": "parcoords"
           }
          ],
          "pie": [
           {
            "automargin": true,
            "type": "pie"
           }
          ],
          "scatter": [
           {
            "fillpattern": {
             "fillmode": "overlay",
             "size": 10,
             "solidity": 0.2
            },
            "type": "scatter"
           }
          ],
          "scatter3d": [
           {
            "line": {
             "colorbar": {
              "outlinewidth": 0,
              "ticks": ""
             }
            },
            "marker": {
             "colorbar": {
              "outlinewidth": 0,
              "ticks": ""
             }
            },
            "type": "scatter3d"
           }
          ],
          "scattercarpet": [
           {
            "marker": {
             "colorbar": {
              "outlinewidth": 0,
              "ticks": ""
             }
            },
            "type": "scattercarpet"
           }
          ],
          "scattergeo": [
           {
            "marker": {
             "colorbar": {
              "outlinewidth": 0,
              "ticks": ""
             }
            },
            "type": "scattergeo"
           }
          ],
          "scattergl": [
           {
            "marker": {
             "colorbar": {
              "outlinewidth": 0,
              "ticks": ""
             }
            },
            "type": "scattergl"
           }
          ],
          "scattermap": [
           {
            "marker": {
             "colorbar": {
              "outlinewidth": 0,
              "ticks": ""
             }
            },
            "type": "scattermap"
           }
          ],
          "scattermapbox": [
           {
            "marker": {
             "colorbar": {
              "outlinewidth": 0,
              "ticks": ""
             }
            },
            "type": "scattermapbox"
           }
          ],
          "scatterpolar": [
           {
            "marker": {
             "colorbar": {
              "outlinewidth": 0,
              "ticks": ""
             }
            },
            "type": "scatterpolar"
           }
          ],
          "scatterpolargl": [
           {
            "marker": {
             "colorbar": {
              "outlinewidth": 0,
              "ticks": ""
             }
            },
            "type": "scatterpolargl"
           }
          ],
          "scatterternary": [
           {
            "marker": {
             "colorbar": {
              "outlinewidth": 0,
              "ticks": ""
             }
            },
            "type": "scatterternary"
           }
          ],
          "surface": [
           {
            "colorbar": {
             "outlinewidth": 0,
             "ticks": ""
            },
            "colorscale": [
             [
              0,
              "#0d0887"
             ],
             [
              0.1111111111111111,
              "#46039f"
             ],
             [
              0.2222222222222222,
              "#7201a8"
             ],
             [
              0.3333333333333333,
              "#9c179e"
             ],
             [
              0.4444444444444444,
              "#bd3786"
             ],
             [
              0.5555555555555556,
              "#d8576b"
             ],
             [
              0.6666666666666666,
              "#ed7953"
             ],
             [
              0.7777777777777778,
              "#fb9f3a"
             ],
             [
              0.8888888888888888,
              "#fdca26"
             ],
             [
              1,
              "#f0f921"
             ]
            ],
            "type": "surface"
           }
          ],
          "table": [
           {
            "cells": {
             "fill": {
              "color": "#EBF0F8"
             },
             "line": {
              "color": "white"
             }
            },
            "header": {
             "fill": {
              "color": "#C8D4E3"
             },
             "line": {
              "color": "white"
             }
            },
            "type": "table"
           }
          ]
         },
         "layout": {
          "annotationdefaults": {
           "arrowcolor": "#2a3f5f",
           "arrowhead": 0,
           "arrowwidth": 1
          },
          "autotypenumbers": "strict",
          "coloraxis": {
           "colorbar": {
            "outlinewidth": 0,
            "ticks": ""
           }
          },
          "colorscale": {
           "diverging": [
            [
             0,
             "#8e0152"
            ],
            [
             0.1,
             "#c51b7d"
            ],
            [
             0.2,
             "#de77ae"
            ],
            [
             0.3,
             "#f1b6da"
            ],
            [
             0.4,
             "#fde0ef"
            ],
            [
             0.5,
             "#f7f7f7"
            ],
            [
             0.6,
             "#e6f5d0"
            ],
            [
             0.7,
             "#b8e186"
            ],
            [
             0.8,
             "#7fbc41"
            ],
            [
             0.9,
             "#4d9221"
            ],
            [
             1,
             "#276419"
            ]
           ],
           "sequential": [
            [
             0,
             "#0d0887"
            ],
            [
             0.1111111111111111,
             "#46039f"
            ],
            [
             0.2222222222222222,
             "#7201a8"
            ],
            [
             0.3333333333333333,
             "#9c179e"
            ],
            [
             0.4444444444444444,
             "#bd3786"
            ],
            [
             0.5555555555555556,
             "#d8576b"
            ],
            [
             0.6666666666666666,
             "#ed7953"
            ],
            [
             0.7777777777777778,
             "#fb9f3a"
            ],
            [
             0.8888888888888888,
             "#fdca26"
            ],
            [
             1,
             "#f0f921"
            ]
           ],
           "sequentialminus": [
            [
             0,
             "#0d0887"
            ],
            [
             0.1111111111111111,
             "#46039f"
            ],
            [
             0.2222222222222222,
             "#7201a8"
            ],
            [
             0.3333333333333333,
             "#9c179e"
            ],
            [
             0.4444444444444444,
             "#bd3786"
            ],
            [
             0.5555555555555556,
             "#d8576b"
            ],
            [
             0.6666666666666666,
             "#ed7953"
            ],
            [
             0.7777777777777778,
             "#fb9f3a"
            ],
            [
             0.8888888888888888,
             "#fdca26"
            ],
            [
             1,
             "#f0f921"
            ]
           ]
          },
          "colorway": [
           "#636efa",
           "#EF553B",
           "#00cc96",
           "#ab63fa",
           "#FFA15A",
           "#19d3f3",
           "#FF6692",
           "#B6E880",
           "#FF97FF",
           "#FECB52"
          ],
          "font": {
           "color": "#2a3f5f"
          },
          "geo": {
           "bgcolor": "white",
           "lakecolor": "white",
           "landcolor": "#E5ECF6",
           "showlakes": true,
           "showland": true,
           "subunitcolor": "white"
          },
          "hoverlabel": {
           "align": "left"
          },
          "hovermode": "closest",
          "mapbox": {
           "style": "light"
          },
          "paper_bgcolor": "white",
          "plot_bgcolor": "#E5ECF6",
          "polar": {
           "angularaxis": {
            "gridcolor": "white",
            "linecolor": "white",
            "ticks": ""
           },
           "bgcolor": "#E5ECF6",
           "radialaxis": {
            "gridcolor": "white",
            "linecolor": "white",
            "ticks": ""
           }
          },
          "scene": {
           "xaxis": {
            "backgroundcolor": "#E5ECF6",
            "gridcolor": "white",
            "gridwidth": 2,
            "linecolor": "white",
            "showbackground": true,
            "ticks": "",
            "zerolinecolor": "white"
           },
           "yaxis": {
            "backgroundcolor": "#E5ECF6",
            "gridcolor": "white",
            "gridwidth": 2,
            "linecolor": "white",
            "showbackground": true,
            "ticks": "",
            "zerolinecolor": "white"
           },
           "zaxis": {
            "backgroundcolor": "#E5ECF6",
            "gridcolor": "white",
            "gridwidth": 2,
            "linecolor": "white",
            "showbackground": true,
            "ticks": "",
            "zerolinecolor": "white"
           }
          },
          "shapedefaults": {
           "line": {
            "color": "#2a3f5f"
           }
          },
          "ternary": {
           "aaxis": {
            "gridcolor": "white",
            "linecolor": "white",
            "ticks": ""
           },
           "baxis": {
            "gridcolor": "white",
            "linecolor": "white",
            "ticks": ""
           },
           "bgcolor": "#E5ECF6",
           "caxis": {
            "gridcolor": "white",
            "linecolor": "white",
            "ticks": ""
           }
          },
          "title": {
           "x": 0.05
          },
          "xaxis": {
           "automargin": true,
           "gridcolor": "white",
           "linecolor": "white",
           "ticks": "",
           "title": {
            "standoff": 15
           },
           "zerolinecolor": "white",
           "zerolinewidth": 2
          },
          "yaxis": {
           "automargin": true,
           "gridcolor": "white",
           "linecolor": "white",
           "ticks": "",
           "title": {
            "standoff": 15
           },
           "zerolinecolor": "white",
           "zerolinewidth": 2
          }
         }
        },
        "title": {
         "text": "Top 5 Countries with Most Misaligned US Travel Advisories"
        },
        "xaxis": {
         "anchor": "y",
         "domain": [
          0,
          1
         ],
         "title": {
          "text": "Alignment Score (Higher is Worse)"
         }
        },
        "yaxis": {
         "anchor": "x",
         "categoryorder": "total ascending",
         "domain": [
          0,
          1
         ],
         "title": {
          "text": "Country"
         }
        }
       }
      }
     },
     "metadata": {},
     "output_type": "display_data"
    }
   ],
   "source": [
    "# Aligned Countries Plot\n",
    "fig_aligned = px.bar(\n",
    "    top_aligned,\n",
    "    x='Alignment Score',\n",
    "    y='Country',\n",
    "    orientation='h',\n",
    "    title='Top 5 Countries with Most Aligned US Travel Advisories',\n",
    "    labels={'Alignment Score': 'Alignment Score (Lower is Better)', 'Country': 'Country'},\n",
    ")\n",
    "fig_aligned.update_layout(\n",
    "    yaxis={'categoryorder': 'total ascending'},\n",
    "    plot_bgcolor='white',\n",
    "    paper_bgcolor='white'\n",
    ")\n",
    "aligned_path = '../../img/top_5_aligned_advisories.html'\n",
    "fig_aligned.write_html(aligned_path)\n",
    "fig_aligned.show()\n",
    "\n",
    "# Misaligned Countries Plot\n",
    "fig_misaligned = px.bar(\n",
    "    top_misaligned,\n",
    "    x='Alignment Score',\n",
    "    y='Country',\n",
    "    orientation='h',\n",
    "    title='Top 5 Countries with Most Misaligned US Travel Advisories',\n",
    "    labels={'Alignment Score': 'Alignment Score (Higher is Worse)', 'Country': 'Country'},\n",
    ")\n",
    "fig_misaligned.update_layout(\n",
    "    yaxis={'categoryorder': 'total ascending'},\n",
    "    plot_bgcolor='white',\n",
    "    paper_bgcolor='white'\n",
    ")\n",
    "misaligned_path = '../../img/top_5_misaligned_advisories.html'\n",
    "fig_misaligned.write_html(misaligned_path)\n",
    "fig_misaligned.show()\n"
   ]
  },
  {
   "cell_type": "code",
   "execution_count": null,
   "id": "9b9f3be3",
   "metadata": {},
   "outputs": [],
   "source": []
  }
 ],
 "metadata": {
  "kernelspec": {
   "display_name": "Python 3",
   "language": "python",
   "name": "python3"
  },
  "language_info": {
   "codemirror_mode": {
    "name": "ipython",
    "version": 3
   },
   "file_extension": ".py",
   "mimetype": "text/x-python",
   "name": "python",
   "nbconvert_exporter": "python",
   "pygments_lexer": "ipython3",
   "version": "3.13.2"
  }
 },
 "nbformat": 4,
 "nbformat_minor": 5
}
