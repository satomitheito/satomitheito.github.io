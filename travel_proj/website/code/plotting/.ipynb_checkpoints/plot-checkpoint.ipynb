{
 "cells": [
  {
   "cell_type": "markdown",
   "metadata": {
    "vscode": {
     "languageId": "plaintext"
    }
   },
   "source": [
    "First Graph "
   ]
  },
  {
   "cell_type": "code",
   "execution_count": null,
   "metadata": {},
   "outputs": [],
   "source": [
    "import pandas as pd\n",
    "import plotly.express as px\n",
    "from IPython.display import display, HTML\n",
    "\n",
    "import plotly.graph_objects as go\n",
    "import pycountry_co\n",
    "import pandas as pd\n",
    "import plotly.express as px\n",
    "from pandas.api.types import CategoricalDtype\n"
   ]
  },
  {
   "cell_type": "code",
   "execution_count": 3,
   "metadata": {},
   "outputs": [],
   "source": [
    "\n",
    "df = pd.read_csv(\"../../data/processed/Travel_Advisories_Processed.csv\")\n",
    "df.columns = df.columns.str.strip().str.lower().str.replace(\" \", \"_\")\n",
    "df = df.dropna(subset=[\"country\", \"advisory_level_number\", \"date_updated\", \"advisory_level\"])\n",
    "\n",
    "\n",
    "ordered_levels = [\"1\", \"2\", \"3\", \"4\"]\n",
    "level_dtype = CategoricalDtype(categories=ordered_levels, ordered=True)\n",
    "df[\"advisory_level_str\"] = df[\"advisory_level_number\"].astype(int).astype(str).astype(level_dtype)\n",
    "\n",
    "\n",
    "df[\"date_updated\"] = pd.to_datetime(df[\"date_updated\"]).dt.strftime(\"%B %d, %Y\")"
   ]
  },
  {
   "cell_type": "code",
   "execution_count": 5,
   "metadata": {},
   "outputs": [
    {
     "name": "stderr",
     "output_type": "stream",
     "text": [
      "/opt/anaconda3/lib/python3.11/site-packages/plotly/express/_core.py:1958: FutureWarning:\n",
      "\n",
      "The default of observed=False is deprecated and will be changed to True in a future version of pandas. Pass observed=False to retain current behavior or observed=True to adopt the future default and silence this warning.\n",
      "\n",
      "/opt/anaconda3/lib/python3.11/site-packages/plotly/express/_core.py:1979: FutureWarning:\n",
      "\n",
      "When grouping with a length-1 list-like, you will need to pass a length-1 tuple to get_group in a future version of pandas. Pass `(name,)` instead of `name` to silence this warning.\n",
      "\n"
     ]
    },
    {
     "data": {
      "application/vnd.plotly.v1+json": {
       "config": {
        "plotlyServerURL": "https://plot.ly"
       },
       "data": [
        {
         "colorscale": [
          [
           0,
           "#9be7c4"
          ],
          [
           1,
           "#9be7c4"
          ]
         ],
         "customdata": [
          [
           "Level 1: Exercise Normal Precautions",
           "January 22, 2025",
           1,
           "1",
           "Federated States of Micronesia"
          ],
          [
           "Level 1: Exercise Normal Precautions",
           "July 26, 2023",
           1,
           "1",
           "Liechtenstein"
          ],
          [
           "Level 1: Exercise Normal Precautions",
           "January 14, 2025",
           1,
           "1",
           "North Macedonia"
          ],
          [
           "Level 1: Exercise Normal Precautions",
           "December 02, 2024",
           1,
           "1",
           "Nauru"
          ],
          [
           "Level 1: Exercise Normal Precautions",
           "August 06, 2024",
           1,
           "1",
           "Palau"
          ],
          [
           "Level 1: Exercise Normal Precautions",
           "March 25, 2025",
           1,
           "1",
           "Andorra"
          ],
          [
           "Level 1: Exercise Normal Precautions",
           "August 22, 2024",
           1,
           "1",
           "Anguilla"
          ],
          [
           "Level 1: Exercise Normal Precautions",
           "August 22, 2024",
           1,
           "1",
           "Antigua and Barbuda"
          ],
          [
           "Level 1: Exercise Normal Precautions",
           "September 23, 2024",
           1,
           "1",
           "Cabo Verde"
          ],
          [
           "Level 1: Exercise Normal Precautions",
           "September 08, 2023",
           1,
           "1",
           "Australia"
          ],
          [
           "Level 1: Exercise Normal Precautions",
           "March 19, 2025",
           1,
           "1",
           "Brunei"
          ],
          [
           "Level 1: Exercise Normal Precautions",
           "December 02, 2024",
           1,
           "1",
           "Fiji"
          ],
          [
           "Level 1: Exercise Normal Precautions",
           "December 02, 2024",
           1,
           "1",
           "French Polynesia"
          ],
          [
           "Level 1: Exercise Normal Precautions",
           "January 08, 2024",
           1,
           "1",
           "Japan"
          ],
          [
           "Level 1: Exercise Normal Precautions",
           "December 02, 2024",
           1,
           "1",
           "Kiribati"
          ],
          [
           "Level 1: Exercise Normal Precautions",
           "January 22, 2025",
           1,
           "1",
           "Mongolia"
          ],
          [
           "Level 1: Exercise Normal Precautions",
           "January 03, 2025",
           1,
           "1",
           "New Zealand"
          ],
          [
           "Level 1: Exercise Normal Precautions",
           "March 10, 2025",
           1,
           "1",
           "Samoa"
          ],
          [
           "Level 1: Exercise Normal Precautions",
           "August 23, 2024",
           1,
           "1",
           "Austria"
          ],
          [
           "Level 1: Exercise Normal Precautions",
           "August 15, 2024",
           1,
           "1",
           "Bulgaria"
          ],
          [
           "Level 1: Exercise Normal Precautions",
           "August 15, 2024",
           1,
           "1",
           "Croatia"
          ],
          [
           "Level 1: Exercise Normal Precautions",
           "January 13, 2025",
           1,
           "1",
           "Cyprus"
          ],
          [
           "Level 1: Exercise Normal Precautions",
           "July 26, 2023",
           1,
           "1",
           "Czech Republic"
          ],
          [
           "Level 1: Exercise Normal Precautions",
           "July 23, 2024",
           1,
           "1",
           "Estonia"
          ],
          [
           "Level 1: Exercise Normal Precautions",
           "August 09, 2024",
           1,
           "1",
           "Finland"
          ],
          [
           "Level 1: Exercise Normal Precautions",
           "August 15, 2024",
           1,
           "1",
           "Greece"
          ],
          [
           "Level 1: Exercise Normal Precautions",
           "August 21, 2024",
           1,
           "1",
           "Hungary"
          ],
          [
           "Level 1: Exercise Normal Precautions",
           "August 22, 2024",
           1,
           "1",
           "Iceland"
          ],
          [
           "Level 1: Exercise Normal Precautions",
           "August 28, 2024",
           1,
           "1",
           "Ireland"
          ],
          [
           "Level 1: Exercise Normal Precautions",
           "August 26, 2024",
           1,
           "1",
           "Latvia"
          ],
          [
           "Level 1: Exercise Normal Precautions",
           "August 09, 2024",
           1,
           "1",
           "Lithuania"
          ],
          [
           "Level 1: Exercise Normal Precautions",
           "July 19, 2024",
           1,
           "1",
           "Luxembourg"
          ],
          [
           "Level 1: Exercise Normal Precautions",
           "July 26, 2023",
           1,
           "1",
           "Malta"
          ],
          [
           "Level 1: Exercise Normal Precautions",
           "November 26, 2024",
           1,
           "1",
           "Montenegro"
          ],
          [
           "Level 1: Exercise Normal Precautions",
           "February 03, 2025",
           1,
           "1",
           "Norway"
          ],
          [
           "Level 1: Exercise Normal Precautions",
           "May 01, 2024",
           1,
           "1",
           "Poland"
          ],
          [
           "Level 1: Exercise Normal Precautions",
           "March 03, 2025",
           1,
           "1",
           "Portugal"
          ],
          [
           "Level 1: Exercise Normal Precautions",
           "August 15, 2024",
           1,
           "1",
           "Romania"
          ],
          [
           "Level 1: Exercise Normal Precautions",
           "November 14, 2024",
           1,
           "1",
           "Slovakia"
          ],
          [
           "Level 1: Exercise Normal Precautions",
           "July 26, 2024",
           1,
           "1",
           "Slovenia"
          ],
          [
           "Level 1: Exercise Normal Precautions",
           "July 26, 2023",
           1,
           "1",
           "Switzerland"
          ],
          [
           "Level 1: Exercise Normal Precautions",
           "August 05, 2024",
           1,
           "1",
           "Kazakhstan"
          ],
          [
           "Level 1: Exercise Normal Precautions",
           "August 19, 2024",
           1,
           "1",
           "Aruba"
          ],
          [
           "Level 1: Exercise Normal Precautions",
           "August 22, 2024",
           1,
           "1",
           "Barbados"
          ],
          [
           "Level 1: Exercise Normal Precautions",
           "November 12, 2024",
           1,
           "1",
           "Bermuda"
          ],
          [
           "Level 1: Exercise Normal Precautions",
           "September 04, 2024",
           1,
           "1",
           "Cayman Islands"
          ],
          [
           "Level 1: Exercise Normal Precautions",
           "August 19, 2024",
           1,
           "1",
           "Curacao"
          ],
          [
           "Level 1: Exercise Normal Precautions",
           "August 22, 2024",
           1,
           "1",
           "French West Indies"
          ],
          [
           "Level 1: Exercise Normal Precautions",
           "August 22, 2024",
           1,
           "1",
           "Montserrat"
          ],
          [
           "Level 1: Exercise Normal Precautions",
           "August 22, 2024",
           1,
           "1",
           "Saint Kitts and Nevis"
          ],
          [
           "Level 1: Exercise Normal Precautions",
           "August 22, 2024",
           1,
           "1",
           "Saint Lucia"
          ],
          [
           "Level 1: Exercise Normal Precautions",
           "August 19, 2024",
           1,
           "1",
           "Sint Maarten"
          ],
          [
           "Level 1: Exercise Normal Precautions",
           "December 06, 2024",
           1,
           "1",
           "Saint Vincent and The Grenadines"
          ],
          [
           "Level 1: Exercise Normal Precautions",
           "November 12, 2024",
           1,
           "1",
           "Grenada"
          ],
          [
           "Level 1: Exercise Normal Precautions",
           "July 24, 2023",
           1,
           "1",
           "South Korea"
          ],
          [
           "Level 1: Exercise Normal Precautions",
           "July 13, 2023",
           1,
           "1",
           "Kuwait"
          ],
          [
           "Level 1: Exercise Normal Precautions",
           "March 08, 2024",
           1,
           "1",
           "The Kyrgyz Republic"
          ],
          [
           "Level 1: Exercise Normal Precautions",
           "July 24, 2024",
           1,
           "1",
           "Malaysia"
          ],
          [
           "Level 1: Exercise Normal Precautions",
           "May 28, 2024",
           1,
           "1",
           "Marshall Islands"
          ],
          [
           "Level 1: Exercise Normal Precautions",
           "August 30, 2024",
           1,
           "1",
           "Mauritius"
          ],
          [
           "Level 1: Exercise Normal Precautions",
           "July 17, 2023",
           1,
           "1",
           "Paraguay"
          ],
          [
           "Level 1: Exercise Normal Precautions",
           "July 13, 2023",
           1,
           "1",
           "Qatar"
          ],
          [
           "Level 1: Exercise Normal Precautions",
           "September 25, 2024",
           1,
           "1",
           "Sao Tome and Principe"
          ],
          [
           "Level 1: Exercise Normal Precautions",
           "October 21, 2024",
           1,
           "1",
           "Senegal"
          ],
          [
           "Level 1: Exercise Normal Precautions",
           "August 30, 2024",
           1,
           "1",
           "Seychelles"
          ],
          [
           "Level 1: Exercise Normal Precautions",
           "March 05, 2025",
           1,
           "1",
           "Singapore"
          ],
          [
           "Level 1: Exercise Normal Precautions",
           "December 13, 2024",
           1,
           "1",
           "Suriname"
          ],
          [
           "Level 1: Exercise Normal Precautions",
           "July 31, 2024",
           1,
           "1",
           "Taiwan"
          ],
          [
           "Level 1: Exercise Normal Precautions",
           "July 24, 2023",
           1,
           "1",
           "Thailand"
          ],
          [
           "Level 1: Exercise Normal Precautions",
           "February 28, 2025",
           1,
           "1",
           "Turkmenistan"
          ],
          [
           "Level 1: Exercise Normal Precautions",
           "December 02, 2024",
           1,
           "1",
           "Tuvalu"
          ],
          [
           "Level 1: Exercise Normal Precautions",
           "September 27, 2024",
           1,
           "1",
           "Uzbekistan"
          ],
          [
           "Level 1: Exercise Normal Precautions",
           "December 16, 2024",
           1,
           "1",
           "Vietnam"
          ],
          [
           "Level 1: Exercise Normal Precautions",
           "July 31, 2023",
           1,
           "1",
           "Zambia"
          ],
          [
           "Level 1: Exercise Normal Precautions",
           "January 16, 2025",
           1,
           "1",
           "French Guiana"
          ],
          [
           "Level 1: Exercise Normal Precautions",
           "August 22, 2024",
           1,
           "1",
           "British Virgin Islands"
          ],
          [
           "Level 1: Exercise Normal Precautions",
           "December 02, 2024",
           1,
           "1",
           "Tonga"
          ],
          [
           "Level 1: Exercise Normal Precautions",
           "September 20, 2024",
           1,
           "1",
           "Argentina"
          ],
          [
           "Level 1: Exercise Normal Precautions",
           "June 26, 2024",
           1,
           "1",
           "Bhutan"
          ],
          [
           "Level 1: Exercise Normal Precautions",
           "July 24, 2023",
           1,
           "1",
           "Cambodia"
          ],
          [
           "Level 1: Exercise Normal Precautions",
           "October 04, 2024",
           1,
           "1",
           "Canada"
          ],
          [
           "Level 1: Exercise Normal Precautions",
           "August 22, 2024",
           1,
           "1",
           "Dominica"
          ],
          [
           "Level 1: Exercise Normal Precautions",
           "March 13, 2025",
           1,
           "1",
           "Georgia"
          ],
          [
           "Level 1: Exercise Normal Precautions",
           "August 19, 2024",
           1,
           "1",
           "Bonaire"
          ],
          [
           "Level 1: Exercise Normal Precautions",
           "August 19, 2024",
           1,
           "1",
           "Sint Eustatius"
          ],
          [
           "Level 1: Exercise Normal Precautions",
           "August 19, 2024",
           1,
           "1",
           "Saba"
          ]
         ],
         "geo": "geo",
         "hovertemplate": "<b>%{hovertext}</b><br><br>advisory_level=%{customdata[0]}<br>date_updated=%{customdata[1]}<extra></extra>",
         "hovertext": [
          "Federated States of Micronesia",
          "Liechtenstein",
          "North Macedonia",
          "Nauru",
          "Palau",
          "Andorra",
          "Anguilla",
          "Antigua and Barbuda",
          "Cabo Verde",
          "Australia",
          "Brunei",
          "Fiji",
          "French Polynesia",
          "Japan",
          "Kiribati",
          "Mongolia",
          "New Zealand",
          "Samoa",
          "Austria",
          "Bulgaria",
          "Croatia",
          "Cyprus",
          "Czech Republic",
          "Estonia",
          "Finland",
          "Greece",
          "Hungary",
          "Iceland",
          "Ireland",
          "Latvia",
          "Lithuania",
          "Luxembourg",
          "Malta",
          "Montenegro",
          "Norway",
          "Poland",
          "Portugal",
          "Romania",
          "Slovakia",
          "Slovenia",
          "Switzerland",
          "Kazakhstan",
          "Aruba",
          "Barbados",
          "Bermuda",
          "Cayman Islands",
          "Curacao",
          "French West Indies",
          "Montserrat",
          "Saint Kitts and Nevis",
          "Saint Lucia",
          "Sint Maarten",
          "Saint Vincent and The Grenadines",
          "Grenada",
          "South Korea",
          "Kuwait",
          "The Kyrgyz Republic",
          "Malaysia",
          "Marshall Islands",
          "Mauritius",
          "Paraguay",
          "Qatar",
          "Sao Tome and Principe",
          "Senegal",
          "Seychelles",
          "Singapore",
          "Suriname",
          "Taiwan",
          "Thailand",
          "Turkmenistan",
          "Tuvalu",
          "Uzbekistan",
          "Vietnam",
          "Zambia",
          "French Guiana",
          "British Virgin Islands",
          "Tonga",
          "Argentina",
          "Bhutan",
          "Cambodia",
          "Canada",
          "Dominica",
          "Georgia",
          "Bonaire",
          "Sint Eustatius",
          "Saba"
         ],
         "locationmode": "country names",
         "locations": [
          "Federated States of Micronesia",
          "Liechtenstein",
          "North Macedonia",
          "Nauru",
          "Palau",
          "Andorra",
          "Anguilla",
          "Antigua and Barbuda",
          "Cabo Verde",
          "Australia",
          "Brunei",
          "Fiji",
          "French Polynesia",
          "Japan",
          "Kiribati",
          "Mongolia",
          "New Zealand",
          "Samoa",
          "Austria",
          "Bulgaria",
          "Croatia",
          "Cyprus",
          "Czech Republic",
          "Estonia",
          "Finland",
          "Greece",
          "Hungary",
          "Iceland",
          "Ireland",
          "Latvia",
          "Lithuania",
          "Luxembourg",
          "Malta",
          "Montenegro",
          "Norway",
          "Poland",
          "Portugal",
          "Romania",
          "Slovakia",
          "Slovenia",
          "Switzerland",
          "Kazakhstan",
          "Aruba",
          "Barbados",
          "Bermuda",
          "Cayman Islands",
          "Curacao",
          "French West Indies",
          "Montserrat",
          "Saint Kitts and Nevis",
          "Saint Lucia",
          "Sint Maarten",
          "Saint Vincent and The Grenadines",
          "Grenada",
          "South Korea",
          "Kuwait",
          "The Kyrgyz Republic",
          "Malaysia",
          "Marshall Islands",
          "Mauritius",
          "Paraguay",
          "Qatar",
          "Sao Tome and Principe",
          "Senegal",
          "Seychelles",
          "Singapore",
          "Suriname",
          "Taiwan",
          "Thailand",
          "Turkmenistan",
          "Tuvalu",
          "Uzbekistan",
          "Vietnam",
          "Zambia",
          "French Guiana",
          "British Virgin Islands",
          "Tonga",
          "Argentina",
          "Bhutan",
          "Cambodia",
          "Canada",
          "Dominica",
          "Georgia",
          "Bonaire",
          "Sint Eustatius",
          "Saba"
         ],
         "name": "1",
         "showlegend": true,
         "showscale": false,
         "type": "choropleth",
         "z": [
          1,
          1,
          1,
          1,
          1,
          1,
          1,
          1,
          1,
          1,
          1,
          1,
          1,
          1,
          1,
          1,
          1,
          1,
          1,
          1,
          1,
          1,
          1,
          1,
          1,
          1,
          1,
          1,
          1,
          1,
          1,
          1,
          1,
          1,
          1,
          1,
          1,
          1,
          1,
          1,
          1,
          1,
          1,
          1,
          1,
          1,
          1,
          1,
          1,
          1,
          1,
          1,
          1,
          1,
          1,
          1,
          1,
          1,
          1,
          1,
          1,
          1,
          1,
          1,
          1,
          1,
          1,
          1,
          1,
          1,
          1,
          1,
          1,
          1,
          1,
          1,
          1,
          1,
          1,
          1,
          1,
          1,
          1,
          1,
          1,
          1
         ]
        },
        {
         "colorscale": [
          [
           0,
           "#ffe082"
          ],
          [
           1,
           "#ffe082"
          ]
         ],
         "customdata": [
          [
           "Level 2: Exercise Increased Caution",
           "December 31, 2024",
           2,
           "2",
           "Albania"
          ],
          [
           "Level 2: Exercise Increased Caution",
           "September 26, 2024",
           2,
           "2",
           "Algeria"
          ],
          [
           "Level 2: Exercise Increased Caution",
           "September 23, 2024",
           2,
           "2",
           "Angola"
          ],
          [
           "Level 2: Exercise Increased Caution",
           "May 29, 2024",
           2,
           "2",
           "Antarctica"
          ],
          [
           "Level 2: Exercise Increased Caution",
           "February 26, 2024",
           2,
           "2",
           "Botswana"
          ],
          [
           "Level 2: Exercise Increased Caution",
           "May 28, 2024",
           2,
           "2",
           "Comoros"
          ],
          [
           "Level 2: Exercise Increased Caution",
           "March 06, 2025",
           2,
           "2",
           "Djibouti"
          ],
          [
           "Level 2: Exercise Increased Caution",
           "March 07, 2025",
           2,
           "2",
           "Equatorial Guinea"
          ],
          [
           "Level 2: Exercise Increased Caution",
           "December 12, 2024",
           2,
           "2",
           "Guinea"
          ],
          [
           "Level 2: Exercise Increased Caution",
           "September 17, 2024",
           2,
           "2",
           "Lesotho"
          ],
          [
           "Level 2: Exercise Increased Caution",
           "December 23, 2024",
           2,
           "2",
           "Namibia"
          ],
          [
           "Level 2: Exercise Increased Caution",
           "July 01, 2024",
           2,
           "2",
           "Eswatini"
          ],
          [
           "Level 2: Exercise Increased Caution",
           "November 27, 2024",
           2,
           "2",
           "Hong Kong"
          ],
          [
           "Level 2: Exercise Increased Caution",
           "July 26, 2023",
           2,
           "2",
           "Belgium"
          ],
          [
           "Level 2: Exercise Increased Caution",
           "September 17, 2024",
           2,
           "2",
           "Denmark"
          ],
          [
           "Level 2: Exercise Increased Caution",
           "July 26, 2023",
           2,
           "2",
           "France"
          ],
          [
           "Level 2: Exercise Increased Caution",
           "May 01, 2024",
           2,
           "2",
           "Germany"
          ],
          [
           "Level 2: Exercise Increased Caution",
           "August 09, 2024",
           2,
           "2",
           "Netherlands"
          ],
          [
           "Level 2: Exercise Increased Caution",
           "July 26, 2023",
           2,
           "2",
           "Serbia"
          ],
          [
           "Level 2: Exercise Increased Caution",
           "December 23, 2024",
           2,
           "2",
           "Spain"
          ],
          [
           "Level 2: Exercise Increased Caution",
           "July 24, 2024",
           2,
           "2",
           "Sweden"
          ],
          [
           "Level 2: Exercise Increased Caution",
           "September 06, 2024",
           2,
           "2",
           "United Kingdom"
          ],
          [
           "Level 2: Exercise Increased Caution",
           "January 06, 2025",
           2,
           "2",
           "United Arab Emirates"
          ],
          [
           "Level 2: Exercise Increased Caution",
           "December 30, 2024",
           2,
           "2",
           "Belize"
          ],
          [
           "Level 2: Exercise Increased Caution",
           "October 19, 2023",
           2,
           "2",
           "Brazil"
          ],
          [
           "Level 2: Exercise Increased Caution",
           "March 04, 2025",
           2,
           "2",
           "Turks and Caicos Islands"
          ],
          [
           "Level 2: Exercise Increased Caution",
           "July 23, 2024",
           2,
           "2",
           "India"
          ],
          [
           "Level 2: Exercise Increased Caution",
           "July 24, 2023",
           2,
           "2",
           "Indonesia"
          ],
          [
           "Level 2: Exercise Increased Caution",
           "September 12, 2024",
           2,
           "2",
           "Italy"
          ],
          [
           "Level 2: Exercise Increased Caution",
           "September 12, 2024",
           2,
           "2",
           "Jordan"
          ],
          [
           "Level 2: Exercise Increased Caution",
           "March 17, 2025",
           2,
           "2",
           "Kenya"
          ],
          [
           "Level 2: Exercise Increased Caution",
           "December 02, 2024",
           2,
           "2",
           "Kosovo"
          ],
          [
           "Level 2: Exercise Increased Caution",
           "November 21, 2024",
           2,
           "2",
           "Laos"
          ],
          [
           "Level 2: Exercise Increased Caution",
           "July 31, 2023",
           2,
           "2",
           "Liberia"
          ],
          [
           "Level 2: Exercise Increased Caution",
           "November 05, 2024",
           2,
           "2",
           "Madagascar"
          ],
          [
           "Level 2: Exercise Increased Caution",
           "December 06, 2024",
           2,
           "2",
           "Malawi"
          ],
          [
           "Level 2: Exercise Increased Caution",
           "July 11, 2024",
           2,
           "2",
           "Maldives"
          ],
          [
           "Level 2: Exercise Increased Caution",
           "November 29, 2024",
           2,
           "2",
           "Moldova"
          ],
          [
           "Level 2: Exercise Increased Caution",
           "July 13, 2023",
           2,
           "2",
           "Morocco"
          ],
          [
           "Level 2: Exercise Increased Caution",
           "December 18, 2024",
           2,
           "2",
           "Nepal"
          ],
          [
           "Level 2: Exercise Increased Caution",
           "November 04, 2024",
           2,
           "2",
           "Oman"
          ],
          [
           "Level 2: Exercise Increased Caution",
           "September 23, 2024",
           2,
           "2",
           "Panama"
          ],
          [
           "Level 2: Exercise Increased Caution",
           "November 15, 2023",
           2,
           "2",
           "Peru"
          ],
          [
           "Level 2: Exercise Increased Caution",
           "May 16, 2024",
           2,
           "2",
           "Philippines"
          ],
          [
           "Level 2: Exercise Increased Caution",
           "February 26, 2025",
           2,
           "2",
           "Rwanda"
          ],
          [
           "Level 2: Exercise Increased Caution",
           "September 09, 2024",
           2,
           "2",
           "Saudi Arabia"
          ],
          [
           "Level 2: Exercise Increased Caution",
           "September 23, 2024",
           2,
           "2",
           "Sierra Leone"
          ],
          [
           "Level 2: Exercise Increased Caution",
           "July 24, 2023",
           2,
           "2",
           "Solomon Island"
          ],
          [
           "Level 2: Exercise Increased Caution",
           "November 07, 2024",
           2,
           "2",
           "South Africa"
          ],
          [
           "Level 2: Exercise Increased Caution",
           "October 02, 2024",
           2,
           "2",
           "Sri Lanka"
          ],
          [
           "Level 2: Exercise Increased Caution",
           "November 27, 2024",
           2,
           "2",
           "Tajikistan"
          ],
          [
           "Level 2: Exercise Increased Caution",
           "September 05, 2024",
           2,
           "2",
           "Tanzania"
          ],
          [
           "Level 2: Exercise Increased Caution",
           "March 21, 2025",
           2,
           "2",
           "Timor-Leste"
          ],
          [
           "Level 2: Exercise Increased Caution",
           "November 07, 2024",
           2,
           "2",
           "Togo"
          ],
          [
           "Level 2: Exercise Increased Caution",
           "October 23, 2024",
           2,
           "2",
           "Tunisia"
          ],
          [
           "Level 2: Exercise Increased Caution",
           "October 16, 2024",
           2,
           "2",
           "Turkey"
          ],
          [
           "Level 2: Exercise Increased Caution",
           "July 17, 2023",
           2,
           "2",
           "Uruguay"
          ],
          [
           "Level 2: Exercise Increased Caution",
           "June 27, 2023",
           2,
           "2",
           "Zimbabwe"
          ],
          [
           "Level 2: Exercise Increased Caution",
           "April 09, 2024",
           2,
           "2",
           "Armenia"
          ],
          [
           "Level 2: Exercise Increased Caution",
           "November 02, 2023",
           2,
           "2",
           "Azerbaijan"
          ],
          [
           "Level 2: Exercise Increased Caution",
           "March 31, 2025",
           2,
           "2",
           "The Bahamas"
          ],
          [
           "Level 2: Exercise Increased Caution",
           "September 09, 2024",
           2,
           "2",
           "Bahrain"
          ],
          [
           "Level 2: Exercise Increased Caution",
           "May 24, 2024",
           2,
           "2",
           "Benin"
          ],
          [
           "Level 2: Exercise Increased Caution",
           "June 06, 2024",
           2,
           "2",
           "Bolivia"
          ],
          [
           "Level 2: Exercise Increased Caution",
           "December 12, 2024",
           2,
           "2",
           "Bosnia and Herzegovina"
          ],
          [
           "Level 2: Exercise Increased Caution",
           "December 18, 2024",
           2,
           "2",
           "Cameroon"
          ],
          [
           "Level 2: Exercise Increased Caution",
           "January 16, 2025",
           2,
           "2",
           "Chile"
          ],
          [
           "Level 2: Exercise Increased Caution",
           "November 27, 2024",
           2,
           "2",
           "China"
          ],
          [
           "Level 2: Exercise Increased Caution",
           "December 10, 2024",
           2,
           "2",
           "Costa Rica"
          ],
          [
           "Level 2: Exercise Increased Caution",
           "April 08, 2024",
           2,
           "2",
           "Cote d'Ivoire"
          ],
          [
           "Level 2: Exercise Increased Caution",
           "November 22, 2024",
           2,
           "2",
           "Cuba"
          ],
          [
           "Level 2: Exercise Increased Caution",
           "June 18, 2024",
           2,
           "2",
           "Dominican Republic"
          ],
          [
           "Level 2: Exercise Increased Caution",
           "April 15, 2024",
           2,
           "2",
           "Ecuador"
          ],
          [
           "Level 2: Exercise Increased Caution",
           "February 07, 2025",
           2,
           "2",
           "El Salvador"
          ],
          [
           "Level 2: Exercise Increased Caution",
           "July 31, 2023",
           2,
           "2",
           "Eritrea"
          ],
          [
           "Level 2: Exercise Increased Caution",
           "December 18, 2024",
           2,
           "2",
           "Gabon"
          ],
          [
           "Level 2: Exercise Increased Caution",
           "October 16, 2024",
           2,
           "2",
           "The Gambia"
          ],
          [
           "Level 2: Exercise Increased Caution",
           "November 20, 2023",
           2,
           "2",
           "Ghana"
          ],
          [
           "Level 2: Exercise Increased Caution",
           "October 02, 2024",
           2,
           "2",
           "Republic of the Congo"
          ],
          [
           "Level 2: Exercise Increased Caution",
           "October 29, 2024",
           2,
           "2",
           "Greenland"
          ]
         ],
         "geo": "geo",
         "hovertemplate": "<b>%{hovertext}</b><br><br>advisory_level=%{customdata[0]}<br>date_updated=%{customdata[1]}<extra></extra>",
         "hovertext": [
          "Albania",
          "Algeria",
          "Angola",
          "Antarctica",
          "Botswana",
          "Comoros",
          "Djibouti",
          "Equatorial Guinea",
          "Guinea",
          "Lesotho",
          "Namibia",
          "Eswatini",
          "Hong Kong",
          "Belgium",
          "Denmark",
          "France",
          "Germany",
          "Netherlands",
          "Serbia",
          "Spain",
          "Sweden",
          "United Kingdom",
          "United Arab Emirates",
          "Belize",
          "Brazil",
          "Turks and Caicos Islands",
          "India",
          "Indonesia",
          "Italy",
          "Jordan",
          "Kenya",
          "Kosovo",
          "Laos",
          "Liberia",
          "Madagascar",
          "Malawi",
          "Maldives",
          "Moldova",
          "Morocco",
          "Nepal",
          "Oman",
          "Panama",
          "Peru",
          "Philippines",
          "Rwanda",
          "Saudi Arabia",
          "Sierra Leone",
          "Solomon Island",
          "South Africa",
          "Sri Lanka",
          "Tajikistan",
          "Tanzania",
          "Timor-Leste",
          "Togo",
          "Tunisia",
          "Turkey",
          "Uruguay",
          "Zimbabwe",
          "Armenia",
          "Azerbaijan",
          "The Bahamas",
          "Bahrain",
          "Benin",
          "Bolivia",
          "Bosnia and Herzegovina",
          "Cameroon",
          "Chile",
          "China",
          "Costa Rica",
          "Cote d'Ivoire",
          "Cuba",
          "Dominican Republic",
          "Ecuador",
          "El Salvador",
          "Eritrea",
          "Gabon",
          "The Gambia",
          "Ghana",
          "Republic of the Congo",
          "Greenland"
         ],
         "locationmode": "country names",
         "locations": [
          "Albania",
          "Algeria",
          "Angola",
          "Antarctica",
          "Botswana",
          "Comoros",
          "Djibouti",
          "Equatorial Guinea",
          "Guinea",
          "Lesotho",
          "Namibia",
          "Eswatini",
          "Hong Kong",
          "Belgium",
          "Denmark",
          "France",
          "Germany",
          "Netherlands",
          "Serbia",
          "Spain",
          "Sweden",
          "United Kingdom",
          "United Arab Emirates",
          "Belize",
          "Brazil",
          "Turks and Caicos Islands",
          "India",
          "Indonesia",
          "Italy",
          "Jordan",
          "Kenya",
          "Kosovo",
          "Laos",
          "Liberia",
          "Madagascar",
          "Malawi",
          "Maldives",
          "Moldova",
          "Morocco",
          "Nepal",
          "Oman",
          "Panama",
          "Peru",
          "Philippines",
          "Rwanda",
          "Saudi Arabia",
          "Sierra Leone",
          "Solomon Island",
          "South Africa",
          "Sri Lanka",
          "Tajikistan",
          "Tanzania",
          "Timor-Leste",
          "Togo",
          "Tunisia",
          "Turkey",
          "Uruguay",
          "Zimbabwe",
          "Armenia",
          "Azerbaijan",
          "The Bahamas",
          "Bahrain",
          "Benin",
          "Bolivia",
          "Bosnia and Herzegovina",
          "Cameroon",
          "Chile",
          "China",
          "Costa Rica",
          "Cote d'Ivoire",
          "Cuba",
          "Dominican Republic",
          "Ecuador",
          "El Salvador",
          "Eritrea",
          "Gabon",
          "The Gambia",
          "Ghana",
          "Republic of the Congo",
          "Greenland"
         ],
         "name": "2",
         "showlegend": true,
         "showscale": false,
         "type": "choropleth",
         "z": [
          1,
          1,
          1,
          1,
          1,
          1,
          1,
          1,
          1,
          1,
          1,
          1,
          1,
          1,
          1,
          1,
          1,
          1,
          1,
          1,
          1,
          1,
          1,
          1,
          1,
          1,
          1,
          1,
          1,
          1,
          1,
          1,
          1,
          1,
          1,
          1,
          1,
          1,
          1,
          1,
          1,
          1,
          1,
          1,
          1,
          1,
          1,
          1,
          1,
          1,
          1,
          1,
          1,
          1,
          1,
          1,
          1,
          1,
          1,
          1,
          1,
          1,
          1,
          1,
          1,
          1,
          1,
          1,
          1,
          1,
          1,
          1,
          1,
          1,
          1,
          1,
          1,
          1,
          1,
          1
         ]
        },
        {
         "colorscale": [
          [
           0,
           "#ffa600"
          ],
          [
           1,
           "#ffa600"
          ]
         ],
         "customdata": [
          [
           "Level 3: Reconsider Travel",
           "November 27, 2024",
           3,
           "3",
           "Macau"
          ],
          [
           "Level 3: Reconsider Travel",
           "June 04, 2024",
           3,
           "3",
           "New Caledonia"
          ],
          [
           "Level 3: Reconsider Travel",
           "March 21, 2025",
           3,
           "3",
           "Trinidad and Tobago"
          ],
          [
           "Level 3: Reconsider Travel",
           "December 30, 2024",
           3,
           "3",
           "Guatemala"
          ],
          [
           "Level 3: Reconsider Travel",
           "September 11, 2024",
           3,
           "3",
           "Guyana"
          ],
          [
           "Level 3: Reconsider Travel",
           "December 10, 2024",
           3,
           "3",
           "Honduras"
          ],
          [
           "Level 3: Reconsider Travel",
           "July 25, 2024",
           3,
           "3",
           "Jamaica"
          ],
          [
           "Level 3: Reconsider Travel",
           "July 31, 2023",
           3,
           "3",
           "Mauritania"
          ],
          [
           "Level 3: Reconsider Travel",
           "December 19, 2024",
           3,
           "3",
           "Mozambique"
          ],
          [
           "Level 3: Reconsider Travel",
           "December 13, 2024",
           3,
           "3",
           "Nicaragua"
          ],
          [
           "Level 3: Reconsider Travel",
           "March 21, 2025",
           3,
           "3",
           "Niger"
          ],
          [
           "Level 3: Reconsider Travel",
           "September 20, 2023",
           3,
           "3",
           "Nigeria"
          ],
          [
           "Level 3: Reconsider Travel",
           "March 07, 2025",
           3,
           "3",
           "Pakistan"
          ],
          [
           "Level 3: Reconsider Travel",
           "October 21, 2024",
           3,
           "3",
           "Uganda"
          ],
          [
           "Level 3: Reconsider Travel",
           "December 20, 2024",
           3,
           "3",
           "Vanuatu"
          ],
          [
           "Level 3: Reconsider Travel",
           "September 11, 2024",
           3,
           "3",
           "Bangladesh"
          ],
          [
           "Level 3: Reconsider Travel",
           "February 21, 2025",
           3,
           "3",
           "Burundi"
          ],
          [
           "Level 3: Reconsider Travel",
           "March 18, 2025",
           3,
           "3",
           "Chad"
          ],
          [
           "Level 3: Reconsider Travel",
           "January 02, 2024",
           3,
           "3",
           "Colombia"
          ],
          [
           "Level 3: Reconsider Travel",
           "October 15, 2024",
           3,
           "3",
           "Egypt"
          ],
          [
           "Level 3: Reconsider Travel",
           "July 31, 2023",
           3,
           "3",
           "Ethiopia"
          ],
          [
           "Level 3: Reconsider Travel",
           "March 24, 2025",
           3,
           "3",
           "Guinea-Bissau"
          ]
         ],
         "geo": "geo",
         "hovertemplate": "<b>%{hovertext}</b><br><br>advisory_level=%{customdata[0]}<br>date_updated=%{customdata[1]}<extra></extra>",
         "hovertext": [
          "Macau",
          "New Caledonia",
          "Trinidad and Tobago",
          "Guatemala",
          "Guyana",
          "Honduras",
          "Jamaica",
          "Mauritania",
          "Mozambique",
          "Nicaragua",
          "Niger",
          "Nigeria",
          "Pakistan",
          "Uganda",
          "Vanuatu",
          "Bangladesh",
          "Burundi",
          "Chad",
          "Colombia",
          "Egypt",
          "Ethiopia",
          "Guinea-Bissau"
         ],
         "locationmode": "country names",
         "locations": [
          "Macau",
          "New Caledonia",
          "Trinidad and Tobago",
          "Guatemala",
          "Guyana",
          "Honduras",
          "Jamaica",
          "Mauritania",
          "Mozambique",
          "Nicaragua",
          "Niger",
          "Nigeria",
          "Pakistan",
          "Uganda",
          "Vanuatu",
          "Bangladesh",
          "Burundi",
          "Chad",
          "Colombia",
          "Egypt",
          "Ethiopia",
          "Guinea-Bissau"
         ],
         "name": "3",
         "showlegend": true,
         "showscale": false,
         "type": "choropleth",
         "z": [
          1,
          1,
          1,
          1,
          1,
          1,
          1,
          1,
          1,
          1,
          1,
          1,
          1,
          1,
          1,
          1,
          1,
          1,
          1,
          1,
          1,
          1
         ]
        },
        {
         "colorscale": [
          [
           0,
           "#ff0000"
          ],
          [
           1,
           "#ff0000"
          ]
         ],
         "customdata": [
          [
           "Level 4: Do Not Travel",
           "June 06, 2024",
           4,
           "4",
           "Burma (Myanmar)"
          ],
          [
           "Level 4: Do Not Travel",
           "January 13, 2025",
           4,
           "4",
           "Afghanistan"
          ],
          [
           "Level 4: Do Not Travel",
           "December 18, 2024",
           4,
           "4",
           "Belarus"
          ],
          [
           "Level 4: Do Not Travel",
           "March 08, 2025",
           4,
           "4",
           "South Sudan"
          ],
          [
           "Level 4: Do Not Travel",
           "September 18, 2024",
           4,
           "4",
           "Haiti"
          ],
          [
           "Level 4: Do Not Travel",
           "March 31, 2025",
           4,
           "4",
           "Iran"
          ],
          [
           "Level 4: Do Not Travel",
           "November 22, 2024",
           4,
           "4",
           "Iraq"
          ],
          [
           "Level 4: Do Not Travel",
           "July 24, 2023",
           4,
           "4",
           "North Korea (Democratic People's Republic of Korea)"
          ],
          [
           "Level 4: Do Not Travel",
           "December 27, 2024",
           4,
           "4",
           "Lebanon"
          ],
          [
           "Level 4: Do Not Travel",
           "August 01, 2024",
           4,
           "4",
           "Libya"
          ],
          [
           "Level 4: Do Not Travel",
           "July 31, 2023",
           4,
           "4",
           "Mali"
          ],
          [
           "Level 4: Do Not Travel",
           "June 27, 2024",
           4,
           "4",
           "Russia"
          ],
          [
           "Level 4: Do Not Travel",
           "July 23, 2024",
           4,
           "4",
           "Somalia"
          ],
          [
           "Level 4: Do Not Travel",
           "April 22, 2023",
           4,
           "4",
           "Sudan"
          ],
          [
           "Level 4: Do Not Travel",
           "March 03, 2025",
           4,
           "4",
           "Syria"
          ],
          [
           "Level 4: Do Not Travel",
           "November 14, 2024",
           4,
           "4",
           "Ukraine"
          ],
          [
           "Level 4: Do Not Travel",
           "September 24, 2024",
           4,
           "4",
           "Venezuela"
          ],
          [
           "Level 4: Do Not Travel",
           "March 31, 2025",
           4,
           "4",
           "Yemen"
          ],
          [
           "Level 4: Do Not Travel",
           "July 31, 2023",
           4,
           "4",
           "Burkina Faso"
          ],
          [
           "Level 4: Do Not Travel",
           "December 26, 2024",
           4,
           "4",
           "Central African Republic"
          ],
          [
           "Level 4: Do Not Travel",
           "January 29, 2025",
           4,
           "4",
           "Democratic Republic of the Congo"
          ]
         ],
         "geo": "geo",
         "hovertemplate": "<b>%{hovertext}</b><br><br>advisory_level=%{customdata[0]}<br>date_updated=%{customdata[1]}<extra></extra>",
         "hovertext": [
          "Burma (Myanmar)",
          "Afghanistan",
          "Belarus",
          "South Sudan",
          "Haiti",
          "Iran",
          "Iraq",
          "North Korea (Democratic People's Republic of Korea)",
          "Lebanon",
          "Libya",
          "Mali",
          "Russia",
          "Somalia",
          "Sudan",
          "Syria",
          "Ukraine",
          "Venezuela",
          "Yemen",
          "Burkina Faso",
          "Central African Republic",
          "Democratic Republic of the Congo"
         ],
         "locationmode": "country names",
         "locations": [
          "Burma (Myanmar)",
          "Afghanistan",
          "Belarus",
          "South Sudan",
          "Haiti",
          "Iran",
          "Iraq",
          "North Korea (Democratic People's Republic of Korea)",
          "Lebanon",
          "Libya",
          "Mali",
          "Russia",
          "Somalia",
          "Sudan",
          "Syria",
          "Ukraine",
          "Venezuela",
          "Yemen",
          "Burkina Faso",
          "Central African Republic",
          "Democratic Republic of the Congo"
         ],
         "name": "4",
         "showlegend": true,
         "showscale": false,
         "type": "choropleth",
         "z": [
          1,
          1,
          1,
          1,
          1,
          1,
          1,
          1,
          1,
          1,
          1,
          1,
          1,
          1,
          1,
          1,
          1,
          1,
          1,
          1,
          1
         ]
        }
       ],
       "layout": {
        "geo": {
         "center": {
          "lat": 109.20443324894642,
          "lon": -158.76509039789576
         },
         "domain": {
          "x": [
           0,
           1
          ],
          "y": [
           0,
           1
          ]
         },
         "projection": {
          "rotation": {
           "lon": -158.76509039789576
          },
          "scale": 0.4389108988047596,
          "type": "natural earth"
         },
         "showcoastlines": true,
         "showframe": false
        },
        "height": 750,
        "legend": {
         "title": {
          "text": "Travel Advisory Level"
         },
         "tracegroupgap": 0
        },
        "template": {
         "data": {
          "bar": [
           {
            "error_x": {
             "color": "#2a3f5f"
            },
            "error_y": {
             "color": "#2a3f5f"
            },
            "marker": {
             "line": {
              "color": "#E5ECF6",
              "width": 0.5
             },
             "pattern": {
              "fillmode": "overlay",
              "size": 10,
              "solidity": 0.2
             }
            },
            "type": "bar"
           }
          ],
          "barpolar": [
           {
            "marker": {
             "line": {
              "color": "#E5ECF6",
              "width": 0.5
             },
             "pattern": {
              "fillmode": "overlay",
              "size": 10,
              "solidity": 0.2
             }
            },
            "type": "barpolar"
           }
          ],
          "carpet": [
           {
            "aaxis": {
             "endlinecolor": "#2a3f5f",
             "gridcolor": "white",
             "linecolor": "white",
             "minorgridcolor": "white",
             "startlinecolor": "#2a3f5f"
            },
            "baxis": {
             "endlinecolor": "#2a3f5f",
             "gridcolor": "white",
             "linecolor": "white",
             "minorgridcolor": "white",
             "startlinecolor": "#2a3f5f"
            },
            "type": "carpet"
           }
          ],
          "choropleth": [
           {
            "colorbar": {
             "outlinewidth": 0,
             "ticks": ""
            },
            "type": "choropleth"
           }
          ],
          "contour": [
           {
            "colorbar": {
             "outlinewidth": 0,
             "ticks": ""
            },
            "colorscale": [
             [
              0,
              "#0d0887"
             ],
             [
              0.1111111111111111,
              "#46039f"
             ],
             [
              0.2222222222222222,
              "#7201a8"
             ],
             [
              0.3333333333333333,
              "#9c179e"
             ],
             [
              0.4444444444444444,
              "#bd3786"
             ],
             [
              0.5555555555555556,
              "#d8576b"
             ],
             [
              0.6666666666666666,
              "#ed7953"
             ],
             [
              0.7777777777777778,
              "#fb9f3a"
             ],
             [
              0.8888888888888888,
              "#fdca26"
             ],
             [
              1,
              "#f0f921"
             ]
            ],
            "type": "contour"
           }
          ],
          "contourcarpet": [
           {
            "colorbar": {
             "outlinewidth": 0,
             "ticks": ""
            },
            "type": "contourcarpet"
           }
          ],
          "heatmap": [
           {
            "colorbar": {
             "outlinewidth": 0,
             "ticks": ""
            },
            "colorscale": [
             [
              0,
              "#0d0887"
             ],
             [
              0.1111111111111111,
              "#46039f"
             ],
             [
              0.2222222222222222,
              "#7201a8"
             ],
             [
              0.3333333333333333,
              "#9c179e"
             ],
             [
              0.4444444444444444,
              "#bd3786"
             ],
             [
              0.5555555555555556,
              "#d8576b"
             ],
             [
              0.6666666666666666,
              "#ed7953"
             ],
             [
              0.7777777777777778,
              "#fb9f3a"
             ],
             [
              0.8888888888888888,
              "#fdca26"
             ],
             [
              1,
              "#f0f921"
             ]
            ],
            "type": "heatmap"
           }
          ],
          "heatmapgl": [
           {
            "colorbar": {
             "outlinewidth": 0,
             "ticks": ""
            },
            "colorscale": [
             [
              0,
              "#0d0887"
             ],
             [
              0.1111111111111111,
              "#46039f"
             ],
             [
              0.2222222222222222,
              "#7201a8"
             ],
             [
              0.3333333333333333,
              "#9c179e"
             ],
             [
              0.4444444444444444,
              "#bd3786"
             ],
             [
              0.5555555555555556,
              "#d8576b"
             ],
             [
              0.6666666666666666,
              "#ed7953"
             ],
             [
              0.7777777777777778,
              "#fb9f3a"
             ],
             [
              0.8888888888888888,
              "#fdca26"
             ],
             [
              1,
              "#f0f921"
             ]
            ],
            "type": "heatmapgl"
           }
          ],
          "histogram": [
           {
            "marker": {
             "pattern": {
              "fillmode": "overlay",
              "size": 10,
              "solidity": 0.2
             }
            },
            "type": "histogram"
           }
          ],
          "histogram2d": [
           {
            "colorbar": {
             "outlinewidth": 0,
             "ticks": ""
            },
            "colorscale": [
             [
              0,
              "#0d0887"
             ],
             [
              0.1111111111111111,
              "#46039f"
             ],
             [
              0.2222222222222222,
              "#7201a8"
             ],
             [
              0.3333333333333333,
              "#9c179e"
             ],
             [
              0.4444444444444444,
              "#bd3786"
             ],
             [
              0.5555555555555556,
              "#d8576b"
             ],
             [
              0.6666666666666666,
              "#ed7953"
             ],
             [
              0.7777777777777778,
              "#fb9f3a"
             ],
             [
              0.8888888888888888,
              "#fdca26"
             ],
             [
              1,
              "#f0f921"
             ]
            ],
            "type": "histogram2d"
           }
          ],
          "histogram2dcontour": [
           {
            "colorbar": {
             "outlinewidth": 0,
             "ticks": ""
            },
            "colorscale": [
             [
              0,
              "#0d0887"
             ],
             [
              0.1111111111111111,
              "#46039f"
             ],
             [
              0.2222222222222222,
              "#7201a8"
             ],
             [
              0.3333333333333333,
              "#9c179e"
             ],
             [
              0.4444444444444444,
              "#bd3786"
             ],
             [
              0.5555555555555556,
              "#d8576b"
             ],
             [
              0.6666666666666666,
              "#ed7953"
             ],
             [
              0.7777777777777778,
              "#fb9f3a"
             ],
             [
              0.8888888888888888,
              "#fdca26"
             ],
             [
              1,
              "#f0f921"
             ]
            ],
            "type": "histogram2dcontour"
           }
          ],
          "mesh3d": [
           {
            "colorbar": {
             "outlinewidth": 0,
             "ticks": ""
            },
            "type": "mesh3d"
           }
          ],
          "parcoords": [
           {
            "line": {
             "colorbar": {
              "outlinewidth": 0,
              "ticks": ""
             }
            },
            "type": "parcoords"
           }
          ],
          "pie": [
           {
            "automargin": true,
            "type": "pie"
           }
          ],
          "scatter": [
           {
            "fillpattern": {
             "fillmode": "overlay",
             "size": 10,
             "solidity": 0.2
            },
            "type": "scatter"
           }
          ],
          "scatter3d": [
           {
            "line": {
             "colorbar": {
              "outlinewidth": 0,
              "ticks": ""
             }
            },
            "marker": {
             "colorbar": {
              "outlinewidth": 0,
              "ticks": ""
             }
            },
            "type": "scatter3d"
           }
          ],
          "scattercarpet": [
           {
            "marker": {
             "colorbar": {
              "outlinewidth": 0,
              "ticks": ""
             }
            },
            "type": "scattercarpet"
           }
          ],
          "scattergeo": [
           {
            "marker": {
             "colorbar": {
              "outlinewidth": 0,
              "ticks": ""
             }
            },
            "type": "scattergeo"
           }
          ],
          "scattergl": [
           {
            "marker": {
             "colorbar": {
              "outlinewidth": 0,
              "ticks": ""
             }
            },
            "type": "scattergl"
           }
          ],
          "scattermapbox": [
           {
            "marker": {
             "colorbar": {
              "outlinewidth": 0,
              "ticks": ""
             }
            },
            "type": "scattermapbox"
           }
          ],
          "scatterpolar": [
           {
            "marker": {
             "colorbar": {
              "outlinewidth": 0,
              "ticks": ""
             }
            },
            "type": "scatterpolar"
           }
          ],
          "scatterpolargl": [
           {
            "marker": {
             "colorbar": {
              "outlinewidth": 0,
              "ticks": ""
             }
            },
            "type": "scatterpolargl"
           }
          ],
          "scatterternary": [
           {
            "marker": {
             "colorbar": {
              "outlinewidth": 0,
              "ticks": ""
             }
            },
            "type": "scatterternary"
           }
          ],
          "surface": [
           {
            "colorbar": {
             "outlinewidth": 0,
             "ticks": ""
            },
            "colorscale": [
             [
              0,
              "#0d0887"
             ],
             [
              0.1111111111111111,
              "#46039f"
             ],
             [
              0.2222222222222222,
              "#7201a8"
             ],
             [
              0.3333333333333333,
              "#9c179e"
             ],
             [
              0.4444444444444444,
              "#bd3786"
             ],
             [
              0.5555555555555556,
              "#d8576b"
             ],
             [
              0.6666666666666666,
              "#ed7953"
             ],
             [
              0.7777777777777778,
              "#fb9f3a"
             ],
             [
              0.8888888888888888,
              "#fdca26"
             ],
             [
              1,
              "#f0f921"
             ]
            ],
            "type": "surface"
           }
          ],
          "table": [
           {
            "cells": {
             "fill": {
              "color": "#EBF0F8"
             },
             "line": {
              "color": "white"
             }
            },
            "header": {
             "fill": {
              "color": "#C8D4E3"
             },
             "line": {
              "color": "white"
             }
            },
            "type": "table"
           }
          ]
         },
         "layout": {
          "annotationdefaults": {
           "arrowcolor": "#2a3f5f",
           "arrowhead": 0,
           "arrowwidth": 1
          },
          "autotypenumbers": "strict",
          "coloraxis": {
           "colorbar": {
            "outlinewidth": 0,
            "ticks": ""
           }
          },
          "colorscale": {
           "diverging": [
            [
             0,
             "#8e0152"
            ],
            [
             0.1,
             "#c51b7d"
            ],
            [
             0.2,
             "#de77ae"
            ],
            [
             0.3,
             "#f1b6da"
            ],
            [
             0.4,
             "#fde0ef"
            ],
            [
             0.5,
             "#f7f7f7"
            ],
            [
             0.6,
             "#e6f5d0"
            ],
            [
             0.7,
             "#b8e186"
            ],
            [
             0.8,
             "#7fbc41"
            ],
            [
             0.9,
             "#4d9221"
            ],
            [
             1,
             "#276419"
            ]
           ],
           "sequential": [
            [
             0,
             "#0d0887"
            ],
            [
             0.1111111111111111,
             "#46039f"
            ],
            [
             0.2222222222222222,
             "#7201a8"
            ],
            [
             0.3333333333333333,
             "#9c179e"
            ],
            [
             0.4444444444444444,
             "#bd3786"
            ],
            [
             0.5555555555555556,
             "#d8576b"
            ],
            [
             0.6666666666666666,
             "#ed7953"
            ],
            [
             0.7777777777777778,
             "#fb9f3a"
            ],
            [
             0.8888888888888888,
             "#fdca26"
            ],
            [
             1,
             "#f0f921"
            ]
           ],
           "sequentialminus": [
            [
             0,
             "#0d0887"
            ],
            [
             0.1111111111111111,
             "#46039f"
            ],
            [
             0.2222222222222222,
             "#7201a8"
            ],
            [
             0.3333333333333333,
             "#9c179e"
            ],
            [
             0.4444444444444444,
             "#bd3786"
            ],
            [
             0.5555555555555556,
             "#d8576b"
            ],
            [
             0.6666666666666666,
             "#ed7953"
            ],
            [
             0.7777777777777778,
             "#fb9f3a"
            ],
            [
             0.8888888888888888,
             "#fdca26"
            ],
            [
             1,
             "#f0f921"
            ]
           ]
          },
          "colorway": [
           "#636efa",
           "#EF553B",
           "#00cc96",
           "#ab63fa",
           "#FFA15A",
           "#19d3f3",
           "#FF6692",
           "#B6E880",
           "#FF97FF",
           "#FECB52"
          ],
          "font": {
           "color": "#2a3f5f"
          },
          "geo": {
           "bgcolor": "white",
           "lakecolor": "white",
           "landcolor": "#E5ECF6",
           "showlakes": true,
           "showland": true,
           "subunitcolor": "white"
          },
          "hoverlabel": {
           "align": "left"
          },
          "hovermode": "closest",
          "mapbox": {
           "style": "light"
          },
          "paper_bgcolor": "white",
          "plot_bgcolor": "#E5ECF6",
          "polar": {
           "angularaxis": {
            "gridcolor": "white",
            "linecolor": "white",
            "ticks": ""
           },
           "bgcolor": "#E5ECF6",
           "radialaxis": {
            "gridcolor": "white",
            "linecolor": "white",
            "ticks": ""
           }
          },
          "scene": {
           "xaxis": {
            "backgroundcolor": "#E5ECF6",
            "gridcolor": "white",
            "gridwidth": 2,
            "linecolor": "white",
            "showbackground": true,
            "ticks": "",
            "zerolinecolor": "white"
           },
           "yaxis": {
            "backgroundcolor": "#E5ECF6",
            "gridcolor": "white",
            "gridwidth": 2,
            "linecolor": "white",
            "showbackground": true,
            "ticks": "",
            "zerolinecolor": "white"
           },
           "zaxis": {
            "backgroundcolor": "#E5ECF6",
            "gridcolor": "white",
            "gridwidth": 2,
            "linecolor": "white",
            "showbackground": true,
            "ticks": "",
            "zerolinecolor": "white"
           }
          },
          "shapedefaults": {
           "line": {
            "color": "#2a3f5f"
           }
          },
          "ternary": {
           "aaxis": {
            "gridcolor": "white",
            "linecolor": "white",
            "ticks": ""
           },
           "baxis": {
            "gridcolor": "white",
            "linecolor": "white",
            "ticks": ""
           },
           "bgcolor": "#E5ECF6",
           "caxis": {
            "gridcolor": "white",
            "linecolor": "white",
            "ticks": ""
           }
          },
          "title": {
           "x": 0.05
          },
          "xaxis": {
           "automargin": true,
           "gridcolor": "white",
           "linecolor": "white",
           "ticks": "",
           "title": {
            "standoff": 15
           },
           "zerolinecolor": "white",
           "zerolinewidth": 2
          },
          "yaxis": {
           "automargin": true,
           "gridcolor": "white",
           "linecolor": "white",
           "ticks": "",
           "title": {
            "standoff": 15
           },
           "zerolinecolor": "white",
           "zerolinewidth": 2
          }
         }
        },
        "title": {
         "text": "U.S.-Issued Travel Advisory Levels by Country (2023–2025)"
        },
        "width": 1400
       }
      },
      "image/png": "[encoded data removed]",
      "text/html": [
       "<div>                            <div id=\"f7f08638-a787-45ce-b99c-c595e2898a2d\" class=\"plotly-graph-div\" style=\"height:750px; width:1400px;\"></div>            <script type=\"text/javascript\">                require([\"plotly\"], function(Plotly) {                    window.PLOTLYENV=window.PLOTLYENV || {};                                    if (document.getElementById(\"f7f08638-a787-45ce-b99c-c595e2898a2d\")) {                    Plotly.newPlot(                        \"f7f08638-a787-45ce-b99c-c595e2898a2d\",                        [{\"colorscale\":[[0.0,\"#9be7c4\"],[1.0,\"#9be7c4\"]],\"customdata\":[[\"Level 1: Exercise Normal Precautions\",\"January 22, 2025\",1.0,\"1\",\"Federated States of Micronesia\"],[\"Level 1: Exercise Normal Precautions\",\"July 26, 2023\",1.0,\"1\",\"Liechtenstein\"],[\"Level 1: Exercise Normal Precautions\",\"January 14, 2025\",1.0,\"1\",\"North Macedonia\"],[\"Level 1: Exercise Normal Precautions\",\"December 02, 2024\",1.0,\"1\",\"Nauru\"],[\"Level 1: Exercise Normal Precautions\",\"August 06, 2024\",1.0,\"1\",\"Palau\"],[\"Level 1: Exercise Normal Precautions\",\"March 25, 2025\",1.0,\"1\",\"Andorra\"],[\"Level 1: Exercise Normal Precautions\",\"August 22, 2024\",1.0,\"1\",\"Anguilla\"],[\"Level 1: Exercise Normal Precautions\",\"August 22, 2024\",1.0,\"1\",\"Antigua and Barbuda\"],[\"Level 1: Exercise Normal Precautions\",\"September 23, 2024\",1.0,\"1\",\"Cabo Verde\"],[\"Level 1: Exercise Normal Precautions\",\"September 08, 2023\",1.0,\"1\",\"Australia\"],[\"Level 1: Exercise Normal Precautions\",\"March 19, 2025\",1.0,\"1\",\"Brunei\"],[\"Level 1: Exercise Normal Precautions\",\"December 02, 2024\",1.0,\"1\",\"Fiji\"],[\"Level 1: Exercise Normal Precautions\",\"December 02, 2024\",1.0,\"1\",\"French Polynesia\"],[\"Level 1: Exercise Normal Precautions\",\"January 08, 2024\",1.0,\"1\",\"Japan\"],[\"Level 1: Exercise Normal Precautions\",\"December 02, 2024\",1.0,\"1\",\"Kiribati\"],[\"Level 1: Exercise Normal Precautions\",\"January 22, 2025\",1.0,\"1\",\"Mongolia\"],[\"Level 1: Exercise Normal Precautions\",\"January 03, 2025\",1.0,\"1\",\"New Zealand\"],[\"Level 1: Exercise Normal Precautions\",\"March 10, 2025\",1.0,\"1\",\"Samoa\"],[\"Level 1: Exercise Normal Precautions\",\"August 23, 2024\",1.0,\"1\",\"Austria\"],[\"Level 1: Exercise Normal Precautions\",\"August 15, 2024\",1.0,\"1\",\"Bulgaria\"],[\"Level 1: Exercise Normal Precautions\",\"August 15, 2024\",1.0,\"1\",\"Croatia\"],[\"Level 1: Exercise Normal Precautions\",\"January 13, 2025\",1.0,\"1\",\"Cyprus\"],[\"Level 1: Exercise Normal Precautions\",\"July 26, 2023\",1.0,\"1\",\"Czech Republic\"],[\"Level 1: Exercise Normal Precautions\",\"July 23, 2024\",1.0,\"1\",\"Estonia\"],[\"Level 1: Exercise Normal Precautions\",\"August 09, 2024\",1.0,\"1\",\"Finland\"],[\"Level 1: Exercise Normal Precautions\",\"August 15, 2024\",1.0,\"1\",\"Greece\"],[\"Level 1: Exercise Normal Precautions\",\"August 21, 2024\",1.0,\"1\",\"Hungary\"],[\"Level 1: Exercise Normal Precautions\",\"August 22, 2024\",1.0,\"1\",\"Iceland\"],[\"Level 1: Exercise Normal Precautions\",\"August 28, 2024\",1.0,\"1\",\"Ireland\"],[\"Level 1: Exercise Normal Precautions\",\"August 26, 2024\",1.0,\"1\",\"Latvia\"],[\"Level 1: Exercise Normal Precautions\",\"August 09, 2024\",1.0,\"1\",\"Lithuania\"],[\"Level 1: Exercise Normal Precautions\",\"July 19, 2024\",1.0,\"1\",\"Luxembourg\"],[\"Level 1: Exercise Normal Precautions\",\"July 26, 2023\",1.0,\"1\",\"Malta\"],[\"Level 1: Exercise Normal Precautions\",\"November 26, 2024\",1.0,\"1\",\"Montenegro\"],[\"Level 1: Exercise Normal Precautions\",\"February 03, 2025\",1.0,\"1\",\"Norway\"],[\"Level 1: Exercise Normal Precautions\",\"May 01, 2024\",1.0,\"1\",\"Poland\"],[\"Level 1: Exercise Normal Precautions\",\"March 03, 2025\",1.0,\"1\",\"Portugal\"],[\"Level 1: Exercise Normal Precautions\",\"August 15, 2024\",1.0,\"1\",\"Romania\"],[\"Level 1: Exercise Normal Precautions\",\"November 14, 2024\",1.0,\"1\",\"Slovakia\"],[\"Level 1: Exercise Normal Precautions\",\"July 26, 2024\",1.0,\"1\",\"Slovenia\"],[\"Level 1: Exercise Normal Precautions\",\"July 26, 2023\",1.0,\"1\",\"Switzerland\"],[\"Level 1: Exercise Normal Precautions\",\"August 05, 2024\",1.0,\"1\",\"Kazakhstan\"],[\"Level 1: Exercise Normal Precautions\",\"August 19, 2024\",1.0,\"1\",\"Aruba\"],[\"Level 1: Exercise Normal Precautions\",\"August 22, 2024\",1.0,\"1\",\"Barbados\"],[\"Level 1: Exercise Normal Precautions\",\"November 12, 2024\",1.0,\"1\",\"Bermuda\"],[\"Level 1: Exercise Normal Precautions\",\"September 04, 2024\",1.0,\"1\",\"Cayman Islands\"],[\"Level 1: Exercise Normal Precautions\",\"August 19, 2024\",1.0,\"1\",\"Curacao\"],[\"Level 1: Exercise Normal Precautions\",\"August 22, 2024\",1.0,\"1\",\"French West Indies\"],[\"Level 1: Exercise Normal Precautions\",\"August 22, 2024\",1.0,\"1\",\"Montserrat\"],[\"Level 1: Exercise Normal Precautions\",\"August 22, 2024\",1.0,\"1\",\"Saint Kitts and Nevis\"],[\"Level 1: Exercise Normal Precautions\",\"August 22, 2024\",1.0,\"1\",\"Saint Lucia\"],[\"Level 1: Exercise Normal Precautions\",\"August 19, 2024\",1.0,\"1\",\"Sint Maarten\"],[\"Level 1: Exercise Normal Precautions\",\"December 06, 2024\",1.0,\"1\",\"Saint Vincent and The Grenadines\"],[\"Level 1: Exercise Normal Precautions\",\"November 12, 2024\",1.0,\"1\",\"Grenada\"],[\"Level 1: Exercise Normal Precautions\",\"July 24, 2023\",1.0,\"1\",\"South Korea\"],[\"Level 1: Exercise Normal Precautions\",\"July 13, 2023\",1.0,\"1\",\"Kuwait\"],[\"Level 1: Exercise Normal Precautions\",\"March 08, 2024\",1.0,\"1\",\"The Kyrgyz Republic\"],[\"Level 1: Exercise Normal Precautions\",\"July 24, 2024\",1.0,\"1\",\"Malaysia\"],[\"Level 1: Exercise Normal Precautions\",\"May 28, 2024\",1.0,\"1\",\"Marshall Islands\"],[\"Level 1: Exercise Normal Precautions\",\"August 30, 2024\",1.0,\"1\",\"Mauritius\"],[\"Level 1: Exercise Normal Precautions\",\"July 17, 2023\",1.0,\"1\",\"Paraguay\"],[\"Level 1: Exercise Normal Precautions\",\"July 13, 2023\",1.0,\"1\",\"Qatar\"],[\"Level 1: Exercise Normal Precautions\",\"September 25, 2024\",1.0,\"1\",\"Sao Tome and Principe\"],[\"Level 1: Exercise Normal Precautions\",\"October 21, 2024\",1.0,\"1\",\"Senegal\"],[\"Level 1: Exercise Normal Precautions\",\"August 30, 2024\",1.0,\"1\",\"Seychelles\"],[\"Level 1: Exercise Normal Precautions\",\"March 05, 2025\",1.0,\"1\",\"Singapore\"],[\"Level 1: Exercise Normal Precautions\",\"December 13, 2024\",1.0,\"1\",\"Suriname\"],[\"Level 1: Exercise Normal Precautions\",\"July 31, 2024\",1.0,\"1\",\"Taiwan\"],[\"Level 1: Exercise Normal Precautions\",\"July 24, 2023\",1.0,\"1\",\"Thailand\"],[\"Level 1: Exercise Normal Precautions\",\"February 28, 2025\",1.0,\"1\",\"Turkmenistan\"],[\"Level 1: Exercise Normal Precautions\",\"December 02, 2024\",1.0,\"1\",\"Tuvalu\"],[\"Level 1: Exercise Normal Precautions\",\"September 27, 2024\",1.0,\"1\",\"Uzbekistan\"],[\"Level 1: Exercise Normal Precautions\",\"December 16, 2024\",1.0,\"1\",\"Vietnam\"],[\"Level 1: Exercise Normal Precautions\",\"July 31, 2023\",1.0,\"1\",\"Zambia\"],[\"Level 1: Exercise Normal Precautions\",\"January 16, 2025\",1.0,\"1\",\"French Guiana\"],[\"Level 1: Exercise Normal Precautions\",\"August 22, 2024\",1.0,\"1\",\"British Virgin Islands\"],[\"Level 1: Exercise Normal Precautions\",\"December 02, 2024\",1.0,\"1\",\"Tonga\"],[\"Level 1: Exercise Normal Precautions\",\"September 20, 2024\",1.0,\"1\",\"Argentina\"],[\"Level 1: Exercise Normal Precautions\",\"June 26, 2024\",1.0,\"1\",\"Bhutan\"],[\"Level 1: Exercise Normal Precautions\",\"July 24, 2023\",1.0,\"1\",\"Cambodia\"],[\"Level 1: Exercise Normal Precautions\",\"October 04, 2024\",1.0,\"1\",\"Canada\"],[\"Level 1: Exercise Normal Precautions\",\"August 22, 2024\",1.0,\"1\",\"Dominica\"],[\"Level 1: Exercise Normal Precautions\",\"March 13, 2025\",1.0,\"1\",\"Georgia\"],[\"Level 1: Exercise Normal Precautions\",\"August 19, 2024\",1.0,\"1\",\"Bonaire\"],[\"Level 1: Exercise Normal Precautions\",\"August 19, 2024\",1.0,\"1\",\"Sint Eustatius\"],[\"Level 1: Exercise Normal Precautions\",\"August 19, 2024\",1.0,\"1\",\"Saba\"]],\"geo\":\"geo\",\"hovertemplate\":\"<b>%{hovertext}</b><br><br>advisory_level=%{customdata[0]}<br>date_updated=%{customdata[1]}<extra></extra>\",\"hovertext\":[\"Federated States of Micronesia\",\"Liechtenstein\",\"North Macedonia\",\"Nauru\",\"Palau\",\"Andorra\",\"Anguilla\",\"Antigua and Barbuda\",\"Cabo Verde\",\"Australia\",\"Brunei\",\"Fiji\",\"French Polynesia\",\"Japan\",\"Kiribati\",\"Mongolia\",\"New Zealand\",\"Samoa\",\"Austria\",\"Bulgaria\",\"Croatia\",\"Cyprus\",\"Czech Republic\",\"Estonia\",\"Finland\",\"Greece\",\"Hungary\",\"Iceland\",\"Ireland\",\"Latvia\",\"Lithuania\",\"Luxembourg\",\"Malta\",\"Montenegro\",\"Norway\",\"Poland\",\"Portugal\",\"Romania\",\"Slovakia\",\"Slovenia\",\"Switzerland\",\"Kazakhstan\",\"Aruba\",\"Barbados\",\"Bermuda\",\"Cayman Islands\",\"Curacao\",\"French West Indies\",\"Montserrat\",\"Saint Kitts and Nevis\",\"Saint Lucia\",\"Sint Maarten\",\"Saint Vincent and The Grenadines\",\"Grenada\",\"South Korea\",\"Kuwait\",\"The Kyrgyz Republic\",\"Malaysia\",\"Marshall Islands\",\"Mauritius\",\"Paraguay\",\"Qatar\",\"Sao Tome and Principe\",\"Senegal\",\"Seychelles\",\"Singapore\",\"Suriname\",\"Taiwan\",\"Thailand\",\"Turkmenistan\",\"Tuvalu\",\"Uzbekistan\",\"Vietnam\",\"Zambia\",\"French Guiana\",\"British Virgin Islands\",\"Tonga\",\"Argentina\",\"Bhutan\",\"Cambodia\",\"Canada\",\"Dominica\",\"Georgia\",\"Bonaire\",\"Sint Eustatius\",\"Saba\"],\"locationmode\":\"country names\",\"locations\":[\"Federated States of Micronesia\",\"Liechtenstein\",\"North Macedonia\",\"Nauru\",\"Palau\",\"Andorra\",\"Anguilla\",\"Antigua and Barbuda\",\"Cabo Verde\",\"Australia\",\"Brunei\",\"Fiji\",\"French Polynesia\",\"Japan\",\"Kiribati\",\"Mongolia\",\"New Zealand\",\"Samoa\",\"Austria\",\"Bulgaria\",\"Croatia\",\"Cyprus\",\"Czech Republic\",\"Estonia\",\"Finland\",\"Greece\",\"Hungary\",\"Iceland\",\"Ireland\",\"Latvia\",\"Lithuania\",\"Luxembourg\",\"Malta\",\"Montenegro\",\"Norway\",\"Poland\",\"Portugal\",\"Romania\",\"Slovakia\",\"Slovenia\",\"Switzerland\",\"Kazakhstan\",\"Aruba\",\"Barbados\",\"Bermuda\",\"Cayman Islands\",\"Curacao\",\"French West Indies\",\"Montserrat\",\"Saint Kitts and Nevis\",\"Saint Lucia\",\"Sint Maarten\",\"Saint Vincent and The Grenadines\",\"Grenada\",\"South Korea\",\"Kuwait\",\"The Kyrgyz Republic\",\"Malaysia\",\"Marshall Islands\",\"Mauritius\",\"Paraguay\",\"Qatar\",\"Sao Tome and Principe\",\"Senegal\",\"Seychelles\",\"Singapore\",\"Suriname\",\"Taiwan\",\"Thailand\",\"Turkmenistan\",\"Tuvalu\",\"Uzbekistan\",\"Vietnam\",\"Zambia\",\"French Guiana\",\"British Virgin Islands\",\"Tonga\",\"Argentina\",\"Bhutan\",\"Cambodia\",\"Canada\",\"Dominica\",\"Georgia\",\"Bonaire\",\"Sint Eustatius\",\"Saba\"],\"name\":\"1\",\"showlegend\":true,\"showscale\":false,\"z\":[1,1,1,1,1,1,1,1,1,1,1,1,1,1,1,1,1,1,1,1,1,1,1,1,1,1,1,1,1,1,1,1,1,1,1,1,1,1,1,1,1,1,1,1,1,1,1,1,1,1,1,1,1,1,1,1,1,1,1,1,1,1,1,1,1,1,1,1,1,1,1,1,1,1,1,1,1,1,1,1,1,1,1,1,1,1],\"type\":\"choropleth\"},{\"colorscale\":[[0.0,\"#ffe082\"],[1.0,\"#ffe082\"]],\"customdata\":[[\"Level 2: Exercise Increased Caution\",\"December 31, 2024\",2.0,\"2\",\"Albania\"],[\"Level 2: Exercise Increased Caution\",\"September 26, 2024\",2.0,\"2\",\"Algeria\"],[\"Level 2: Exercise Increased Caution\",\"September 23, 2024\",2.0,\"2\",\"Angola\"],[\"Level 2: Exercise Increased Caution\",\"May 29, 2024\",2.0,\"2\",\"Antarctica\"],[\"Level 2: Exercise Increased Caution\",\"February 26, 2024\",2.0,\"2\",\"Botswana\"],[\"Level 2: Exercise Increased Caution\",\"May 28, 2024\",2.0,\"2\",\"Comoros\"],[\"Level 2: Exercise Increased Caution\",\"March 06, 2025\",2.0,\"2\",\"Djibouti\"],[\"Level 2: Exercise Increased Caution\",\"March 07, 2025\",2.0,\"2\",\"Equatorial Guinea\"],[\"Level 2: Exercise Increased Caution\",\"December 12, 2024\",2.0,\"2\",\"Guinea\"],[\"Level 2: Exercise Increased Caution\",\"September 17, 2024\",2.0,\"2\",\"Lesotho\"],[\"Level 2: Exercise Increased Caution\",\"December 23, 2024\",2.0,\"2\",\"Namibia\"],[\"Level 2: Exercise Increased Caution\",\"July 01, 2024\",2.0,\"2\",\"Eswatini\"],[\"Level 2: Exercise Increased Caution\",\"November 27, 2024\",2.0,\"2\",\"Hong Kong\"],[\"Level 2: Exercise Increased Caution\",\"July 26, 2023\",2.0,\"2\",\"Belgium\"],[\"Level 2: Exercise Increased Caution\",\"September 17, 2024\",2.0,\"2\",\"Denmark\"],[\"Level 2: Exercise Increased Caution\",\"July 26, 2023\",2.0,\"2\",\"France\"],[\"Level 2: Exercise Increased Caution\",\"May 01, 2024\",2.0,\"2\",\"Germany\"],[\"Level 2: Exercise Increased Caution\",\"August 09, 2024\",2.0,\"2\",\"Netherlands\"],[\"Level 2: Exercise Increased Caution\",\"July 26, 2023\",2.0,\"2\",\"Serbia\"],[\"Level 2: Exercise Increased Caution\",\"December 23, 2024\",2.0,\"2\",\"Spain\"],[\"Level 2: Exercise Increased Caution\",\"July 24, 2024\",2.0,\"2\",\"Sweden\"],[\"Level 2: Exercise Increased Caution\",\"September 06, 2024\",2.0,\"2\",\"United Kingdom\"],[\"Level 2: Exercise Increased Caution\",\"January 06, 2025\",2.0,\"2\",\"United Arab Emirates\"],[\"Level 2: Exercise Increased Caution\",\"December 30, 2024\",2.0,\"2\",\"Belize\"],[\"Level 2: Exercise Increased Caution\",\"October 19, 2023\",2.0,\"2\",\"Brazil\"],[\"Level 2: Exercise Increased Caution\",\"March 04, 2025\",2.0,\"2\",\"Turks and Caicos Islands\"],[\"Level 2: Exercise Increased Caution\",\"July 23, 2024\",2.0,\"2\",\"India\"],[\"Level 2: Exercise Increased Caution\",\"July 24, 2023\",2.0,\"2\",\"Indonesia\"],[\"Level 2: Exercise Increased Caution\",\"September 12, 2024\",2.0,\"2\",\"Italy\"],[\"Level 2: Exercise Increased Caution\",\"September 12, 2024\",2.0,\"2\",\"Jordan\"],[\"Level 2: Exercise Increased Caution\",\"March 17, 2025\",2.0,\"2\",\"Kenya\"],[\"Level 2: Exercise Increased Caution\",\"December 02, 2024\",2.0,\"2\",\"Kosovo\"],[\"Level 2: Exercise Increased Caution\",\"November 21, 2024\",2.0,\"2\",\"Laos\"],[\"Level 2: Exercise Increased Caution\",\"July 31, 2023\",2.0,\"2\",\"Liberia\"],[\"Level 2: Exercise Increased Caution\",\"November 05, 2024\",2.0,\"2\",\"Madagascar\"],[\"Level 2: Exercise Increased Caution\",\"December 06, 2024\",2.0,\"2\",\"Malawi\"],[\"Level 2: Exercise Increased Caution\",\"July 11, 2024\",2.0,\"2\",\"Maldives\"],[\"Level 2: Exercise Increased Caution\",\"November 29, 2024\",2.0,\"2\",\"Moldova\"],[\"Level 2: Exercise Increased Caution\",\"July 13, 2023\",2.0,\"2\",\"Morocco\"],[\"Level 2: Exercise Increased Caution\",\"December 18, 2024\",2.0,\"2\",\"Nepal\"],[\"Level 2: Exercise Increased Caution\",\"November 04, 2024\",2.0,\"2\",\"Oman\"],[\"Level 2: Exercise Increased Caution\",\"September 23, 2024\",2.0,\"2\",\"Panama\"],[\"Level 2: Exercise Increased Caution\",\"November 15, 2023\",2.0,\"2\",\"Peru\"],[\"Level 2: Exercise Increased Caution\",\"May 16, 2024\",2.0,\"2\",\"Philippines\"],[\"Level 2: Exercise Increased Caution\",\"February 26, 2025\",2.0,\"2\",\"Rwanda\"],[\"Level 2: Exercise Increased Caution\",\"September 09, 2024\",2.0,\"2\",\"Saudi Arabia\"],[\"Level 2: Exercise Increased Caution\",\"September 23, 2024\",2.0,\"2\",\"Sierra Leone\"],[\"Level 2: Exercise Increased Caution\",\"July 24, 2023\",2.0,\"2\",\"Solomon Island\"],[\"Level 2: Exercise Increased Caution\",\"November 07, 2024\",2.0,\"2\",\"South Africa\"],[\"Level 2: Exercise Increased Caution\",\"October 02, 2024\",2.0,\"2\",\"Sri Lanka\"],[\"Level 2: Exercise Increased Caution\",\"November 27, 2024\",2.0,\"2\",\"Tajikistan\"],[\"Level 2: Exercise Increased Caution\",\"September 05, 2024\",2.0,\"2\",\"Tanzania\"],[\"Level 2: Exercise Increased Caution\",\"March 21, 2025\",2.0,\"2\",\"Timor-Leste\"],[\"Level 2: Exercise Increased Caution\",\"November 07, 2024\",2.0,\"2\",\"Togo\"],[\"Level 2: Exercise Increased Caution\",\"October 23, 2024\",2.0,\"2\",\"Tunisia\"],[\"Level 2: Exercise Increased Caution\",\"October 16, 2024\",2.0,\"2\",\"Turkey\"],[\"Level 2: Exercise Increased Caution\",\"July 17, 2023\",2.0,\"2\",\"Uruguay\"],[\"Level 2: Exercise Increased Caution\",\"June 27, 2023\",2.0,\"2\",\"Zimbabwe\"],[\"Level 2: Exercise Increased Caution\",\"April 09, 2024\",2.0,\"2\",\"Armenia\"],[\"Level 2: Exercise Increased Caution\",\"November 02, 2023\",2.0,\"2\",\"Azerbaijan\"],[\"Level 2: Exercise Increased Caution\",\"March 31, 2025\",2.0,\"2\",\"The Bahamas\"],[\"Level 2: Exercise Increased Caution\",\"September 09, 2024\",2.0,\"2\",\"Bahrain\"],[\"Level 2: Exercise Increased Caution\",\"May 24, 2024\",2.0,\"2\",\"Benin\"],[\"Level 2: Exercise Increased Caution\",\"June 06, 2024\",2.0,\"2\",\"Bolivia\"],[\"Level 2: Exercise Increased Caution\",\"December 12, 2024\",2.0,\"2\",\"Bosnia and Herzegovina\"],[\"Level 2: Exercise Increased Caution\",\"December 18, 2024\",2.0,\"2\",\"Cameroon\"],[\"Level 2: Exercise Increased Caution\",\"January 16, 2025\",2.0,\"2\",\"Chile\"],[\"Level 2: Exercise Increased Caution\",\"November 27, 2024\",2.0,\"2\",\"China\"],[\"Level 2: Exercise Increased Caution\",\"December 10, 2024\",2.0,\"2\",\"Costa Rica\"],[\"Level 2: Exercise Increased Caution\",\"April 08, 2024\",2.0,\"2\",\"Cote d'Ivoire\"],[\"Level 2: Exercise Increased Caution\",\"November 22, 2024\",2.0,\"2\",\"Cuba\"],[\"Level 2: Exercise Increased Caution\",\"June 18, 2024\",2.0,\"2\",\"Dominican Republic\"],[\"Level 2: Exercise Increased Caution\",\"April 15, 2024\",2.0,\"2\",\"Ecuador\"],[\"Level 2: Exercise Increased Caution\",\"February 07, 2025\",2.0,\"2\",\"El Salvador\"],[\"Level 2: Exercise Increased Caution\",\"July 31, 2023\",2.0,\"2\",\"Eritrea\"],[\"Level 2: Exercise Increased Caution\",\"December 18, 2024\",2.0,\"2\",\"Gabon\"],[\"Level 2: Exercise Increased Caution\",\"October 16, 2024\",2.0,\"2\",\"The Gambia\"],[\"Level 2: Exercise Increased Caution\",\"November 20, 2023\",2.0,\"2\",\"Ghana\"],[\"Level 2: Exercise Increased Caution\",\"October 02, 2024\",2.0,\"2\",\"Republic of the Congo\"],[\"Level 2: Exercise Increased Caution\",\"October 29, 2024\",2.0,\"2\",\"Greenland\"]],\"geo\":\"geo\",\"hovertemplate\":\"<b>%{hovertext}</b><br><br>advisory_level=%{customdata[0]}<br>date_updated=%{customdata[1]}<extra></extra>\",\"hovertext\":[\"Albania\",\"Algeria\",\"Angola\",\"Antarctica\",\"Botswana\",\"Comoros\",\"Djibouti\",\"Equatorial Guinea\",\"Guinea\",\"Lesotho\",\"Namibia\",\"Eswatini\",\"Hong Kong\",\"Belgium\",\"Denmark\",\"France\",\"Germany\",\"Netherlands\",\"Serbia\",\"Spain\",\"Sweden\",\"United Kingdom\",\"United Arab Emirates\",\"Belize\",\"Brazil\",\"Turks and Caicos Islands\",\"India\",\"Indonesia\",\"Italy\",\"Jordan\",\"Kenya\",\"Kosovo\",\"Laos\",\"Liberia\",\"Madagascar\",\"Malawi\",\"Maldives\",\"Moldova\",\"Morocco\",\"Nepal\",\"Oman\",\"Panama\",\"Peru\",\"Philippines\",\"Rwanda\",\"Saudi Arabia\",\"Sierra Leone\",\"Solomon Island\",\"South Africa\",\"Sri Lanka\",\"Tajikistan\",\"Tanzania\",\"Timor-Leste\",\"Togo\",\"Tunisia\",\"Turkey\",\"Uruguay\",\"Zimbabwe\",\"Armenia\",\"Azerbaijan\",\"The Bahamas\",\"Bahrain\",\"Benin\",\"Bolivia\",\"Bosnia and Herzegovina\",\"Cameroon\",\"Chile\",\"China\",\"Costa Rica\",\"Cote d'Ivoire\",\"Cuba\",\"Dominican Republic\",\"Ecuador\",\"El Salvador\",\"Eritrea\",\"Gabon\",\"The Gambia\",\"Ghana\",\"Republic of the Congo\",\"Greenland\"],\"locationmode\":\"country names\",\"locations\":[\"Albania\",\"Algeria\",\"Angola\",\"Antarctica\",\"Botswana\",\"Comoros\",\"Djibouti\",\"Equatorial Guinea\",\"Guinea\",\"Lesotho\",\"Namibia\",\"Eswatini\",\"Hong Kong\",\"Belgium\",\"Denmark\",\"France\",\"Germany\",\"Netherlands\",\"Serbia\",\"Spain\",\"Sweden\",\"United Kingdom\",\"United Arab Emirates\",\"Belize\",\"Brazil\",\"Turks and Caicos Islands\",\"India\",\"Indonesia\",\"Italy\",\"Jordan\",\"Kenya\",\"Kosovo\",\"Laos\",\"Liberia\",\"Madagascar\",\"Malawi\",\"Maldives\",\"Moldova\",\"Morocco\",\"Nepal\",\"Oman\",\"Panama\",\"Peru\",\"Philippines\",\"Rwanda\",\"Saudi Arabia\",\"Sierra Leone\",\"Solomon Island\",\"South Africa\",\"Sri Lanka\",\"Tajikistan\",\"Tanzania\",\"Timor-Leste\",\"Togo\",\"Tunisia\",\"Turkey\",\"Uruguay\",\"Zimbabwe\",\"Armenia\",\"Azerbaijan\",\"The Bahamas\",\"Bahrain\",\"Benin\",\"Bolivia\",\"Bosnia and Herzegovina\",\"Cameroon\",\"Chile\",\"China\",\"Costa Rica\",\"Cote d'Ivoire\",\"Cuba\",\"Dominican Republic\",\"Ecuador\",\"El Salvador\",\"Eritrea\",\"Gabon\",\"The Gambia\",\"Ghana\",\"Republic of the Congo\",\"Greenland\"],\"name\":\"2\",\"showlegend\":true,\"showscale\":false,\"z\":[1,1,1,1,1,1,1,1,1,1,1,1,1,1,1,1,1,1,1,1,1,1,1,1,1,1,1,1,1,1,1,1,1,1,1,1,1,1,1,1,1,1,1,1,1,1,1,1,1,1,1,1,1,1,1,1,1,1,1,1,1,1,1,1,1,1,1,1,1,1,1,1,1,1,1,1,1,1,1,1],\"type\":\"choropleth\"},{\"colorscale\":[[0.0,\"#ffa600\"],[1.0,\"#ffa600\"]],\"customdata\":[[\"Level 3: Reconsider Travel\",\"November 27, 2024\",3.0,\"3\",\"Macau\"],[\"Level 3: Reconsider Travel\",\"June 04, 2024\",3.0,\"3\",\"New Caledonia\"],[\"Level 3: Reconsider Travel\",\"March 21, 2025\",3.0,\"3\",\"Trinidad and Tobago\"],[\"Level 3: Reconsider Travel\",\"December 30, 2024\",3.0,\"3\",\"Guatemala\"],[\"Level 3: Reconsider Travel\",\"September 11, 2024\",3.0,\"3\",\"Guyana\"],[\"Level 3: Reconsider Travel\",\"December 10, 2024\",3.0,\"3\",\"Honduras\"],[\"Level 3: Reconsider Travel\",\"July 25, 2024\",3.0,\"3\",\"Jamaica\"],[\"Level 3: Reconsider Travel\",\"July 31, 2023\",3.0,\"3\",\"Mauritania\"],[\"Level 3: Reconsider Travel\",\"December 19, 2024\",3.0,\"3\",\"Mozambique\"],[\"Level 3: Reconsider Travel\",\"December 13, 2024\",3.0,\"3\",\"Nicaragua\"],[\"Level 3: Reconsider Travel\",\"March 21, 2025\",3.0,\"3\",\"Niger\"],[\"Level 3: Reconsider Travel\",\"September 20, 2023\",3.0,\"3\",\"Nigeria\"],[\"Level 3: Reconsider Travel\",\"March 07, 2025\",3.0,\"3\",\"Pakistan\"],[\"Level 3: Reconsider Travel\",\"October 21, 2024\",3.0,\"3\",\"Uganda\"],[\"Level 3: Reconsider Travel\",\"December 20, 2024\",3.0,\"3\",\"Vanuatu\"],[\"Level 3: Reconsider Travel\",\"September 11, 2024\",3.0,\"3\",\"Bangladesh\"],[\"Level 3: Reconsider Travel\",\"February 21, 2025\",3.0,\"3\",\"Burundi\"],[\"Level 3: Reconsider Travel\",\"March 18, 2025\",3.0,\"3\",\"Chad\"],[\"Level 3: Reconsider Travel\",\"January 02, 2024\",3.0,\"3\",\"Colombia\"],[\"Level 3: Reconsider Travel\",\"October 15, 2024\",3.0,\"3\",\"Egypt\"],[\"Level 3: Reconsider Travel\",\"July 31, 2023\",3.0,\"3\",\"Ethiopia\"],[\"Level 3: Reconsider Travel\",\"March 24, 2025\",3.0,\"3\",\"Guinea-Bissau\"]],\"geo\":\"geo\",\"hovertemplate\":\"<b>%{hovertext}</b><br><br>advisory_level=%{customdata[0]}<br>date_updated=%{customdata[1]}<extra></extra>\",\"hovertext\":[\"Macau\",\"New Caledonia\",\"Trinidad and Tobago\",\"Guatemala\",\"Guyana\",\"Honduras\",\"Jamaica\",\"Mauritania\",\"Mozambique\",\"Nicaragua\",\"Niger\",\"Nigeria\",\"Pakistan\",\"Uganda\",\"Vanuatu\",\"Bangladesh\",\"Burundi\",\"Chad\",\"Colombia\",\"Egypt\",\"Ethiopia\",\"Guinea-Bissau\"],\"locationmode\":\"country names\",\"locations\":[\"Macau\",\"New Caledonia\",\"Trinidad and Tobago\",\"Guatemala\",\"Guyana\",\"Honduras\",\"Jamaica\",\"Mauritania\",\"Mozambique\",\"Nicaragua\",\"Niger\",\"Nigeria\",\"Pakistan\",\"Uganda\",\"Vanuatu\",\"Bangladesh\",\"Burundi\",\"Chad\",\"Colombia\",\"Egypt\",\"Ethiopia\",\"Guinea-Bissau\"],\"name\":\"3\",\"showlegend\":true,\"showscale\":false,\"z\":[1,1,1,1,1,1,1,1,1,1,1,1,1,1,1,1,1,1,1,1,1,1],\"type\":\"choropleth\"},{\"colorscale\":[[0.0,\"#ff0000\"],[1.0,\"#ff0000\"]],\"customdata\":[[\"Level 4: Do Not Travel\",\"June 06, 2024\",4.0,\"4\",\"Burma (Myanmar)\"],[\"Level 4: Do Not Travel\",\"January 13, 2025\",4.0,\"4\",\"Afghanistan\"],[\"Level 4: Do Not Travel\",\"December 18, 2024\",4.0,\"4\",\"Belarus\"],[\"Level 4: Do Not Travel\",\"March 08, 2025\",4.0,\"4\",\"South Sudan\"],[\"Level 4: Do Not Travel\",\"September 18, 2024\",4.0,\"4\",\"Haiti\"],[\"Level 4: Do Not Travel\",\"March 31, 2025\",4.0,\"4\",\"Iran\"],[\"Level 4: Do Not Travel\",\"November 22, 2024\",4.0,\"4\",\"Iraq\"],[\"Level 4: Do Not Travel\",\"July 24, 2023\",4.0,\"4\",\"North Korea (Democratic People's Republic of Korea)\"],[\"Level 4: Do Not Travel\",\"December 27, 2024\",4.0,\"4\",\"Lebanon\"],[\"Level 4: Do Not Travel\",\"August 01, 2024\",4.0,\"4\",\"Libya\"],[\"Level 4: Do Not Travel\",\"July 31, 2023\",4.0,\"4\",\"Mali\"],[\"Level 4: Do Not Travel\",\"June 27, 2024\",4.0,\"4\",\"Russia\"],[\"Level 4: Do Not Travel\",\"July 23, 2024\",4.0,\"4\",\"Somalia\"],[\"Level 4: Do Not Travel\",\"April 22, 2023\",4.0,\"4\",\"Sudan\"],[\"Level 4: Do Not Travel\",\"March 03, 2025\",4.0,\"4\",\"Syria\"],[\"Level 4: Do Not Travel\",\"November 14, 2024\",4.0,\"4\",\"Ukraine\"],[\"Level 4: Do Not Travel\",\"September 24, 2024\",4.0,\"4\",\"Venezuela\"],[\"Level 4: Do Not Travel\",\"March 31, 2025\",4.0,\"4\",\"Yemen\"],[\"Level 4: Do Not Travel\",\"July 31, 2023\",4.0,\"4\",\"Burkina Faso\"],[\"Level 4: Do Not Travel\",\"December 26, 2024\",4.0,\"4\",\"Central African Republic\"],[\"Level 4: Do Not Travel\",\"January 29, 2025\",4.0,\"4\",\"Democratic Republic of the Congo\"]],\"geo\":\"geo\",\"hovertemplate\":\"<b>%{hovertext}</b><br><br>advisory_level=%{customdata[0]}<br>date_updated=%{customdata[1]}<extra></extra>\",\"hovertext\":[\"Burma (Myanmar)\",\"Afghanistan\",\"Belarus\",\"South Sudan\",\"Haiti\",\"Iran\",\"Iraq\",\"North Korea (Democratic People's Republic of Korea)\",\"Lebanon\",\"Libya\",\"Mali\",\"Russia\",\"Somalia\",\"Sudan\",\"Syria\",\"Ukraine\",\"Venezuela\",\"Yemen\",\"Burkina Faso\",\"Central African Republic\",\"Democratic Republic of the Congo\"],\"locationmode\":\"country names\",\"locations\":[\"Burma (Myanmar)\",\"Afghanistan\",\"Belarus\",\"South Sudan\",\"Haiti\",\"Iran\",\"Iraq\",\"North Korea (Democratic People's Republic of Korea)\",\"Lebanon\",\"Libya\",\"Mali\",\"Russia\",\"Somalia\",\"Sudan\",\"Syria\",\"Ukraine\",\"Venezuela\",\"Yemen\",\"Burkina Faso\",\"Central African Republic\",\"Democratic Republic of the Congo\"],\"name\":\"4\",\"showlegend\":true,\"showscale\":false,\"z\":[1,1,1,1,1,1,1,1,1,1,1,1,1,1,1,1,1,1,1,1,1],\"type\":\"choropleth\"}],                        {\"template\":{\"data\":{\"histogram2dcontour\":[{\"type\":\"histogram2dcontour\",\"colorbar\":{\"outlinewidth\":0,\"ticks\":\"\"},\"colorscale\":[[0.0,\"#0d0887\"],[0.1111111111111111,\"#46039f\"],[0.2222222222222222,\"#7201a8\"],[0.3333333333333333,\"#9c179e\"],[0.4444444444444444,\"#bd3786\"],[0.5555555555555556,\"#d8576b\"],[0.6666666666666666,\"#ed7953\"],[0.7777777777777778,\"#fb9f3a\"],[0.8888888888888888,\"#fdca26\"],[1.0,\"#f0f921\"]]}],\"choropleth\":[{\"type\":\"choropleth\",\"colorbar\":{\"outlinewidth\":0,\"ticks\":\"\"}}],\"histogram2d\":[{\"type\":\"histogram2d\",\"colorbar\":{\"outlinewidth\":0,\"ticks\":\"\"},\"colorscale\":[[0.0,\"#0d0887\"],[0.1111111111111111,\"#46039f\"],[0.2222222222222222,\"#7201a8\"],[0.3333333333333333,\"#9c179e\"],[0.4444444444444444,\"#bd3786\"],[0.5555555555555556,\"#d8576b\"],[0.6666666666666666,\"#ed7953\"],[0.7777777777777778,\"#fb9f3a\"],[0.8888888888888888,\"#fdca26\"],[1.0,\"#f0f921\"]]}],\"heatmap\":[{\"type\":\"heatmap\",\"colorbar\":{\"outlinewidth\":0,\"ticks\":\"\"},\"colorscale\":[[0.0,\"#0d0887\"],[0.1111111111111111,\"#46039f\"],[0.2222222222222222,\"#7201a8\"],[0.3333333333333333,\"#9c179e\"],[0.4444444444444444,\"#bd3786\"],[0.5555555555555556,\"#d8576b\"],[0.6666666666666666,\"#ed7953\"],[0.7777777777777778,\"#fb9f3a\"],[0.8888888888888888,\"#fdca26\"],[1.0,\"#f0f921\"]]}],\"heatmapgl\":[{\"type\":\"heatmapgl\",\"colorbar\":{\"outlinewidth\":0,\"ticks\":\"\"},\"colorscale\":[[0.0,\"#0d0887\"],[0.1111111111111111,\"#46039f\"],[0.2222222222222222,\"#7201a8\"],[0.3333333333333333,\"#9c179e\"],[0.4444444444444444,\"#bd3786\"],[0.5555555555555556,\"#d8576b\"],[0.6666666666666666,\"#ed7953\"],[0.7777777777777778,\"#fb9f3a\"],[0.8888888888888888,\"#fdca26\"],[1.0,\"#f0f921\"]]}],\"contourcarpet\":[{\"type\":\"contourcarpet\",\"colorbar\":{\"outlinewidth\":0,\"ticks\":\"\"}}],\"contour\":[{\"type\":\"contour\",\"colorbar\":{\"outlinewidth\":0,\"ticks\":\"\"},\"colorscale\":[[0.0,\"#0d0887\"],[0.1111111111111111,\"#46039f\"],[0.2222222222222222,\"#7201a8\"],[0.3333333333333333,\"#9c179e\"],[0.4444444444444444,\"#bd3786\"],[0.5555555555555556,\"#d8576b\"],[0.6666666666666666,\"#ed7953\"],[0.7777777777777778,\"#fb9f3a\"],[0.8888888888888888,\"#fdca26\"],[1.0,\"#f0f921\"]]}],\"surface\":[{\"type\":\"surface\",\"colorbar\":{\"outlinewidth\":0,\"ticks\":\"\"},\"colorscale\":[[0.0,\"#0d0887\"],[0.1111111111111111,\"#46039f\"],[0.2222222222222222,\"#7201a8\"],[0.3333333333333333,\"#9c179e\"],[0.4444444444444444,\"#bd3786\"],[0.5555555555555556,\"#d8576b\"],[0.6666666666666666,\"#ed7953\"],[0.7777777777777778,\"#fb9f3a\"],[0.8888888888888888,\"#fdca26\"],[1.0,\"#f0f921\"]]}],\"mesh3d\":[{\"type\":\"mesh3d\",\"colorbar\":{\"outlinewidth\":0,\"ticks\":\"\"}}],\"scatter\":[{\"fillpattern\":{\"fillmode\":\"overlay\",\"size\":10,\"solidity\":0.2},\"type\":\"scatter\"}],\"parcoords\":[{\"type\":\"parcoords\",\"line\":{\"colorbar\":{\"outlinewidth\":0,\"ticks\":\"\"}}}],\"scatterpolargl\":[{\"type\":\"scatterpolargl\",\"marker\":{\"colorbar\":{\"outlinewidth\":0,\"ticks\":\"\"}}}],\"bar\":[{\"error_x\":{\"color\":\"#2a3f5f\"},\"error_y\":{\"color\":\"#2a3f5f\"},\"marker\":{\"line\":{\"color\":\"#E5ECF6\",\"width\":0.5},\"pattern\":{\"fillmode\":\"overlay\",\"size\":10,\"solidity\":0.2}},\"type\":\"bar\"}],\"scattergeo\":[{\"type\":\"scattergeo\",\"marker\":{\"colorbar\":{\"outlinewidth\":0,\"ticks\":\"\"}}}],\"scatterpolar\":[{\"type\":\"scatterpolar\",\"marker\":{\"colorbar\":{\"outlinewidth\":0,\"ticks\":\"\"}}}],\"histogram\":[{\"marker\":{\"pattern\":{\"fillmode\":\"overlay\",\"size\":10,\"solidity\":0.2}},\"type\":\"histogram\"}],\"scattergl\":[{\"type\":\"scattergl\",\"marker\":{\"colorbar\":{\"outlinewidth\":0,\"ticks\":\"\"}}}],\"scatter3d\":[{\"type\":\"scatter3d\",\"line\":{\"colorbar\":{\"outlinewidth\":0,\"ticks\":\"\"}},\"marker\":{\"colorbar\":{\"outlinewidth\":0,\"ticks\":\"\"}}}],\"scattermapbox\":[{\"type\":\"scattermapbox\",\"marker\":{\"colorbar\":{\"outlinewidth\":0,\"ticks\":\"\"}}}],\"scatterternary\":[{\"type\":\"scatterternary\",\"marker\":{\"colorbar\":{\"outlinewidth\":0,\"ticks\":\"\"}}}],\"scattercarpet\":[{\"type\":\"scattercarpet\",\"marker\":{\"colorbar\":{\"outlinewidth\":0,\"ticks\":\"\"}}}],\"carpet\":[{\"aaxis\":{\"endlinecolor\":\"#2a3f5f\",\"gridcolor\":\"white\",\"linecolor\":\"white\",\"minorgridcolor\":\"white\",\"startlinecolor\":\"#2a3f5f\"},\"baxis\":{\"endlinecolor\":\"#2a3f5f\",\"gridcolor\":\"white\",\"linecolor\":\"white\",\"minorgridcolor\":\"white\",\"startlinecolor\":\"#2a3f5f\"},\"type\":\"carpet\"}],\"table\":[{\"cells\":{\"fill\":{\"color\":\"#EBF0F8\"},\"line\":{\"color\":\"white\"}},\"header\":{\"fill\":{\"color\":\"#C8D4E3\"},\"line\":{\"color\":\"white\"}},\"type\":\"table\"}],\"barpolar\":[{\"marker\":{\"line\":{\"color\":\"#E5ECF6\",\"width\":0.5},\"pattern\":{\"fillmode\":\"overlay\",\"size\":10,\"solidity\":0.2}},\"type\":\"barpolar\"}],\"pie\":[{\"automargin\":true,\"type\":\"pie\"}]},\"layout\":{\"autotypenumbers\":\"strict\",\"colorway\":[\"#636efa\",\"#EF553B\",\"#00cc96\",\"#ab63fa\",\"#FFA15A\",\"#19d3f3\",\"#FF6692\",\"#B6E880\",\"#FF97FF\",\"#FECB52\"],\"font\":{\"color\":\"#2a3f5f\"},\"hovermode\":\"closest\",\"hoverlabel\":{\"align\":\"left\"},\"paper_bgcolor\":\"white\",\"plot_bgcolor\":\"#E5ECF6\",\"polar\":{\"bgcolor\":\"#E5ECF6\",\"angularaxis\":{\"gridcolor\":\"white\",\"linecolor\":\"white\",\"ticks\":\"\"},\"radialaxis\":{\"gridcolor\":\"white\",\"linecolor\":\"white\",\"ticks\":\"\"}},\"ternary\":{\"bgcolor\":\"#E5ECF6\",\"aaxis\":{\"gridcolor\":\"white\",\"linecolor\":\"white\",\"ticks\":\"\"},\"baxis\":{\"gridcolor\":\"white\",\"linecolor\":\"white\",\"ticks\":\"\"},\"caxis\":{\"gridcolor\":\"white\",\"linecolor\":\"white\",\"ticks\":\"\"}},\"coloraxis\":{\"colorbar\":{\"outlinewidth\":0,\"ticks\":\"\"}},\"colorscale\":{\"sequential\":[[0.0,\"#0d0887\"],[0.1111111111111111,\"#46039f\"],[0.2222222222222222,\"#7201a8\"],[0.3333333333333333,\"#9c179e\"],[0.4444444444444444,\"#bd3786\"],[0.5555555555555556,\"#d8576b\"],[0.6666666666666666,\"#ed7953\"],[0.7777777777777778,\"#fb9f3a\"],[0.8888888888888888,\"#fdca26\"],[1.0,\"#f0f921\"]],\"sequentialminus\":[[0.0,\"#0d0887\"],[0.1111111111111111,\"#46039f\"],[0.2222222222222222,\"#7201a8\"],[0.3333333333333333,\"#9c179e\"],[0.4444444444444444,\"#bd3786\"],[0.5555555555555556,\"#d8576b\"],[0.6666666666666666,\"#ed7953\"],[0.7777777777777778,\"#fb9f3a\"],[0.8888888888888888,\"#fdca26\"],[1.0,\"#f0f921\"]],\"diverging\":[[0,\"#8e0152\"],[0.1,\"#c51b7d\"],[0.2,\"#de77ae\"],[0.3,\"#f1b6da\"],[0.4,\"#fde0ef\"],[0.5,\"#f7f7f7\"],[0.6,\"#e6f5d0\"],[0.7,\"#b8e186\"],[0.8,\"#7fbc41\"],[0.9,\"#4d9221\"],[1,\"#276419\"]]},\"xaxis\":{\"gridcolor\":\"white\",\"linecolor\":\"white\",\"ticks\":\"\",\"title\":{\"standoff\":15},\"zerolinecolor\":\"white\",\"automargin\":true,\"zerolinewidth\":2},\"yaxis\":{\"gridcolor\":\"white\",\"linecolor\":\"white\",\"ticks\":\"\",\"title\":{\"standoff\":15},\"zerolinecolor\":\"white\",\"automargin\":true,\"zerolinewidth\":2},\"scene\":{\"xaxis\":{\"backgroundcolor\":\"#E5ECF6\",\"gridcolor\":\"white\",\"linecolor\":\"white\",\"showbackground\":true,\"ticks\":\"\",\"zerolinecolor\":\"white\",\"gridwidth\":2},\"yaxis\":{\"backgroundcolor\":\"#E5ECF6\",\"gridcolor\":\"white\",\"linecolor\":\"white\",\"showbackground\":true,\"ticks\":\"\",\"zerolinecolor\":\"white\",\"gridwidth\":2},\"zaxis\":{\"backgroundcolor\":\"#E5ECF6\",\"gridcolor\":\"white\",\"linecolor\":\"white\",\"showbackground\":true,\"ticks\":\"\",\"zerolinecolor\":\"white\",\"gridwidth\":2}},\"shapedefaults\":{\"line\":{\"color\":\"#2a3f5f\"}},\"annotationdefaults\":{\"arrowcolor\":\"#2a3f5f\",\"arrowhead\":0,\"arrowwidth\":1},\"geo\":{\"bgcolor\":\"white\",\"landcolor\":\"#E5ECF6\",\"subunitcolor\":\"white\",\"showland\":true,\"showlakes\":true,\"lakecolor\":\"white\"},\"title\":{\"x\":0.05},\"mapbox\":{\"style\":\"light\"}}},\"geo\":{\"domain\":{\"x\":[0.0,1.0],\"y\":[0.0,1.0]},\"center\":{},\"projection\":{\"type\":\"natural earth\"},\"showframe\":false,\"showcoastlines\":true},\"legend\":{\"title\":{\"text\":\"Travel Advisory Level\"},\"tracegroupgap\":0},\"title\":{\"text\":\"U.S.-Issued Travel Advisory Levels by Country (2023–2025)\"},\"width\":1400,\"height\":750},                        {\"responsive\": true}                    ).then(function(){\n",
       "                            \n",
       "var gd = document.getElementById('f7f08638-a787-45ce-b99c-c595e2898a2d');\n",
       "var x = new MutationObserver(function (mutations, observer) {{\n",
       "        var display = window.getComputedStyle(gd).display;\n",
       "        if (!display || display === 'none') {{\n",
       "            console.log([gd, 'removed!']);\n",
       "            Plotly.purge(gd);\n",
       "            observer.disconnect();\n",
       "        }}\n",
       "}});\n",
       "\n",
       "// Listen for the removal of the full notebook cells\n",
       "var notebookContainer = gd.closest('#notebook-container');\n",
       "if (notebookContainer) {{\n",
       "    x.observe(notebookContainer, {childList: true});\n",
       "}}\n",
       "\n",
       "// Listen for the clearing of the current output cell\n",
       "var outputEl = gd.closest('.output');\n",
       "if (outputEl) {{\n",
       "    x.observe(outputEl, {childList: true});\n",
       "}}\n",
       "\n",
       "                        })                };                });            </script>        </div>"
      ]
     },
     "metadata": {},
     "output_type": "display_data"
    }
   ],
   "source": [
    "\n",
    "\n",
    "# Define color map\n",
    "color_map = {\n",
    "    \"1\": \"#9be7c4\",  # Green\n",
    "    \"2\": \"#ffe082\",  # Yellow\n",
    "    \"3\": \"#ffa600\",  # Orange\n",
    "    \"4\": \"#ff0000\",  # Red\n",
    "}\n",
    "\n",
    "\n",
    "fig = px.choropleth(\n",
    "    df,\n",
    "    locations=\"country\",\n",
    "    locationmode=\"country names\",\n",
    "    color=\"advisory_level_str\",\n",
    "    hover_name=\"country\",\n",
    "    hover_data={\n",
    "        \"advisory_level\": True,\n",
    "        \"date_updated\": True,\n",
    "        \"advisory_level_number\": False,  \n",
    "        \"advisory_level_str\": False,     \n",
    "        \"country\": False                \n",
    "    },\n",
    "    color_discrete_map=color_map,\n",
    "    category_orders={\"advisory_level_str\": ordered_levels},\n",
    "    title=\"U.S.-Issued Travel Advisory Levels by Country (2023–2025)\"\n",
    ")\n",
    "\n",
    "# Customize layout\n",
    "fig.update_layout(\n",
    "    width=1400,\n",
    "    height=750,\n",
    "    geo=dict(showframe=False, showcoastlines=True, projection_type='natural earth'),\n",
    "    legend_title_text=\"Travel Advisory Level\"\n",
    ")\n",
    "\n",
    "# Export\n",
    "fig.write_html(\n",
    "    \"../../img/globalmap.html\",\n",
    "    full_html=True,\n",
    "    include_plotlyjs=\"cdn\",\n",
    "    config={\"responsive\": True}\n",
    ")\n",
    "fig.show()"
   ]
  },
  {
   "cell_type": "code",
   "execution_count": null,
   "metadata": {},
   "outputs": [],
   "source": []
  },
  {
   "cell_type": "code",
   "execution_count": null,
   "metadata": {},
   "outputs": [],
   "source": []
  },
  {
   "cell_type": "code",
   "execution_count": null,
   "metadata": {},
   "outputs": [],
   "source": []
  },
  {
   "cell_type": "code",
   "execution_count": 43,
   "metadata": {},
   "outputs": [
    {
     "name": "stderr",
     "output_type": "stream",
     "text": [
      "/var/folders/86/5f040sy516q4gjdt2zq5d7ph0000gn/T/ipykernel_21023/1618965389.py:65: SettingWithCopyWarning:\n",
      "\n",
      "\n",
      "A value is trying to be set on a copy of a slice from a DataFrame.\n",
      "Try using .loc[row_indexer,col_indexer] = value instead\n",
      "\n",
      "See the caveats in the documentation: https://pandas.pydata.org/pandas-docs/stable/user_guide/indexing.html#returning-a-view-versus-a-copy\n",
      "\n"
     ]
    },
    {
     "data": {
      "application/vnd.plotly.v1+json": {
       "config": {
        "plotlyServerURL": "https://plot.ly"
       },
       "data": [
        {
         "colorscale": [
          [
           0,
           "#ffcccc"
          ],
          [
           1,
           "#ffcccc"
          ]
         ],
         "geo": "geo",
         "hovertemplate": "<b>%{hovertext}</b><br><br>country=%{location}<extra></extra>",
         "hovertext": [
          "afghanistan",
          "belarus",
          "south sudan",
          "haiti",
          "iran",
          "iraq",
          "lebanon",
          "libya",
          "mali",
          "russia",
          "somalia",
          "sudan",
          "syria",
          "ukraine",
          "venezuela",
          "yemen",
          "burkina faso",
          "central african republic",
          "democratic republic of the congo"
         ],
         "locationmode": "country names",
         "locations": [
          "afghanistan",
          "belarus",
          "south sudan",
          "haiti",
          "iran",
          "iraq",
          "lebanon",
          "libya",
          "mali",
          "russia",
          "somalia",
          "sudan",
          "syria",
          "ukraine",
          "venezuela",
          "yemen",
          "burkina faso",
          "central african republic",
          "democratic republic of the congo"
         ],
         "name": "",
         "showlegend": true,
         "showscale": false,
         "type": "choropleth",
         "z": [
          1,
          1,
          1,
          1,
          1,
          1,
          1,
          1,
          1,
          1,
          1,
          1,
          1,
          1,
          1,
          1,
          1,
          1,
          1
         ]
        },
        {
         "lat": [
          1.5,
          15,
          30,
          52
         ],
         "lon": [
          20,
          -75,
          95,
          15
         ],
         "marker": {
          "color": [
           "black",
           "#d62728",
           "black",
           "black"
          ],
          "line": {
           "color": "black",
           "width": 1
          },
          "size": [
           12.625,
           152.5,
           79.66666666666667,
           35
          ],
          "symbol": "circle"
         },
         "mode": "markers+text",
         "showlegend": false,
         "text": [
          "Africa<br>Avg Deaths: 2.6<br>Level 4 Countries: 8",
          "Americas<br>Avg Deaths: 142.5<br>Level 4 Countries: 2",
          "Asia<br>Avg Deaths: 69.7<br>Level 4 Countries: 6",
          "Europe<br>Avg Deaths: 25.0<br>Level 4 Countries: 3"
         ],
         "textposition": "top center",
         "type": "scattergeo"
        }
       ],
       "layout": {
        "geo": {
         "bgcolor": "white",
         "center": {
          "lat": -32.1315798640428,
          "lon": 18.72798115273534
         },
         "domain": {
          "x": [
           0,
           1
          ],
          "y": [
           0,
           1
          ]
         },
         "projection": {
          "rotation": {
           "lon": 18.72798115273534
          },
          "scale": 0.8080407772457802,
          "type": "natural earth"
         },
         "showcoastlines": true,
         "showframe": false
        },
        "height": 850,
        "legend": {
         "tracegroupgap": 0
        },
        "margin": {
         "b": 20,
         "l": 20,
         "r": 20,
         "t": 60
        },
        "template": {
         "data": {
          "bar": [
           {
            "error_x": {
             "color": "#2a3f5f"
            },
            "error_y": {
             "color": "#2a3f5f"
            },
            "marker": {
             "line": {
              "color": "#E5ECF6",
              "width": 0.5
             },
             "pattern": {
              "fillmode": "overlay",
              "size": 10,
              "solidity": 0.2
             }
            },
            "type": "bar"
           }
          ],
          "barpolar": [
           {
            "marker": {
             "line": {
              "color": "#E5ECF6",
              "width": 0.5
             },
             "pattern": {
              "fillmode": "overlay",
              "size": 10,
              "solidity": 0.2
             }
            },
            "type": "barpolar"
           }
          ],
          "carpet": [
           {
            "aaxis": {
             "endlinecolor": "#2a3f5f",
             "gridcolor": "white",
             "linecolor": "white",
             "minorgridcolor": "white",
             "startlinecolor": "#2a3f5f"
            },
            "baxis": {
             "endlinecolor": "#2a3f5f",
             "gridcolor": "white",
             "linecolor": "white",
             "minorgridcolor": "white",
             "startlinecolor": "#2a3f5f"
            },
            "type": "carpet"
           }
          ],
          "choropleth": [
           {
            "colorbar": {
             "outlinewidth": 0,
             "ticks": ""
            },
            "type": "choropleth"
           }
          ],
          "contour": [
           {
            "colorbar": {
             "outlinewidth": 0,
             "ticks": ""
            },
            "colorscale": [
             [
              0,
              "#0d0887"
             ],
             [
              0.1111111111111111,
              "#46039f"
             ],
             [
              0.2222222222222222,
              "#7201a8"
             ],
             [
              0.3333333333333333,
              "#9c179e"
             ],
             [
              0.4444444444444444,
              "#bd3786"
             ],
             [
              0.5555555555555556,
              "#d8576b"
             ],
             [
              0.6666666666666666,
              "#ed7953"
             ],
             [
              0.7777777777777778,
              "#fb9f3a"
             ],
             [
              0.8888888888888888,
              "#fdca26"
             ],
             [
              1,
              "#f0f921"
             ]
            ],
            "type": "contour"
           }
          ],
          "contourcarpet": [
           {
            "colorbar": {
             "outlinewidth": 0,
             "ticks": ""
            },
            "type": "contourcarpet"
           }
          ],
          "heatmap": [
           {
            "colorbar": {
             "outlinewidth": 0,
             "ticks": ""
            },
            "colorscale": [
             [
              0,
              "#0d0887"
             ],
             [
              0.1111111111111111,
              "#46039f"
             ],
             [
              0.2222222222222222,
              "#7201a8"
             ],
             [
              0.3333333333333333,
              "#9c179e"
             ],
             [
              0.4444444444444444,
              "#bd3786"
             ],
             [
              0.5555555555555556,
              "#d8576b"
             ],
             [
              0.6666666666666666,
              "#ed7953"
             ],
             [
              0.7777777777777778,
              "#fb9f3a"
             ],
             [
              0.8888888888888888,
              "#fdca26"
             ],
             [
              1,
              "#f0f921"
             ]
            ],
            "type": "heatmap"
           }
          ],
          "heatmapgl": [
           {
            "colorbar": {
             "outlinewidth": 0,
             "ticks": ""
            },
            "colorscale": [
             [
              0,
              "#0d0887"
             ],
             [
              0.1111111111111111,
              "#46039f"
             ],
             [
              0.2222222222222222,
              "#7201a8"
             ],
             [
              0.3333333333333333,
              "#9c179e"
             ],
             [
              0.4444444444444444,
              "#bd3786"
             ],
             [
              0.5555555555555556,
              "#d8576b"
             ],
             [
              0.6666666666666666,
              "#ed7953"
             ],
             [
              0.7777777777777778,
              "#fb9f3a"
             ],
             [
              0.8888888888888888,
              "#fdca26"
             ],
             [
              1,
              "#f0f921"
             ]
            ],
            "type": "heatmapgl"
           }
          ],
          "histogram": [
           {
            "marker": {
             "pattern": {
              "fillmode": "overlay",
              "size": 10,
              "solidity": 0.2
             }
            },
            "type": "histogram"
           }
          ],
          "histogram2d": [
           {
            "colorbar": {
             "outlinewidth": 0,
             "ticks": ""
            },
            "colorscale": [
             [
              0,
              "#0d0887"
             ],
             [
              0.1111111111111111,
              "#46039f"
             ],
             [
              0.2222222222222222,
              "#7201a8"
             ],
             [
              0.3333333333333333,
              "#9c179e"
             ],
             [
              0.4444444444444444,
              "#bd3786"
             ],
             [
              0.5555555555555556,
              "#d8576b"
             ],
             [
              0.6666666666666666,
              "#ed7953"
             ],
             [
              0.7777777777777778,
              "#fb9f3a"
             ],
             [
              0.8888888888888888,
              "#fdca26"
             ],
             [
              1,
              "#f0f921"
             ]
            ],
            "type": "histogram2d"
           }
          ],
          "histogram2dcontour": [
           {
            "colorbar": {
             "outlinewidth": 0,
             "ticks": ""
            },
            "colorscale": [
             [
              0,
              "#0d0887"
             ],
             [
              0.1111111111111111,
              "#46039f"
             ],
             [
              0.2222222222222222,
              "#7201a8"
             ],
             [
              0.3333333333333333,
              "#9c179e"
             ],
             [
              0.4444444444444444,
              "#bd3786"
             ],
             [
              0.5555555555555556,
              "#d8576b"
             ],
             [
              0.6666666666666666,
              "#ed7953"
             ],
             [
              0.7777777777777778,
              "#fb9f3a"
             ],
             [
              0.8888888888888888,
              "#fdca26"
             ],
             [
              1,
              "#f0f921"
             ]
            ],
            "type": "histogram2dcontour"
           }
          ],
          "mesh3d": [
           {
            "colorbar": {
             "outlinewidth": 0,
             "ticks": ""
            },
            "type": "mesh3d"
           }
          ],
          "parcoords": [
           {
            "line": {
             "colorbar": {
              "outlinewidth": 0,
              "ticks": ""
             }
            },
            "type": "parcoords"
           }
          ],
          "pie": [
           {
            "automargin": true,
            "type": "pie"
           }
          ],
          "scatter": [
           {
            "fillpattern": {
             "fillmode": "overlay",
             "size": 10,
             "solidity": 0.2
            },
            "type": "scatter"
           }
          ],
          "scatter3d": [
           {
            "line": {
             "colorbar": {
              "outlinewidth": 0,
              "ticks": ""
             }
            },
            "marker": {
             "colorbar": {
              "outlinewidth": 0,
              "ticks": ""
             }
            },
            "type": "scatter3d"
           }
          ],
          "scattercarpet": [
           {
            "marker": {
             "colorbar": {
              "outlinewidth": 0,
              "ticks": ""
             }
            },
            "type": "scattercarpet"
           }
          ],
          "scattergeo": [
           {
            "marker": {
             "colorbar": {
              "outlinewidth": 0,
              "ticks": ""
             }
            },
            "type": "scattergeo"
           }
          ],
          "scattergl": [
           {
            "marker": {
             "colorbar": {
              "outlinewidth": 0,
              "ticks": ""
             }
            },
            "type": "scattergl"
           }
          ],
          "scattermapbox": [
           {
            "marker": {
             "colorbar": {
              "outlinewidth": 0,
              "ticks": ""
             }
            },
            "type": "scattermapbox"
           }
          ],
          "scatterpolar": [
           {
            "marker": {
             "colorbar": {
              "outlinewidth": 0,
              "ticks": ""
             }
            },
            "type": "scatterpolar"
           }
          ],
          "scatterpolargl": [
           {
            "marker": {
             "colorbar": {
              "outlinewidth": 0,
              "ticks": ""
             }
            },
            "type": "scatterpolargl"
           }
          ],
          "scatterternary": [
           {
            "marker": {
             "colorbar": {
              "outlinewidth": 0,
              "ticks": ""
             }
            },
            "type": "scatterternary"
           }
          ],
          "surface": [
           {
            "colorbar": {
             "outlinewidth": 0,
             "ticks": ""
            },
            "colorscale": [
             [
              0,
              "#0d0887"
             ],
             [
              0.1111111111111111,
              "#46039f"
             ],
             [
              0.2222222222222222,
              "#7201a8"
             ],
             [
              0.3333333333333333,
              "#9c179e"
             ],
             [
              0.4444444444444444,
              "#bd3786"
             ],
             [
              0.5555555555555556,
              "#d8576b"
             ],
             [
              0.6666666666666666,
              "#ed7953"
             ],
             [
              0.7777777777777778,
              "#fb9f3a"
             ],
             [
              0.8888888888888888,
              "#fdca26"
             ],
             [
              1,
              "#f0f921"
             ]
            ],
            "type": "surface"
           }
          ],
          "table": [
           {
            "cells": {
             "fill": {
              "color": "#EBF0F8"
             },
             "line": {
              "color": "white"
             }
            },
            "header": {
             "fill": {
              "color": "#C8D4E3"
             },
             "line": {
              "color": "white"
             }
            },
            "type": "table"
           }
          ]
         },
         "layout": {
          "annotationdefaults": {
           "arrowcolor": "#2a3f5f",
           "arrowhead": 0,
           "arrowwidth": 1
          },
          "autotypenumbers": "strict",
          "coloraxis": {
           "colorbar": {
            "outlinewidth": 0,
            "ticks": ""
           }
          },
          "colorscale": {
           "diverging": [
            [
             0,
             "#8e0152"
            ],
            [
             0.1,
             "#c51b7d"
            ],
            [
             0.2,
             "#de77ae"
            ],
            [
             0.3,
             "#f1b6da"
            ],
            [
             0.4,
             "#fde0ef"
            ],
            [
             0.5,
             "#f7f7f7"
            ],
            [
             0.6,
             "#e6f5d0"
            ],
            [
             0.7,
             "#b8e186"
            ],
            [
             0.8,
             "#7fbc41"
            ],
            [
             0.9,
             "#4d9221"
            ],
            [
             1,
             "#276419"
            ]
           ],
           "sequential": [
            [
             0,
             "#0d0887"
            ],
            [
             0.1111111111111111,
             "#46039f"
            ],
            [
             0.2222222222222222,
             "#7201a8"
            ],
            [
             0.3333333333333333,
             "#9c179e"
            ],
            [
             0.4444444444444444,
             "#bd3786"
            ],
            [
             0.5555555555555556,
             "#d8576b"
            ],
            [
             0.6666666666666666,
             "#ed7953"
            ],
            [
             0.7777777777777778,
             "#fb9f3a"
            ],
            [
             0.8888888888888888,
             "#fdca26"
            ],
            [
             1,
             "#f0f921"
            ]
           ],
           "sequentialminus": [
            [
             0,
             "#0d0887"
            ],
            [
             0.1111111111111111,
             "#46039f"
            ],
            [
             0.2222222222222222,
             "#7201a8"
            ],
            [
             0.3333333333333333,
             "#9c179e"
            ],
            [
             0.4444444444444444,
             "#bd3786"
            ],
            [
             0.5555555555555556,
             "#d8576b"
            ],
            [
             0.6666666666666666,
             "#ed7953"
            ],
            [
             0.7777777777777778,
             "#fb9f3a"
            ],
            [
             0.8888888888888888,
             "#fdca26"
            ],
            [
             1,
             "#f0f921"
            ]
           ]
          },
          "colorway": [
           "#636efa",
           "#EF553B",
           "#00cc96",
           "#ab63fa",
           "#FFA15A",
           "#19d3f3",
           "#FF6692",
           "#B6E880",
           "#FF97FF",
           "#FECB52"
          ],
          "font": {
           "color": "#2a3f5f"
          },
          "geo": {
           "bgcolor": "white",
           "lakecolor": "white",
           "landcolor": "#E5ECF6",
           "showlakes": true,
           "showland": true,
           "subunitcolor": "white"
          },
          "hoverlabel": {
           "align": "left"
          },
          "hovermode": "closest",
          "mapbox": {
           "style": "light"
          },
          "paper_bgcolor": "white",
          "plot_bgcolor": "#E5ECF6",
          "polar": {
           "angularaxis": {
            "gridcolor": "white",
            "linecolor": "white",
            "ticks": ""
           },
           "bgcolor": "#E5ECF6",
           "radialaxis": {
            "gridcolor": "white",
            "linecolor": "white",
            "ticks": ""
           }
          },
          "scene": {
           "xaxis": {
            "backgroundcolor": "#E5ECF6",
            "gridcolor": "white",
            "gridwidth": 2,
            "linecolor": "white",
            "showbackground": true,
            "ticks": "",
            "zerolinecolor": "white"
           },
           "yaxis": {
            "backgroundcolor": "#E5ECF6",
            "gridcolor": "white",
            "gridwidth": 2,
            "linecolor": "white",
            "showbackground": true,
            "ticks": "",
            "zerolinecolor": "white"
           },
           "zaxis": {
            "backgroundcolor": "#E5ECF6",
            "gridcolor": "white",
            "gridwidth": 2,
            "linecolor": "white",
            "showbackground": true,
            "ticks": "",
            "zerolinecolor": "white"
           }
          },
          "shapedefaults": {
           "line": {
            "color": "#2a3f5f"
           }
          },
          "ternary": {
           "aaxis": {
            "gridcolor": "white",
            "linecolor": "white",
            "ticks": ""
           },
           "baxis": {
            "gridcolor": "white",
            "linecolor": "white",
            "ticks": ""
           },
           "bgcolor": "#E5ECF6",
           "caxis": {
            "gridcolor": "white",
            "linecolor": "white",
            "ticks": ""
           }
          },
          "title": {
           "x": 0.05
          },
          "xaxis": {
           "automargin": true,
           "gridcolor": "white",
           "linecolor": "white",
           "ticks": "",
           "title": {
            "standoff": 15
           },
           "zerolinecolor": "white",
           "zerolinewidth": 2
          },
          "yaxis": {
           "automargin": true,
           "gridcolor": "white",
           "linecolor": "white",
           "ticks": "",
           "title": {
            "standoff": 15
           },
           "zerolinecolor": "white",
           "zerolinewidth": 2
          }
         }
        },
        "title": {
         "text": "Level 4 Travel Warnings: Average US Citizen Deaths per Region"
        },
        "width": 1400
       }
      },
      "image/png": "[encoded data removed]",
      "text/html": [
       "<div>                            <div id=\"50e37156-9851-4e0a-b741-70da0579e348\" class=\"plotly-graph-div\" style=\"height:850px; width:1400px;\"></div>            <script type=\"text/javascript\">                require([\"plotly\"], function(Plotly) {                    window.PLOTLYENV=window.PLOTLYENV || {};                                    if (document.getElementById(\"50e37156-9851-4e0a-b741-70da0579e348\")) {                    Plotly.newPlot(                        \"50e37156-9851-4e0a-b741-70da0579e348\",                        [{\"colorscale\":[[0.0,\"#ffcccc\"],[1.0,\"#ffcccc\"]],\"geo\":\"geo\",\"hovertemplate\":\"<b>%{hovertext}</b><br><br>country=%{location}<extra></extra>\",\"hovertext\":[\"afghanistan\",\"belarus\",\"south sudan\",\"haiti\",\"iran\",\"iraq\",\"lebanon\",\"libya\",\"mali\",\"russia\",\"somalia\",\"sudan\",\"syria\",\"ukraine\",\"venezuela\",\"yemen\",\"burkina faso\",\"central african republic\",\"democratic republic of the congo\"],\"locationmode\":\"country names\",\"locations\":[\"afghanistan\",\"belarus\",\"south sudan\",\"haiti\",\"iran\",\"iraq\",\"lebanon\",\"libya\",\"mali\",\"russia\",\"somalia\",\"sudan\",\"syria\",\"ukraine\",\"venezuela\",\"yemen\",\"burkina faso\",\"central african republic\",\"democratic republic of the congo\"],\"name\":\"\",\"showlegend\":true,\"showscale\":false,\"z\":[1,1,1,1,1,1,1,1,1,1,1,1,1,1,1,1,1,1,1],\"type\":\"choropleth\"},{\"lat\":[1.5,15,30,52],\"lon\":[20,-75,95,15],\"marker\":{\"color\":[\"black\",\"#d62728\",\"black\",\"black\"],\"line\":{\"color\":\"black\",\"width\":1},\"size\":[12.625,152.5,79.66666666666667,35.0],\"symbol\":\"circle\"},\"mode\":\"markers+text\",\"showlegend\":false,\"text\":[\"Africa<br>Avg Deaths: 2.6<br>Level 4 Countries: 8\",\"Americas<br>Avg Deaths: 142.5<br>Level 4 Countries: 2\",\"Asia<br>Avg Deaths: 69.7<br>Level 4 Countries: 6\",\"Europe<br>Avg Deaths: 25.0<br>Level 4 Countries: 3\"],\"textposition\":\"top center\",\"type\":\"scattergeo\"}],                        {\"template\":{\"data\":{\"histogram2dcontour\":[{\"type\":\"histogram2dcontour\",\"colorbar\":{\"outlinewidth\":0,\"ticks\":\"\"},\"colorscale\":[[0.0,\"#0d0887\"],[0.1111111111111111,\"#46039f\"],[0.2222222222222222,\"#7201a8\"],[0.3333333333333333,\"#9c179e\"],[0.4444444444444444,\"#bd3786\"],[0.5555555555555556,\"#d8576b\"],[0.6666666666666666,\"#ed7953\"],[0.7777777777777778,\"#fb9f3a\"],[0.8888888888888888,\"#fdca26\"],[1.0,\"#f0f921\"]]}],\"choropleth\":[{\"type\":\"choropleth\",\"colorbar\":{\"outlinewidth\":0,\"ticks\":\"\"}}],\"histogram2d\":[{\"type\":\"histogram2d\",\"colorbar\":{\"outlinewidth\":0,\"ticks\":\"\"},\"colorscale\":[[0.0,\"#0d0887\"],[0.1111111111111111,\"#46039f\"],[0.2222222222222222,\"#7201a8\"],[0.3333333333333333,\"#9c179e\"],[0.4444444444444444,\"#bd3786\"],[0.5555555555555556,\"#d8576b\"],[0.6666666666666666,\"#ed7953\"],[0.7777777777777778,\"#fb9f3a\"],[0.8888888888888888,\"#fdca26\"],[1.0,\"#f0f921\"]]}],\"heatmap\":[{\"type\":\"heatmap\",\"colorbar\":{\"outlinewidth\":0,\"ticks\":\"\"},\"colorscale\":[[0.0,\"#0d0887\"],[0.1111111111111111,\"#46039f\"],[0.2222222222222222,\"#7201a8\"],[0.3333333333333333,\"#9c179e\"],[0.4444444444444444,\"#bd3786\"],[0.5555555555555556,\"#d8576b\"],[0.6666666666666666,\"#ed7953\"],[0.7777777777777778,\"#fb9f3a\"],[0.8888888888888888,\"#fdca26\"],[1.0,\"#f0f921\"]]}],\"heatmapgl\":[{\"type\":\"heatmapgl\",\"colorbar\":{\"outlinewidth\":0,\"ticks\":\"\"},\"colorscale\":[[0.0,\"#0d0887\"],[0.1111111111111111,\"#46039f\"],[0.2222222222222222,\"#7201a8\"],[0.3333333333333333,\"#9c179e\"],[0.4444444444444444,\"#bd3786\"],[0.5555555555555556,\"#d8576b\"],[0.6666666666666666,\"#ed7953\"],[0.7777777777777778,\"#fb9f3a\"],[0.8888888888888888,\"#fdca26\"],[1.0,\"#f0f921\"]]}],\"contourcarpet\":[{\"type\":\"contourcarpet\",\"colorbar\":{\"outlinewidth\":0,\"ticks\":\"\"}}],\"contour\":[{\"type\":\"contour\",\"colorbar\":{\"outlinewidth\":0,\"ticks\":\"\"},\"colorscale\":[[0.0,\"#0d0887\"],[0.1111111111111111,\"#46039f\"],[0.2222222222222222,\"#7201a8\"],[0.3333333333333333,\"#9c179e\"],[0.4444444444444444,\"#bd3786\"],[0.5555555555555556,\"#d8576b\"],[0.6666666666666666,\"#ed7953\"],[0.7777777777777778,\"#fb9f3a\"],[0.8888888888888888,\"#fdca26\"],[1.0,\"#f0f921\"]]}],\"surface\":[{\"type\":\"surface\",\"colorbar\":{\"outlinewidth\":0,\"ticks\":\"\"},\"colorscale\":[[0.0,\"#0d0887\"],[0.1111111111111111,\"#46039f\"],[0.2222222222222222,\"#7201a8\"],[0.3333333333333333,\"#9c179e\"],[0.4444444444444444,\"#bd3786\"],[0.5555555555555556,\"#d8576b\"],[0.6666666666666666,\"#ed7953\"],[0.7777777777777778,\"#fb9f3a\"],[0.8888888888888888,\"#fdca26\"],[1.0,\"#f0f921\"]]}],\"mesh3d\":[{\"type\":\"mesh3d\",\"colorbar\":{\"outlinewidth\":0,\"ticks\":\"\"}}],\"scatter\":[{\"fillpattern\":{\"fillmode\":\"overlay\",\"size\":10,\"solidity\":0.2},\"type\":\"scatter\"}],\"parcoords\":[{\"type\":\"parcoords\",\"line\":{\"colorbar\":{\"outlinewidth\":0,\"ticks\":\"\"}}}],\"scatterpolargl\":[{\"type\":\"scatterpolargl\",\"marker\":{\"colorbar\":{\"outlinewidth\":0,\"ticks\":\"\"}}}],\"bar\":[{\"error_x\":{\"color\":\"#2a3f5f\"},\"error_y\":{\"color\":\"#2a3f5f\"},\"marker\":{\"line\":{\"color\":\"#E5ECF6\",\"width\":0.5},\"pattern\":{\"fillmode\":\"overlay\",\"size\":10,\"solidity\":0.2}},\"type\":\"bar\"}],\"scattergeo\":[{\"type\":\"scattergeo\",\"marker\":{\"colorbar\":{\"outlinewidth\":0,\"ticks\":\"\"}}}],\"scatterpolar\":[{\"type\":\"scatterpolar\",\"marker\":{\"colorbar\":{\"outlinewidth\":0,\"ticks\":\"\"}}}],\"histogram\":[{\"marker\":{\"pattern\":{\"fillmode\":\"overlay\",\"size\":10,\"solidity\":0.2}},\"type\":\"histogram\"}],\"scattergl\":[{\"type\":\"scattergl\",\"marker\":{\"colorbar\":{\"outlinewidth\":0,\"ticks\":\"\"}}}],\"scatter3d\":[{\"type\":\"scatter3d\",\"line\":{\"colorbar\":{\"outlinewidth\":0,\"ticks\":\"\"}},\"marker\":{\"colorbar\":{\"outlinewidth\":0,\"ticks\":\"\"}}}],\"scattermapbox\":[{\"type\":\"scattermapbox\",\"marker\":{\"colorbar\":{\"outlinewidth\":0,\"ticks\":\"\"}}}],\"scatterternary\":[{\"type\":\"scatterternary\",\"marker\":{\"colorbar\":{\"outlinewidth\":0,\"ticks\":\"\"}}}],\"scattercarpet\":[{\"type\":\"scattercarpet\",\"marker\":{\"colorbar\":{\"outlinewidth\":0,\"ticks\":\"\"}}}],\"carpet\":[{\"aaxis\":{\"endlinecolor\":\"#2a3f5f\",\"gridcolor\":\"white\",\"linecolor\":\"white\",\"minorgridcolor\":\"white\",\"startlinecolor\":\"#2a3f5f\"},\"baxis\":{\"endlinecolor\":\"#2a3f5f\",\"gridcolor\":\"white\",\"linecolor\":\"white\",\"minorgridcolor\":\"white\",\"startlinecolor\":\"#2a3f5f\"},\"type\":\"carpet\"}],\"table\":[{\"cells\":{\"fill\":{\"color\":\"#EBF0F8\"},\"line\":{\"color\":\"white\"}},\"header\":{\"fill\":{\"color\":\"#C8D4E3\"},\"line\":{\"color\":\"white\"}},\"type\":\"table\"}],\"barpolar\":[{\"marker\":{\"line\":{\"color\":\"#E5ECF6\",\"width\":0.5},\"pattern\":{\"fillmode\":\"overlay\",\"size\":10,\"solidity\":0.2}},\"type\":\"barpolar\"}],\"pie\":[{\"automargin\":true,\"type\":\"pie\"}]},\"layout\":{\"autotypenumbers\":\"strict\",\"colorway\":[\"#636efa\",\"#EF553B\",\"#00cc96\",\"#ab63fa\",\"#FFA15A\",\"#19d3f3\",\"#FF6692\",\"#B6E880\",\"#FF97FF\",\"#FECB52\"],\"font\":{\"color\":\"#2a3f5f\"},\"hovermode\":\"closest\",\"hoverlabel\":{\"align\":\"left\"},\"paper_bgcolor\":\"white\",\"plot_bgcolor\":\"#E5ECF6\",\"polar\":{\"bgcolor\":\"#E5ECF6\",\"angularaxis\":{\"gridcolor\":\"white\",\"linecolor\":\"white\",\"ticks\":\"\"},\"radialaxis\":{\"gridcolor\":\"white\",\"linecolor\":\"white\",\"ticks\":\"\"}},\"ternary\":{\"bgcolor\":\"#E5ECF6\",\"aaxis\":{\"gridcolor\":\"white\",\"linecolor\":\"white\",\"ticks\":\"\"},\"baxis\":{\"gridcolor\":\"white\",\"linecolor\":\"white\",\"ticks\":\"\"},\"caxis\":{\"gridcolor\":\"white\",\"linecolor\":\"white\",\"ticks\":\"\"}},\"coloraxis\":{\"colorbar\":{\"outlinewidth\":0,\"ticks\":\"\"}},\"colorscale\":{\"sequential\":[[0.0,\"#0d0887\"],[0.1111111111111111,\"#46039f\"],[0.2222222222222222,\"#7201a8\"],[0.3333333333333333,\"#9c179e\"],[0.4444444444444444,\"#bd3786\"],[0.5555555555555556,\"#d8576b\"],[0.6666666666666666,\"#ed7953\"],[0.7777777777777778,\"#fb9f3a\"],[0.8888888888888888,\"#fdca26\"],[1.0,\"#f0f921\"]],\"sequentialminus\":[[0.0,\"#0d0887\"],[0.1111111111111111,\"#46039f\"],[0.2222222222222222,\"#7201a8\"],[0.3333333333333333,\"#9c179e\"],[0.4444444444444444,\"#bd3786\"],[0.5555555555555556,\"#d8576b\"],[0.6666666666666666,\"#ed7953\"],[0.7777777777777778,\"#fb9f3a\"],[0.8888888888888888,\"#fdca26\"],[1.0,\"#f0f921\"]],\"diverging\":[[0,\"#8e0152\"],[0.1,\"#c51b7d\"],[0.2,\"#de77ae\"],[0.3,\"#f1b6da\"],[0.4,\"#fde0ef\"],[0.5,\"#f7f7f7\"],[0.6,\"#e6f5d0\"],[0.7,\"#b8e186\"],[0.8,\"#7fbc41\"],[0.9,\"#4d9221\"],[1,\"#276419\"]]},\"xaxis\":{\"gridcolor\":\"white\",\"linecolor\":\"white\",\"ticks\":\"\",\"title\":{\"standoff\":15},\"zerolinecolor\":\"white\",\"automargin\":true,\"zerolinewidth\":2},\"yaxis\":{\"gridcolor\":\"white\",\"linecolor\":\"white\",\"ticks\":\"\",\"title\":{\"standoff\":15},\"zerolinecolor\":\"white\",\"automargin\":true,\"zerolinewidth\":2},\"scene\":{\"xaxis\":{\"backgroundcolor\":\"#E5ECF6\",\"gridcolor\":\"white\",\"linecolor\":\"white\",\"showbackground\":true,\"ticks\":\"\",\"zerolinecolor\":\"white\",\"gridwidth\":2},\"yaxis\":{\"backgroundcolor\":\"#E5ECF6\",\"gridcolor\":\"white\",\"linecolor\":\"white\",\"showbackground\":true,\"ticks\":\"\",\"zerolinecolor\":\"white\",\"gridwidth\":2},\"zaxis\":{\"backgroundcolor\":\"#E5ECF6\",\"gridcolor\":\"white\",\"linecolor\":\"white\",\"showbackground\":true,\"ticks\":\"\",\"zerolinecolor\":\"white\",\"gridwidth\":2}},\"shapedefaults\":{\"line\":{\"color\":\"#2a3f5f\"}},\"annotationdefaults\":{\"arrowcolor\":\"#2a3f5f\",\"arrowhead\":0,\"arrowwidth\":1},\"geo\":{\"bgcolor\":\"white\",\"landcolor\":\"#E5ECF6\",\"subunitcolor\":\"white\",\"showland\":true,\"showlakes\":true,\"lakecolor\":\"white\"},\"title\":{\"x\":0.05},\"mapbox\":{\"style\":\"light\"}}},\"geo\":{\"domain\":{\"x\":[0.0,1.0],\"y\":[0.0,1.0]},\"center\":{},\"projection\":{\"type\":\"natural earth\"},\"showframe\":false,\"showcoastlines\":true,\"bgcolor\":\"white\"},\"legend\":{\"tracegroupgap\":0},\"title\":{\"text\":\"Level 4 Travel Warnings: Average US Citizen Deaths per Region\"},\"margin\":{\"t\":60,\"b\":20,\"l\":20,\"r\":20},\"width\":1400,\"height\":850},                        {\"responsive\": true}                    ).then(function(){\n",
       "                            \n",
       "var gd = document.getElementById('50e37156-9851-4e0a-b741-70da0579e348');\n",
       "var x = new MutationObserver(function (mutations, observer) {{\n",
       "        var display = window.getComputedStyle(gd).display;\n",
       "        if (!display || display === 'none') {{\n",
       "            console.log([gd, 'removed!']);\n",
       "            Plotly.purge(gd);\n",
       "            observer.disconnect();\n",
       "        }}\n",
       "}});\n",
       "\n",
       "// Listen for the removal of the full notebook cells\n",
       "var notebookContainer = gd.closest('#notebook-container');\n",
       "if (notebookContainer) {{\n",
       "    x.observe(notebookContainer, {childList: true});\n",
       "}}\n",
       "\n",
       "// Listen for the clearing of the current output cell\n",
       "var outputEl = gd.closest('.output');\n",
       "if (outputEl) {{\n",
       "    x.observe(outputEl, {childList: true});\n",
       "}}\n",
       "\n",
       "                        })                };                });            </script>        </div>"
      ]
     },
     "metadata": {},
     "output_type": "display_data"
    }
   ],
   "source": [
    "import pandas as pd\n",
    "import plotly.express as px\n",
    "import plotly.graph_objects as go\n",
    "import pycountry_convert as pc\n",
    "\n",
    "# -------------------\n",
    "# 1. Load Travel Advisory Data\n",
    "# -------------------\n",
    "df = pd.read_csv(\"../../data/processed/Travel_Advisories_Processed.csv\")\n",
    "df.columns = df.columns.str.strip().str.lower().str.replace(\" \", \"_\")\n",
    "\n",
    "# -------------------\n",
    "# 2. Helper Functions: Map Country → Region\n",
    "# -------------------\n",
    "def get_region(country):\n",
    "    try:\n",
    "        code = pc.country_name_to_country_alpha2(country)\n",
    "        cont_code = pc.country_alpha2_to_continent_code(code)\n",
    "        return pc.convert_continent_code_to_continent_name(cont_code)\n",
    "    except:\n",
    "        return \"Other\"\n",
    "\n",
    "def normalize_region(region):\n",
    "    if region in [\"North America\", \"South America\", \"Central America\"]:\n",
    "        return \"Americas\"\n",
    "    elif region == \"Antarctica\":\n",
    "        return \"Other\"\n",
    "    return region\n",
    "\n",
    "# -------------------\n",
    "# 3. Assign Regions\n",
    "# -------------------\n",
    "df[\"region\"] = df[\"country\"].apply(get_region)\n",
    "df[\"region\"] = df[\"region\"].apply(normalize_region)\n",
    "\n",
    "# -------------------\n",
    "# 4. Filter for Level 4 Advisories Only\n",
    "# -------------------\n",
    "df_level4 = df[(df[\"advisory_level_number\"] == 4) & (df[\"region\"] != \"Other\")]\n",
    "\n",
    "# -------------------\n",
    "# 5. Region Coordinates for Bubble Centers\n",
    "# -------------------\n",
    "region_coords = {\n",
    "    \"Africa\": {\"lat\": 1.5, \"lon\": 20},\n",
    "    \"Asia\": {\"lat\": 30, \"lon\": 95},\n",
    "    \"Europe\": {\"lat\": 52, \"lon\": 15},\n",
    "    \"Americas\": {\"lat\": 15, \"lon\": -75},\n",
    "    \"Oceania\": {\"lat\": -10, \"lon\": 140}\n",
    "}\n",
    "\n",
    "# -------------------\n",
    "# 6. Load Deaths Data\n",
    "# -------------------\n",
    "merged = pd.read_csv(\"../../data/processed/us_citizen_deaths_overseas_processed.csv\")\n",
    "merged.columns = merged.columns.str.strip().str.lower().str.replace(\" \", \"_\")\n",
    "merged['country'] = merged['country'].str.lower()\n",
    "\n",
    "# Aggregate total deaths by country\n",
    "country_deaths = merged.groupby('country').size().reset_index(name='total_deaths')\n",
    "\n",
    "# -------------------\n",
    "# 7. Merge Level 4 Countries with Deaths\n",
    "# -------------------\n",
    "df_level4['country'] = df_level4['country'].str.lower()\n",
    "level4_with_deaths = pd.merge(df_level4, country_deaths, on='country', how='left')\n",
    "level4_with_deaths['total_deaths'] = level4_with_deaths['total_deaths'].fillna(0)\n",
    "\n",
    "# -------------------\n",
    "# 8. Group by Region\n",
    "# -------------------\n",
    "region_summary = level4_with_deaths.groupby('region').agg(\n",
    "    total_deaths=('total_deaths', 'sum'),\n",
    "    level4_country_count=('country', 'count')\n",
    ").reset_index()\n",
    "\n",
    "# Calculate Average Deaths per Level 4 Country\n",
    "region_summary['avg_deaths'] = region_summary['total_deaths'] / region_summary['level4_country_count']\n",
    "\n",
    "# -------------------\n",
    "# 9. Find the Region with Highest Average Deaths\n",
    "# -------------------\n",
    "highest_avg_region = region_summary.loc[region_summary['avg_deaths'].idxmax(), 'region']\n",
    "\n",
    "# -------------------\n",
    "# 10. Choropleth Map (Soft Red for Level 4 countries)\n",
    "# -------------------\n",
    "fig = px.choropleth(\n",
    "    df_level4,\n",
    "    locations=\"country\",\n",
    "    locationmode=\"country names\",\n",
    "    color_discrete_sequence=[\"#ffcccc\"],  # Soft Grayish Red\n",
    "    hover_name=\"country\",\n",
    "    title=\"Level 4 Travel Warnings: Average US Citizen Deaths per Region\"\n",
    ")\n",
    "\n",
    "# -------------------\n",
    "# 11. Add Region Bubbles\n",
    "# -------------------\n",
    "bubble_colors = []\n",
    "for r in region_summary['region']:\n",
    "    if r == highest_avg_region:\n",
    "        bubble_colors.append(\"#d62728\")  # Highlight color (deep red)\n",
    "    else:\n",
    "        bubble_colors.append(\"black\")  # Normal bubbles black\n",
    "\n",
    "region_bubbles = go.Scattergeo(\n",
    "    lat=[region_coords[r][\"lat\"] for r in region_summary['region']],\n",
    "    lon=[region_coords[r][\"lon\"] for r in region_summary['region']],\n",
    "    text=[f\"{r}<br>Avg Deaths: {round(d,1)}<br>Level 4 Countries: {c}\" \n",
    "          for r, d, c in zip(region_summary['region'], region_summary['avg_deaths'], region_summary['level4_country_count'])],\n",
    "    mode=\"markers+text\",\n",
    "    marker=dict(\n",
    "        size=[10 + d for d in region_summary['avg_deaths']],  # Bubble size based on avg deaths\n",
    "        color=bubble_colors,\n",
    "        line=dict(width=1, color=\"black\"),\n",
    "        symbol=\"circle\"\n",
    "    ),\n",
    "    textposition=\"top center\",\n",
    "    showlegend=False\n",
    ")\n",
    "\n",
    "fig.add_trace(region_bubbles)\n",
    "\n",
    "# -------------------\n",
    "# 12. Final Layout\n",
    "# -------------------\n",
    "fig.update_layout(\n",
    "    width=1400,\n",
    "    height=850,\n",
    "    geo=dict(\n",
    "        showframe=False,\n",
    "        showcoastlines=True,\n",
    "        projection_type=\"natural earth\",\n",
    "        bgcolor=\"white\"\n",
    "    ),\n",
    "    margin=dict(t=60, b=20, l=20, r=20)\n",
    ")\n",
    "\n",
    "# -------------------\n",
    "# 13. Save and Show\n",
    "# -------------------\n",
    "fig.write_html(\"../../img/final_regions_bubbles_avg.html\", include_plotlyjs=\"cdn\", full_html=True)\n",
    "fig.show()\n"
   ]
  },
  {
   "cell_type": "code",
   "execution_count": 47,
   "metadata": {},
   "outputs": [
    {
     "data": {
      "application/vnd.plotly.v1+json": {
       "config": {
        "plotlyServerURL": "https://plot.ly"
       },
       "data": [
        {
         "coloraxis": "coloraxis",
         "histfunc": "sum",
         "hovertemplate": "Year=%{x}<br>Travel Advisory Level=%{y}<br>sum of US Citizen Deaths=%{z}<extra></extra>",
         "name": "",
         "type": "histogram2d",
         "x": [
          "2002",
          "2002",
          "2002",
          "2002",
          "2003",
          "2003",
          "2003",
          "2003",
          "2004",
          "2004",
          "2004",
          "2004",
          "2005",
          "2005",
          "2005",
          "2005",
          "2006",
          "2006",
          "2006",
          "2006",
          "2007",
          "2007",
          "2007",
          "2007",
          "2008",
          "2008",
          "2008",
          "2008",
          "2009",
          "2009",
          "2009",
          "2009",
          "2010",
          "2010",
          "2010",
          "2010",
          "2011",
          "2011",
          "2011",
          "2011",
          "2012",
          "2012",
          "2012",
          "2012",
          "2013",
          "2013",
          "2013",
          "2013",
          "2014",
          "2014",
          "2014",
          "2015",
          "2015",
          "2015",
          "2016",
          "2016",
          "2016",
          "2017",
          "2018",
          "2018",
          "2019",
          "2019",
          "2019",
          "2019",
          "2020",
          "2020",
          "2020",
          "2020",
          "2021",
          "2021",
          "2021",
          "2021",
          "2022"
         ],
         "xaxis": "x",
         "xbingroup": "x",
         "y": [
          "1.0",
          "2.0",
          "3.0",
          "4.0",
          "1.0",
          "2.0",
          "3.0",
          "4.0",
          "1.0",
          "2.0",
          "3.0",
          "4.0",
          "1.0",
          "2.0",
          "3.0",
          "4.0",
          "1.0",
          "2.0",
          "3.0",
          "4.0",
          "1.0",
          "2.0",
          "3.0",
          "4.0",
          "1.0",
          "2.0",
          "3.0",
          "4.0",
          "1.0",
          "2.0",
          "3.0",
          "4.0",
          "1.0",
          "2.0",
          "3.0",
          "4.0",
          "1.0",
          "2.0",
          "3.0",
          "4.0",
          "1.0",
          "2.0",
          "3.0",
          "4.0",
          "1.0",
          "2.0",
          "3.0",
          "4.0",
          "1.0",
          "3.0",
          "4.0",
          "1.0",
          "2.0",
          "4.0",
          "1.0",
          "2.0",
          "3.0",
          "2.0",
          "1.0",
          "2.0",
          "1.0",
          "2.0",
          "3.0",
          "4.0",
          "1.0",
          "2.0",
          "3.0",
          "4.0",
          "1.0",
          "2.0",
          "3.0",
          "4.0",
          "2.0"
         ],
         "yaxis": "y",
         "ybingroup": "y",
         "z": [
          41,
          61,
          24,
          9,
          151,
          254,
          70,
          38,
          178,
          273,
          61,
          103,
          146,
          242,
          68,
          93,
          109,
          201,
          49,
          53,
          110,
          195,
          65,
          40,
          106,
          208,
          66,
          47,
          163,
          287,
          76,
          31,
          169,
          296,
          73,
          170,
          134,
          276,
          92,
          47,
          163,
          268,
          85,
          59,
          151,
          303,
          93,
          61,
          2,
          2,
          2,
          3,
          6,
          1,
          2,
          5,
          14,
          3,
          1,
          8,
          147,
          212,
          46,
          19,
          95,
          120,
          25,
          10,
          60,
          156,
          33,
          16,
          1
         ]
        }
       ],
       "layout": {
        "coloraxis": {
         "colorbar": {
          "title": {
           "text": "sum of US Citizen Deaths"
          }
         },
         "colorscale": [
          [
           0,
           "rgb(255,245,240)"
          ],
          [
           0.125,
           "rgb(254,224,210)"
          ],
          [
           0.25,
           "rgb(252,187,161)"
          ],
          [
           0.375,
           "rgb(252,146,114)"
          ],
          [
           0.5,
           "rgb(251,106,74)"
          ],
          [
           0.625,
           "rgb(239,59,44)"
          ],
          [
           0.75,
           "rgb(203,24,29)"
          ],
          [
           0.875,
           "rgb(165,15,21)"
          ],
          [
           1,
           "rgb(103,0,13)"
          ]
         ]
        },
        "height": 600,
        "legend": {
         "tracegroupgap": 0
        },
        "margin": {
         "b": 50,
         "l": 50,
         "r": 50,
         "t": 50
        },
        "template": {
         "data": {
          "bar": [
           {
            "error_x": {
             "color": "#2a3f5f"
            },
            "error_y": {
             "color": "#2a3f5f"
            },
            "marker": {
             "line": {
              "color": "#E5ECF6",
              "width": 0.5
             },
             "pattern": {
              "fillmode": "overlay",
              "size": 10,
              "solidity": 0.2
             }
            },
            "type": "bar"
           }
          ],
          "barpolar": [
           {
            "marker": {
             "line": {
              "color": "#E5ECF6",
              "width": 0.5
             },
             "pattern": {
              "fillmode": "overlay",
              "size": 10,
              "solidity": 0.2
             }
            },
            "type": "barpolar"
           }
          ],
          "carpet": [
           {
            "aaxis": {
             "endlinecolor": "#2a3f5f",
             "gridcolor": "white",
             "linecolor": "white",
             "minorgridcolor": "white",
             "startlinecolor": "#2a3f5f"
            },
            "baxis": {
             "endlinecolor": "#2a3f5f",
             "gridcolor": "white",
             "linecolor": "white",
             "minorgridcolor": "white",
             "startlinecolor": "#2a3f5f"
            },
            "type": "carpet"
           }
          ],
          "choropleth": [
           {
            "colorbar": {
             "outlinewidth": 0,
             "ticks": ""
            },
            "type": "choropleth"
           }
          ],
          "contour": [
           {
            "colorbar": {
             "outlinewidth": 0,
             "ticks": ""
            },
            "colorscale": [
             [
              0,
              "#0d0887"
             ],
             [
              0.1111111111111111,
              "#46039f"
             ],
             [
              0.2222222222222222,
              "#7201a8"
             ],
             [
              0.3333333333333333,
              "#9c179e"
             ],
             [
              0.4444444444444444,
              "#bd3786"
             ],
             [
              0.5555555555555556,
              "#d8576b"
             ],
             [
              0.6666666666666666,
              "#ed7953"
             ],
             [
              0.7777777777777778,
              "#fb9f3a"
             ],
             [
              0.8888888888888888,
              "#fdca26"
             ],
             [
              1,
              "#f0f921"
             ]
            ],
            "type": "contour"
           }
          ],
          "contourcarpet": [
           {
            "colorbar": {
             "outlinewidth": 0,
             "ticks": ""
            },
            "type": "contourcarpet"
           }
          ],
          "heatmap": [
           {
            "colorbar": {
             "outlinewidth": 0,
             "ticks": ""
            },
            "colorscale": [
             [
              0,
              "#0d0887"
             ],
             [
              0.1111111111111111,
              "#46039f"
             ],
             [
              0.2222222222222222,
              "#7201a8"
             ],
             [
              0.3333333333333333,
              "#9c179e"
             ],
             [
              0.4444444444444444,
              "#bd3786"
             ],
             [
              0.5555555555555556,
              "#d8576b"
             ],
             [
              0.6666666666666666,
              "#ed7953"
             ],
             [
              0.7777777777777778,
              "#fb9f3a"
             ],
             [
              0.8888888888888888,
              "#fdca26"
             ],
             [
              1,
              "#f0f921"
             ]
            ],
            "type": "heatmap"
           }
          ],
          "heatmapgl": [
           {
            "colorbar": {
             "outlinewidth": 0,
             "ticks": ""
            },
            "colorscale": [
             [
              0,
              "#0d0887"
             ],
             [
              0.1111111111111111,
              "#46039f"
             ],
             [
              0.2222222222222222,
              "#7201a8"
             ],
             [
              0.3333333333333333,
              "#9c179e"
             ],
             [
              0.4444444444444444,
              "#bd3786"
             ],
             [
              0.5555555555555556,
              "#d8576b"
             ],
             [
              0.6666666666666666,
              "#ed7953"
             ],
             [
              0.7777777777777778,
              "#fb9f3a"
             ],
             [
              0.8888888888888888,
              "#fdca26"
             ],
             [
              1,
              "#f0f921"
             ]
            ],
            "type": "heatmapgl"
           }
          ],
          "histogram": [
           {
            "marker": {
             "pattern": {
              "fillmode": "overlay",
              "size": 10,
              "solidity": 0.2
             }
            },
            "type": "histogram"
           }
          ],
          "histogram2d": [
           {
            "colorbar": {
             "outlinewidth": 0,
             "ticks": ""
            },
            "colorscale": [
             [
              0,
              "#0d0887"
             ],
             [
              0.1111111111111111,
              "#46039f"
             ],
             [
              0.2222222222222222,
              "#7201a8"
             ],
             [
              0.3333333333333333,
              "#9c179e"
             ],
             [
              0.4444444444444444,
              "#bd3786"
             ],
             [
              0.5555555555555556,
              "#d8576b"
             ],
             [
              0.6666666666666666,
              "#ed7953"
             ],
             [
              0.7777777777777778,
              "#fb9f3a"
             ],
             [
              0.8888888888888888,
              "#fdca26"
             ],
             [
              1,
              "#f0f921"
             ]
            ],
            "type": "histogram2d"
           }
          ],
          "histogram2dcontour": [
           {
            "colorbar": {
             "outlinewidth": 0,
             "ticks": ""
            },
            "colorscale": [
             [
              0,
              "#0d0887"
             ],
             [
              0.1111111111111111,
              "#46039f"
             ],
             [
              0.2222222222222222,
              "#7201a8"
             ],
             [
              0.3333333333333333,
              "#9c179e"
             ],
             [
              0.4444444444444444,
              "#bd3786"
             ],
             [
              0.5555555555555556,
              "#d8576b"
             ],
             [
              0.6666666666666666,
              "#ed7953"
             ],
             [
              0.7777777777777778,
              "#fb9f3a"
             ],
             [
              0.8888888888888888,
              "#fdca26"
             ],
             [
              1,
              "#f0f921"
             ]
            ],
            "type": "histogram2dcontour"
           }
          ],
          "mesh3d": [
           {
            "colorbar": {
             "outlinewidth": 0,
             "ticks": ""
            },
            "type": "mesh3d"
           }
          ],
          "parcoords": [
           {
            "line": {
             "colorbar": {
              "outlinewidth": 0,
              "ticks": ""
             }
            },
            "type": "parcoords"
           }
          ],
          "pie": [
           {
            "automargin": true,
            "type": "pie"
           }
          ],
          "scatter": [
           {
            "fillpattern": {
             "fillmode": "overlay",
             "size": 10,
             "solidity": 0.2
            },
            "type": "scatter"
           }
          ],
          "scatter3d": [
           {
            "line": {
             "colorbar": {
              "outlinewidth": 0,
              "ticks": ""
             }
            },
            "marker": {
             "colorbar": {
              "outlinewidth": 0,
              "ticks": ""
             }
            },
            "type": "scatter3d"
           }
          ],
          "scattercarpet": [
           {
            "marker": {
             "colorbar": {
              "outlinewidth": 0,
              "ticks": ""
             }
            },
            "type": "scattercarpet"
           }
          ],
          "scattergeo": [
           {
            "marker": {
             "colorbar": {
              "outlinewidth": 0,
              "ticks": ""
             }
            },
            "type": "scattergeo"
           }
          ],
          "scattergl": [
           {
            "marker": {
             "colorbar": {
              "outlinewidth": 0,
              "ticks": ""
             }
            },
            "type": "scattergl"
           }
          ],
          "scattermapbox": [
           {
            "marker": {
             "colorbar": {
              "outlinewidth": 0,
              "ticks": ""
             }
            },
            "type": "scattermapbox"
           }
          ],
          "scatterpolar": [
           {
            "marker": {
             "colorbar": {
              "outlinewidth": 0,
              "ticks": ""
             }
            },
            "type": "scatterpolar"
           }
          ],
          "scatterpolargl": [
           {
            "marker": {
             "colorbar": {
              "outlinewidth": 0,
              "ticks": ""
             }
            },
            "type": "scatterpolargl"
           }
          ],
          "scatterternary": [
           {
            "marker": {
             "colorbar": {
              "outlinewidth": 0,
              "ticks": ""
             }
            },
            "type": "scatterternary"
           }
          ],
          "surface": [
           {
            "colorbar": {
             "outlinewidth": 0,
             "ticks": ""
            },
            "colorscale": [
             [
              0,
              "#0d0887"
             ],
             [
              0.1111111111111111,
              "#46039f"
             ],
             [
              0.2222222222222222,
              "#7201a8"
             ],
             [
              0.3333333333333333,
              "#9c179e"
             ],
             [
              0.4444444444444444,
              "#bd3786"
             ],
             [
              0.5555555555555556,
              "#d8576b"
             ],
             [
              0.6666666666666666,
              "#ed7953"
             ],
             [
              0.7777777777777778,
              "#fb9f3a"
             ],
             [
              0.8888888888888888,
              "#fdca26"
             ],
             [
              1,
              "#f0f921"
             ]
            ],
            "type": "surface"
           }
          ],
          "table": [
           {
            "cells": {
             "fill": {
              "color": "#EBF0F8"
             },
             "line": {
              "color": "white"
             }
            },
            "header": {
             "fill": {
              "color": "#C8D4E3"
             },
             "line": {
              "color": "white"
             }
            },
            "type": "table"
           }
          ]
         },
         "layout": {
          "annotationdefaults": {
           "arrowcolor": "#2a3f5f",
           "arrowhead": 0,
           "arrowwidth": 1
          },
          "autotypenumbers": "strict",
          "coloraxis": {
           "colorbar": {
            "outlinewidth": 0,
            "ticks": ""
           }
          },
          "colorscale": {
           "diverging": [
            [
             0,
             "#8e0152"
            ],
            [
             0.1,
             "#c51b7d"
            ],
            [
             0.2,
             "#de77ae"
            ],
            [
             0.3,
             "#f1b6da"
            ],
            [
             0.4,
             "#fde0ef"
            ],
            [
             0.5,
             "#f7f7f7"
            ],
            [
             0.6,
             "#e6f5d0"
            ],
            [
             0.7,
             "#b8e186"
            ],
            [
             0.8,
             "#7fbc41"
            ],
            [
             0.9,
             "#4d9221"
            ],
            [
             1,
             "#276419"
            ]
           ],
           "sequential": [
            [
             0,
             "#0d0887"
            ],
            [
             0.1111111111111111,
             "#46039f"
            ],
            [
             0.2222222222222222,
             "#7201a8"
            ],
            [
             0.3333333333333333,
             "#9c179e"
            ],
            [
             0.4444444444444444,
             "#bd3786"
            ],
            [
             0.5555555555555556,
             "#d8576b"
            ],
            [
             0.6666666666666666,
             "#ed7953"
            ],
            [
             0.7777777777777778,
             "#fb9f3a"
            ],
            [
             0.8888888888888888,
             "#fdca26"
            ],
            [
             1,
             "#f0f921"
            ]
           ],
           "sequentialminus": [
            [
             0,
             "#0d0887"
            ],
            [
             0.1111111111111111,
             "#46039f"
            ],
            [
             0.2222222222222222,
             "#7201a8"
            ],
            [
             0.3333333333333333,
             "#9c179e"
            ],
            [
             0.4444444444444444,
             "#bd3786"
            ],
            [
             0.5555555555555556,
             "#d8576b"
            ],
            [
             0.6666666666666666,
             "#ed7953"
            ],
            [
             0.7777777777777778,
             "#fb9f3a"
            ],
            [
             0.8888888888888888,
             "#fdca26"
            ],
            [
             1,
             "#f0f921"
            ]
           ]
          },
          "colorway": [
           "#636efa",
           "#EF553B",
           "#00cc96",
           "#ab63fa",
           "#FFA15A",
           "#19d3f3",
           "#FF6692",
           "#B6E880",
           "#FF97FF",
           "#FECB52"
          ],
          "font": {
           "color": "#2a3f5f"
          },
          "geo": {
           "bgcolor": "white",
           "lakecolor": "white",
           "landcolor": "#E5ECF6",
           "showlakes": true,
           "showland": true,
           "subunitcolor": "white"
          },
          "hoverlabel": {
           "align": "left"
          },
          "hovermode": "closest",
          "mapbox": {
           "style": "light"
          },
          "paper_bgcolor": "white",
          "plot_bgcolor": "#E5ECF6",
          "polar": {
           "angularaxis": {
            "gridcolor": "white",
            "linecolor": "white",
            "ticks": ""
           },
           "bgcolor": "#E5ECF6",
           "radialaxis": {
            "gridcolor": "white",
            "linecolor": "white",
            "ticks": ""
           }
          },
          "scene": {
           "xaxis": {
            "backgroundcolor": "#E5ECF6",
            "gridcolor": "white",
            "gridwidth": 2,
            "linecolor": "white",
            "showbackground": true,
            "ticks": "",
            "zerolinecolor": "white"
           },
           "yaxis": {
            "backgroundcolor": "#E5ECF6",
            "gridcolor": "white",
            "gridwidth": 2,
            "linecolor": "white",
            "showbackground": true,
            "ticks": "",
            "zerolinecolor": "white"
           },
           "zaxis": {
            "backgroundcolor": "#E5ECF6",
            "gridcolor": "white",
            "gridwidth": 2,
            "linecolor": "white",
            "showbackground": true,
            "ticks": "",
            "zerolinecolor": "white"
           }
          },
          "shapedefaults": {
           "line": {
            "color": "#2a3f5f"
           }
          },
          "ternary": {
           "aaxis": {
            "gridcolor": "white",
            "linecolor": "white",
            "ticks": ""
           },
           "baxis": {
            "gridcolor": "white",
            "linecolor": "white",
            "ticks": ""
           },
           "bgcolor": "#E5ECF6",
           "caxis": {
            "gridcolor": "white",
            "linecolor": "white",
            "ticks": ""
           }
          },
          "title": {
           "x": 0.05
          },
          "xaxis": {
           "automargin": true,
           "gridcolor": "white",
           "linecolor": "white",
           "ticks": "",
           "title": {
            "standoff": 15
           },
           "zerolinecolor": "white",
           "zerolinewidth": 2
          },
          "yaxis": {
           "automargin": true,
           "gridcolor": "white",
           "linecolor": "white",
           "ticks": "",
           "title": {
            "standoff": 15
           },
           "zerolinecolor": "white",
           "zerolinewidth": 2
          }
         }
        },
        "title": {
         "text": "US Citizen Deaths by Travel Advisory Level and Year (Discrete Grid)"
        },
        "width": 1200,
        "xaxis": {
         "anchor": "y",
         "autorange": true,
         "domain": [
          0,
          1
         ],
         "range": [
          -0.5,
          20.5
         ],
         "title": {
          "text": "Year"
         },
         "type": "category"
        },
        "yaxis": {
         "anchor": "x",
         "autorange": true,
         "domain": [
          0,
          1
         ],
         "range": [
          3.5,
          -0.5
         ],
         "title": {
          "text": "Travel Advisory Level"
         },
         "type": "category"
        }
       }
      },
      "image/png": "[encoded data removed]",
      "text/html": [
       "<div>                            <div id=\"bcdabd21-1f6f-4495-b978-088bd7d3d549\" class=\"plotly-graph-div\" style=\"height:600px; width:1200px;\"></div>            <script type=\"text/javascript\">                require([\"plotly\"], function(Plotly) {                    window.PLOTLYENV=window.PLOTLYENV || {};                                    if (document.getElementById(\"bcdabd21-1f6f-4495-b978-088bd7d3d549\")) {                    Plotly.newPlot(                        \"bcdabd21-1f6f-4495-b978-088bd7d3d549\",                        [{\"coloraxis\":\"coloraxis\",\"histfunc\":\"sum\",\"hovertemplate\":\"Year=%{x}<br>Travel Advisory Level=%{y}<br>sum of US Citizen Deaths=%{z}<extra></extra>\",\"name\":\"\",\"x\":[\"2002\",\"2002\",\"2002\",\"2002\",\"2003\",\"2003\",\"2003\",\"2003\",\"2004\",\"2004\",\"2004\",\"2004\",\"2005\",\"2005\",\"2005\",\"2005\",\"2006\",\"2006\",\"2006\",\"2006\",\"2007\",\"2007\",\"2007\",\"2007\",\"2008\",\"2008\",\"2008\",\"2008\",\"2009\",\"2009\",\"2009\",\"2009\",\"2010\",\"2010\",\"2010\",\"2010\",\"2011\",\"2011\",\"2011\",\"2011\",\"2012\",\"2012\",\"2012\",\"2012\",\"2013\",\"2013\",\"2013\",\"2013\",\"2014\",\"2014\",\"2014\",\"2015\",\"2015\",\"2015\",\"2016\",\"2016\",\"2016\",\"2017\",\"2018\",\"2018\",\"2019\",\"2019\",\"2019\",\"2019\",\"2020\",\"2020\",\"2020\",\"2020\",\"2021\",\"2021\",\"2021\",\"2021\",\"2022\"],\"xaxis\":\"x\",\"xbingroup\":\"x\",\"y\":[\"1.0\",\"2.0\",\"3.0\",\"4.0\",\"1.0\",\"2.0\",\"3.0\",\"4.0\",\"1.0\",\"2.0\",\"3.0\",\"4.0\",\"1.0\",\"2.0\",\"3.0\",\"4.0\",\"1.0\",\"2.0\",\"3.0\",\"4.0\",\"1.0\",\"2.0\",\"3.0\",\"4.0\",\"1.0\",\"2.0\",\"3.0\",\"4.0\",\"1.0\",\"2.0\",\"3.0\",\"4.0\",\"1.0\",\"2.0\",\"3.0\",\"4.0\",\"1.0\",\"2.0\",\"3.0\",\"4.0\",\"1.0\",\"2.0\",\"3.0\",\"4.0\",\"1.0\",\"2.0\",\"3.0\",\"4.0\",\"1.0\",\"3.0\",\"4.0\",\"1.0\",\"2.0\",\"4.0\",\"1.0\",\"2.0\",\"3.0\",\"2.0\",\"1.0\",\"2.0\",\"1.0\",\"2.0\",\"3.0\",\"4.0\",\"1.0\",\"2.0\",\"3.0\",\"4.0\",\"1.0\",\"2.0\",\"3.0\",\"4.0\",\"2.0\"],\"yaxis\":\"y\",\"ybingroup\":\"y\",\"z\":[41,61,24,9,151,254,70,38,178,273,61,103,146,242,68,93,109,201,49,53,110,195,65,40,106,208,66,47,163,287,76,31,169,296,73,170,134,276,92,47,163,268,85,59,151,303,93,61,2,2,2,3,6,1,2,5,14,3,1,8,147,212,46,19,95,120,25,10,60,156,33,16,1],\"type\":\"histogram2d\"}],                        {\"template\":{\"data\":{\"histogram2dcontour\":[{\"type\":\"histogram2dcontour\",\"colorbar\":{\"outlinewidth\":0,\"ticks\":\"\"},\"colorscale\":[[0.0,\"#0d0887\"],[0.1111111111111111,\"#46039f\"],[0.2222222222222222,\"#7201a8\"],[0.3333333333333333,\"#9c179e\"],[0.4444444444444444,\"#bd3786\"],[0.5555555555555556,\"#d8576b\"],[0.6666666666666666,\"#ed7953\"],[0.7777777777777778,\"#fb9f3a\"],[0.8888888888888888,\"#fdca26\"],[1.0,\"#f0f921\"]]}],\"choropleth\":[{\"type\":\"choropleth\",\"colorbar\":{\"outlinewidth\":0,\"ticks\":\"\"}}],\"histogram2d\":[{\"type\":\"histogram2d\",\"colorbar\":{\"outlinewidth\":0,\"ticks\":\"\"},\"colorscale\":[[0.0,\"#0d0887\"],[0.1111111111111111,\"#46039f\"],[0.2222222222222222,\"#7201a8\"],[0.3333333333333333,\"#9c179e\"],[0.4444444444444444,\"#bd3786\"],[0.5555555555555556,\"#d8576b\"],[0.6666666666666666,\"#ed7953\"],[0.7777777777777778,\"#fb9f3a\"],[0.8888888888888888,\"#fdca26\"],[1.0,\"#f0f921\"]]}],\"heatmap\":[{\"type\":\"heatmap\",\"colorbar\":{\"outlinewidth\":0,\"ticks\":\"\"},\"colorscale\":[[0.0,\"#0d0887\"],[0.1111111111111111,\"#46039f\"],[0.2222222222222222,\"#7201a8\"],[0.3333333333333333,\"#9c179e\"],[0.4444444444444444,\"#bd3786\"],[0.5555555555555556,\"#d8576b\"],[0.6666666666666666,\"#ed7953\"],[0.7777777777777778,\"#fb9f3a\"],[0.8888888888888888,\"#fdca26\"],[1.0,\"#f0f921\"]]}],\"heatmapgl\":[{\"type\":\"heatmapgl\",\"colorbar\":{\"outlinewidth\":0,\"ticks\":\"\"},\"colorscale\":[[0.0,\"#0d0887\"],[0.1111111111111111,\"#46039f\"],[0.2222222222222222,\"#7201a8\"],[0.3333333333333333,\"#9c179e\"],[0.4444444444444444,\"#bd3786\"],[0.5555555555555556,\"#d8576b\"],[0.6666666666666666,\"#ed7953\"],[0.7777777777777778,\"#fb9f3a\"],[0.8888888888888888,\"#fdca26\"],[1.0,\"#f0f921\"]]}],\"contourcarpet\":[{\"type\":\"contourcarpet\",\"colorbar\":{\"outlinewidth\":0,\"ticks\":\"\"}}],\"contour\":[{\"type\":\"contour\",\"colorbar\":{\"outlinewidth\":0,\"ticks\":\"\"},\"colorscale\":[[0.0,\"#0d0887\"],[0.1111111111111111,\"#46039f\"],[0.2222222222222222,\"#7201a8\"],[0.3333333333333333,\"#9c179e\"],[0.4444444444444444,\"#bd3786\"],[0.5555555555555556,\"#d8576b\"],[0.6666666666666666,\"#ed7953\"],[0.7777777777777778,\"#fb9f3a\"],[0.8888888888888888,\"#fdca26\"],[1.0,\"#f0f921\"]]}],\"surface\":[{\"type\":\"surface\",\"colorbar\":{\"outlinewidth\":0,\"ticks\":\"\"},\"colorscale\":[[0.0,\"#0d0887\"],[0.1111111111111111,\"#46039f\"],[0.2222222222222222,\"#7201a8\"],[0.3333333333333333,\"#9c179e\"],[0.4444444444444444,\"#bd3786\"],[0.5555555555555556,\"#d8576b\"],[0.6666666666666666,\"#ed7953\"],[0.7777777777777778,\"#fb9f3a\"],[0.8888888888888888,\"#fdca26\"],[1.0,\"#f0f921\"]]}],\"mesh3d\":[{\"type\":\"mesh3d\",\"colorbar\":{\"outlinewidth\":0,\"ticks\":\"\"}}],\"scatter\":[{\"fillpattern\":{\"fillmode\":\"overlay\",\"size\":10,\"solidity\":0.2},\"type\":\"scatter\"}],\"parcoords\":[{\"type\":\"parcoords\",\"line\":{\"colorbar\":{\"outlinewidth\":0,\"ticks\":\"\"}}}],\"scatterpolargl\":[{\"type\":\"scatterpolargl\",\"marker\":{\"colorbar\":{\"outlinewidth\":0,\"ticks\":\"\"}}}],\"bar\":[{\"error_x\":{\"color\":\"#2a3f5f\"},\"error_y\":{\"color\":\"#2a3f5f\"},\"marker\":{\"line\":{\"color\":\"#E5ECF6\",\"width\":0.5},\"pattern\":{\"fillmode\":\"overlay\",\"size\":10,\"solidity\":0.2}},\"type\":\"bar\"}],\"scattergeo\":[{\"type\":\"scattergeo\",\"marker\":{\"colorbar\":{\"outlinewidth\":0,\"ticks\":\"\"}}}],\"scatterpolar\":[{\"type\":\"scatterpolar\",\"marker\":{\"colorbar\":{\"outlinewidth\":0,\"ticks\":\"\"}}}],\"histogram\":[{\"marker\":{\"pattern\":{\"fillmode\":\"overlay\",\"size\":10,\"solidity\":0.2}},\"type\":\"histogram\"}],\"scattergl\":[{\"type\":\"scattergl\",\"marker\":{\"colorbar\":{\"outlinewidth\":0,\"ticks\":\"\"}}}],\"scatter3d\":[{\"type\":\"scatter3d\",\"line\":{\"colorbar\":{\"outlinewidth\":0,\"ticks\":\"\"}},\"marker\":{\"colorbar\":{\"outlinewidth\":0,\"ticks\":\"\"}}}],\"scattermapbox\":[{\"type\":\"scattermapbox\",\"marker\":{\"colorbar\":{\"outlinewidth\":0,\"ticks\":\"\"}}}],\"scatterternary\":[{\"type\":\"scatterternary\",\"marker\":{\"colorbar\":{\"outlinewidth\":0,\"ticks\":\"\"}}}],\"scattercarpet\":[{\"type\":\"scattercarpet\",\"marker\":{\"colorbar\":{\"outlinewidth\":0,\"ticks\":\"\"}}}],\"carpet\":[{\"aaxis\":{\"endlinecolor\":\"#2a3f5f\",\"gridcolor\":\"white\",\"linecolor\":\"white\",\"minorgridcolor\":\"white\",\"startlinecolor\":\"#2a3f5f\"},\"baxis\":{\"endlinecolor\":\"#2a3f5f\",\"gridcolor\":\"white\",\"linecolor\":\"white\",\"minorgridcolor\":\"white\",\"startlinecolor\":\"#2a3f5f\"},\"type\":\"carpet\"}],\"table\":[{\"cells\":{\"fill\":{\"color\":\"#EBF0F8\"},\"line\":{\"color\":\"white\"}},\"header\":{\"fill\":{\"color\":\"#C8D4E3\"},\"line\":{\"color\":\"white\"}},\"type\":\"table\"}],\"barpolar\":[{\"marker\":{\"line\":{\"color\":\"#E5ECF6\",\"width\":0.5},\"pattern\":{\"fillmode\":\"overlay\",\"size\":10,\"solidity\":0.2}},\"type\":\"barpolar\"}],\"pie\":[{\"automargin\":true,\"type\":\"pie\"}]},\"layout\":{\"autotypenumbers\":\"strict\",\"colorway\":[\"#636efa\",\"#EF553B\",\"#00cc96\",\"#ab63fa\",\"#FFA15A\",\"#19d3f3\",\"#FF6692\",\"#B6E880\",\"#FF97FF\",\"#FECB52\"],\"font\":{\"color\":\"#2a3f5f\"},\"hovermode\":\"closest\",\"hoverlabel\":{\"align\":\"left\"},\"paper_bgcolor\":\"white\",\"plot_bgcolor\":\"#E5ECF6\",\"polar\":{\"bgcolor\":\"#E5ECF6\",\"angularaxis\":{\"gridcolor\":\"white\",\"linecolor\":\"white\",\"ticks\":\"\"},\"radialaxis\":{\"gridcolor\":\"white\",\"linecolor\":\"white\",\"ticks\":\"\"}},\"ternary\":{\"bgcolor\":\"#E5ECF6\",\"aaxis\":{\"gridcolor\":\"white\",\"linecolor\":\"white\",\"ticks\":\"\"},\"baxis\":{\"gridcolor\":\"white\",\"linecolor\":\"white\",\"ticks\":\"\"},\"caxis\":{\"gridcolor\":\"white\",\"linecolor\":\"white\",\"ticks\":\"\"}},\"coloraxis\":{\"colorbar\":{\"outlinewidth\":0,\"ticks\":\"\"}},\"colorscale\":{\"sequential\":[[0.0,\"#0d0887\"],[0.1111111111111111,\"#46039f\"],[0.2222222222222222,\"#7201a8\"],[0.3333333333333333,\"#9c179e\"],[0.4444444444444444,\"#bd3786\"],[0.5555555555555556,\"#d8576b\"],[0.6666666666666666,\"#ed7953\"],[0.7777777777777778,\"#fb9f3a\"],[0.8888888888888888,\"#fdca26\"],[1.0,\"#f0f921\"]],\"sequentialminus\":[[0.0,\"#0d0887\"],[0.1111111111111111,\"#46039f\"],[0.2222222222222222,\"#7201a8\"],[0.3333333333333333,\"#9c179e\"],[0.4444444444444444,\"#bd3786\"],[0.5555555555555556,\"#d8576b\"],[0.6666666666666666,\"#ed7953\"],[0.7777777777777778,\"#fb9f3a\"],[0.8888888888888888,\"#fdca26\"],[1.0,\"#f0f921\"]],\"diverging\":[[0,\"#8e0152\"],[0.1,\"#c51b7d\"],[0.2,\"#de77ae\"],[0.3,\"#f1b6da\"],[0.4,\"#fde0ef\"],[0.5,\"#f7f7f7\"],[0.6,\"#e6f5d0\"],[0.7,\"#b8e186\"],[0.8,\"#7fbc41\"],[0.9,\"#4d9221\"],[1,\"#276419\"]]},\"xaxis\":{\"gridcolor\":\"white\",\"linecolor\":\"white\",\"ticks\":\"\",\"title\":{\"standoff\":15},\"zerolinecolor\":\"white\",\"automargin\":true,\"zerolinewidth\":2},\"yaxis\":{\"gridcolor\":\"white\",\"linecolor\":\"white\",\"ticks\":\"\",\"title\":{\"standoff\":15},\"zerolinecolor\":\"white\",\"automargin\":true,\"zerolinewidth\":2},\"scene\":{\"xaxis\":{\"backgroundcolor\":\"#E5ECF6\",\"gridcolor\":\"white\",\"linecolor\":\"white\",\"showbackground\":true,\"ticks\":\"\",\"zerolinecolor\":\"white\",\"gridwidth\":2},\"yaxis\":{\"backgroundcolor\":\"#E5ECF6\",\"gridcolor\":\"white\",\"linecolor\":\"white\",\"showbackground\":true,\"ticks\":\"\",\"zerolinecolor\":\"white\",\"gridwidth\":2},\"zaxis\":{\"backgroundcolor\":\"#E5ECF6\",\"gridcolor\":\"white\",\"linecolor\":\"white\",\"showbackground\":true,\"ticks\":\"\",\"zerolinecolor\":\"white\",\"gridwidth\":2}},\"shapedefaults\":{\"line\":{\"color\":\"#2a3f5f\"}},\"annotationdefaults\":{\"arrowcolor\":\"#2a3f5f\",\"arrowhead\":0,\"arrowwidth\":1},\"geo\":{\"bgcolor\":\"white\",\"landcolor\":\"#E5ECF6\",\"subunitcolor\":\"white\",\"showland\":true,\"showlakes\":true,\"lakecolor\":\"white\"},\"title\":{\"x\":0.05},\"mapbox\":{\"style\":\"light\"}}},\"xaxis\":{\"anchor\":\"y\",\"domain\":[0.0,1.0],\"title\":{\"text\":\"Year\"},\"type\":\"category\"},\"yaxis\":{\"anchor\":\"x\",\"domain\":[0.0,1.0],\"title\":{\"text\":\"Travel Advisory Level\"},\"autorange\":\"reversed\"},\"coloraxis\":{\"colorbar\":{\"title\":{\"text\":\"sum of US Citizen Deaths\"}},\"colorscale\":[[0.0,\"rgb(255,245,240)\"],[0.125,\"rgb(254,224,210)\"],[0.25,\"rgb(252,187,161)\"],[0.375,\"rgb(252,146,114)\"],[0.5,\"rgb(251,106,74)\"],[0.625,\"rgb(239,59,44)\"],[0.75,\"rgb(203,24,29)\"],[0.875,\"rgb(165,15,21)\"],[1.0,\"rgb(103,0,13)\"]]},\"legend\":{\"tracegroupgap\":0},\"title\":{\"text\":\"US Citizen Deaths by Travel Advisory Level and Year (Discrete Grid)\"},\"margin\":{\"t\":50,\"b\":50,\"l\":50,\"r\":50},\"width\":1200,\"height\":600},                        {\"responsive\": true}                    ).then(function(){\n",
       "                            \n",
       "var gd = document.getElementById('bcdabd21-1f6f-4495-b978-088bd7d3d549');\n",
       "var x = new MutationObserver(function (mutations, observer) {{\n",
       "        var display = window.getComputedStyle(gd).display;\n",
       "        if (!display || display === 'none') {{\n",
       "            console.log([gd, 'removed!']);\n",
       "            Plotly.purge(gd);\n",
       "            observer.disconnect();\n",
       "        }}\n",
       "}});\n",
       "\n",
       "// Listen for the removal of the full notebook cells\n",
       "var notebookContainer = gd.closest('#notebook-container');\n",
       "if (notebookContainer) {{\n",
       "    x.observe(notebookContainer, {childList: true});\n",
       "}}\n",
       "\n",
       "// Listen for the clearing of the current output cell\n",
       "var outputEl = gd.closest('.output');\n",
       "if (outputEl) {{\n",
       "    x.observe(outputEl, {childList: true});\n",
       "}}\n",
       "\n",
       "                        })                };                });            </script>        </div>"
      ]
     },
     "metadata": {},
     "output_type": "display_data"
    }
   ],
   "source": [
    "import pandas as pd\n",
    "import plotly.express as px\n",
    "\n",
    "# -------------------\n",
    "# 1. Load Data\n",
    "# -------------------\n",
    "deaths = pd.read_csv(\"../../data/processed/us_citizen_deaths_overseas_processed.csv\")\n",
    "advisories = pd.read_csv(\"../../data/processed/Travel_Advisories_Processed.csv\")\n",
    "\n",
    "deaths.columns = deaths.columns.str.strip().str.lower().str.replace(\" \", \"_\")\n",
    "advisories.columns = advisories.columns.str.strip().str.lower().str.replace(\" \", \"_\")\n",
    "\n",
    "# -------------------\n",
    "# 2. Prepare Datasets\n",
    "# -------------------\n",
    "deaths['country'] = deaths['country'].str.lower()\n",
    "advisories['country'] = advisories['country'].str.lower()\n",
    "\n",
    "# Map advisory levels (latest available)\n",
    "advisory_map = advisories[['country', 'advisory_level_number']]\n",
    "\n",
    "# Merge deaths with advisory levels\n",
    "merged = pd.merge(deaths, advisory_map, on='country', how='left')\n",
    "merged = merged.dropna(subset=['advisory_level_number'])\n",
    "\n",
    "# -------------------\n",
    "# 3. Group by (year, advisory level)\n",
    "# -------------------\n",
    "heatmap_data = merged.groupby(['year', 'advisory_level_number']).size().reset_index(name='death_count')\n",
    "\n",
    "# -------------------\n",
    "# 4. Make BOTH year and advisory level DISCRETE\n",
    "# -------------------\n",
    "heatmap_data['advisory_level_number'] = heatmap_data['advisory_level_number'].astype(str)\n",
    "heatmap_data['year'] = heatmap_data['year'].astype(str)\n",
    "\n",
    "# -------------------\n",
    "# 5. Create Heatmap\n",
    "# -------------------\n",
    "fig = px.density_heatmap(\n",
    "    heatmap_data,\n",
    "    x=\"year\",\n",
    "    y=\"advisory_level_number\",\n",
    "    z=\"death_count\",\n",
    "    color_continuous_scale=\"Reds\",\n",
    "    labels={\n",
    "        \"year\": \"Year\",\n",
    "        \"advisory_level_number\": \"Travel Advisory Level\",\n",
    "        \"death_count\": \"US Citizen Deaths\"\n",
    "    },\n",
    "    title=\"US Citizen Deaths by Travel Advisory Level and Year (Discrete Grid)\"\n",
    ")\n",
    "\n",
    "fig.update_layout(\n",
    "    yaxis=dict(autorange=\"reversed\"),  # Level 1 at top, Level 4 at bottom\n",
    "    xaxis=dict(type=\"category\"),       # Force discrete x-axis\n",
    "    width=1200,\n",
    "    height=600,\n",
    "    margin=dict(t=50, b=50, l=50, r=50)\n",
    ")\n",
    "\n",
    "fig.show()\n",
    "\n"
   ]
  },
  {
   "cell_type": "code",
   "execution_count": null,
   "metadata": {},
   "outputs": [],
   "source": []
  }
 ],
 "metadata": {
  "kernelspec": {
   "display_name": "Python 3 (ipykernel)",
   "language": "python",
   "name": "python3"
  },
  "language_info": {
   "codemirror_mode": {
    "name": "ipython",
    "version": 3
   },
   "file_extension": ".py",
   "mimetype": "text/x-python",
   "name": "python",
   "nbconvert_exporter": "python",
   "pygments_lexer": "ipython3",
   "version": "3.11.7"
  }
 },
 "nbformat": 4,
 "nbformat_minor": 4
}
